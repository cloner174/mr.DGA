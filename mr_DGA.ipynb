{
  "nbformat": 4,
  "nbformat_minor": 0,
  "metadata": {
    "colab": {
      "provenance": [],
      "gpuType": "T4",
      "authorship_tag": "ABX9TyO7wMre02RdbdEaKNGU4OR9",
      "include_colab_link": true
    },
    "kernelspec": {
      "name": "python3",
      "display_name": "Python 3"
    },
    "language_info": {
      "name": "python"
    },
    "accelerator": "GPU"
  },
  "cells": [
    {
      "cell_type": "markdown",
      "metadata": {
        "id": "view-in-github",
        "colab_type": "text"
      },
      "source": [
        "<a href=\"https://colab.research.google.com/github/cloner174/mr.DGA/blob/main/mr_DGA.ipynb\" target=\"_parent\"><img src=\"https://colab.research.google.com/assets/colab-badge.svg\" alt=\"Open In Colab\"/></a>"
      ]
    },
    {
      "cell_type": "code",
      "execution_count": 1,
      "metadata": {
        "colab": {
          "base_uri": "https://localhost:8080/"
        },
        "id": "jJYnS3FsVFMf",
        "outputId": "ebb3c09a-ca5c-4207-a312-c5def8c89674"
      },
      "outputs": [
        {
          "output_type": "stream",
          "name": "stdout",
          "text": [
            "--2024-04-30 00:14:26--  https://www.filetolink.xyz/stream?id=W2FewpfCqMOlwqLCnsKbwqHCiVpewr7CqMKiwpDCoMKbwqdcWmTCj8Kuw6XDlsOgw47Dkg==&filename=dataset.csv\n",
            "Resolving www.filetolink.xyz (www.filetolink.xyz)... 104.21.94.124, 172.67.223.113, 2606:4700:3036::6815:5e7c, ...\n",
            "Connecting to www.filetolink.xyz (www.filetolink.xyz)|104.21.94.124|:443... connected.\n",
            "HTTP request sent, awaiting response... 200 OK\n",
            "Length: 300767719 (287M) [text/csv]\n",
            "Saving to: ‘stream?id=W2FewpfCqMOlwqLCnsKbwqHCiVpewr7CqMKiwpDCoMKbwqdcWmTCj8Kuw6XDlsOgw47Dkg==&filename=dataset.csv’\n",
            "\n",
            "stream?id=W2FewpfCq 100%[===================>] 286.83M  4.65MB/s    in 66s     \n",
            "\n",
            "2024-04-30 00:15:34 (4.33 MB/s) - ‘stream?id=W2FewpfCqMOlwqLCnsKbwqHCiVpewr7CqMKiwpDCoMKbwqdcWmTCj8Kuw6XDlsOgw47Dkg==&filename=dataset.csv’ saved [300767719/300767719]\n",
            "\n"
          ]
        }
      ],
      "source": [
        "!wget 'https://www.filetolink.xyz/stream?id=W2FewpfCqMOlwqLCnsKbwqHCiVpewr7CqMKiwpDCoMKbwqdcWmTCj8Kuw6XDlsOgw47Dkg==&filename=dataset.csv'"
      ]
    },
    {
      "cell_type": "code",
      "source": [
        "%pip install imutils opencv-python dlib opencv-python-headless pillow matplotlib face_recognition"
      ],
      "metadata": {
        "colab": {
          "base_uri": "https://localhost:8080/"
        },
        "id": "9RhO6p4EVkXw",
        "outputId": "bd0f0b20-5141-4325-c0f3-d76a7ee769d4"
      },
      "execution_count": 2,
      "outputs": [
        {
          "output_type": "stream",
          "name": "stdout",
          "text": [
            "Requirement already satisfied: imutils in /usr/local/lib/python3.10/dist-packages (0.5.4)\n",
            "Requirement already satisfied: opencv-python in /usr/local/lib/python3.10/dist-packages (4.8.0.76)\n",
            "Requirement already satisfied: dlib in /usr/local/lib/python3.10/dist-packages (19.24.4)\n",
            "Requirement already satisfied: opencv-python-headless in /usr/local/lib/python3.10/dist-packages (4.9.0.80)\n",
            "Requirement already satisfied: pillow in /usr/local/lib/python3.10/dist-packages (9.4.0)\n",
            "Requirement already satisfied: matplotlib in /usr/local/lib/python3.10/dist-packages (3.7.1)\n",
            "Collecting face_recognition\n",
            "  Downloading face_recognition-1.3.0-py2.py3-none-any.whl (15 kB)\n",
            "Requirement already satisfied: numpy>=1.21.2 in /usr/local/lib/python3.10/dist-packages (from opencv-python) (1.25.2)\n",
            "Requirement already satisfied: contourpy>=1.0.1 in /usr/local/lib/python3.10/dist-packages (from matplotlib) (1.2.1)\n",
            "Requirement already satisfied: cycler>=0.10 in /usr/local/lib/python3.10/dist-packages (from matplotlib) (0.12.1)\n",
            "Requirement already satisfied: fonttools>=4.22.0 in /usr/local/lib/python3.10/dist-packages (from matplotlib) (4.51.0)\n",
            "Requirement already satisfied: kiwisolver>=1.0.1 in /usr/local/lib/python3.10/dist-packages (from matplotlib) (1.4.5)\n",
            "Requirement already satisfied: packaging>=20.0 in /usr/local/lib/python3.10/dist-packages (from matplotlib) (24.0)\n",
            "Requirement already satisfied: pyparsing>=2.3.1 in /usr/local/lib/python3.10/dist-packages (from matplotlib) (3.1.2)\n",
            "Requirement already satisfied: python-dateutil>=2.7 in /usr/local/lib/python3.10/dist-packages (from matplotlib) (2.8.2)\n",
            "Collecting face-recognition-models>=0.3.0 (from face_recognition)\n",
            "  Downloading face_recognition_models-0.3.0.tar.gz (100.1 MB)\n",
            "\u001b[2K     \u001b[90m━━━━━━━━━━━━━━━━━━━━━━━━━━━━━━━━━━━━━━━━\u001b[0m \u001b[32m100.1/100.1 MB\u001b[0m \u001b[31m8.8 MB/s\u001b[0m eta \u001b[36m0:00:00\u001b[0m\n",
            "\u001b[?25h  Preparing metadata (setup.py) ... \u001b[?25l\u001b[?25hdone\n",
            "Requirement already satisfied: Click>=6.0 in /usr/local/lib/python3.10/dist-packages (from face_recognition) (8.1.7)\n",
            "Requirement already satisfied: six>=1.5 in /usr/local/lib/python3.10/dist-packages (from python-dateutil>=2.7->matplotlib) (1.16.0)\n",
            "Building wheels for collected packages: face-recognition-models\n",
            "  Building wheel for face-recognition-models (setup.py) ... \u001b[?25l\u001b[?25hdone\n",
            "  Created wheel for face-recognition-models: filename=face_recognition_models-0.3.0-py2.py3-none-any.whl size=100566170 sha256=c4391ac0890c3b7c781f8e7cc4693b39cc672fb3972bbb0691064169afc78ea0\n",
            "  Stored in directory: /root/.cache/pip/wheels/7a/eb/cf/e9eced74122b679557f597bb7c8e4c739cfcac526db1fd523d\n",
            "Successfully built face-recognition-models\n",
            "Installing collected packages: face-recognition-models, face_recognition\n",
            "Successfully installed face-recognition-models-0.3.0 face_recognition-1.3.0\n"
          ]
        }
      ]
    },
    {
      "cell_type": "code",
      "source": [
        "import pandas as pd\n",
        "import cv2\n",
        "import pandas as pd\n",
        "import face_recognition\n",
        "import numpy as np\n",
        "import os"
      ],
      "metadata": {
        "id": "ERViRFYkVkRQ"
      },
      "execution_count": 3,
      "outputs": []
    },
    {
      "cell_type": "code",
      "source": [
        "def strings_with_number_inside( data,\n",
        "                                    column_range_starts : int = 0,\n",
        "                                    column_range_ends : int = None,\n",
        "                                    seperator = None):\n",
        "        \"\"\"\n",
        "        Converts cells with type String contains a series of numbers separated with spaces to a Dictionary and Gives it back.\n",
        "        \"\"\"\n",
        "        start = column_range_starts\n",
        "        end = int( data.shape[1] ) if column_range_ends is None else column_range_ends  #Columns\n",
        "        # Split string and convert to uint8 numpy array\n",
        "        new_data = {}\n",
        "        if isinstance( data , pd.DataFrame ) :\n",
        "            for i in range( data.shape[0] ) :\n",
        "                temp_new_data = []\n",
        "                for j in range( start, end ) :\n",
        "                    # for each cell\n",
        "                    # Any exception should be modify by column_range_starts and column_range_ends!\n",
        "                    cells_real_values = np.array(data.iloc[i, j].split(sep = seperator), dtype='uint8')\n",
        "                    temp_new_data.append(cells_real_values)\n",
        "                new_data[i] = temp_new_data\n",
        "\n",
        "            return new_data\n",
        "        else:\n",
        "            if isinstance( data , np.array ) :\n",
        "                pass\n",
        "            else:\n",
        "                raise TypeError( \" data just could be  PandasDataFrame  or  NumpyArray  ! \")"
      ],
      "metadata": {
        "id": "nEa91traVkGo"
      },
      "execution_count": 4,
      "outputs": []
    },
    {
      "cell_type": "code",
      "source": [
        "# Load data\n",
        "csv_path = '/content/stream?id=W2FewpfCqMOlwqLCnsKbwqHCiVpewr7CqMKiwpDCoMKbwqdcWmTCj8Kuw6XDlsOgw47Dkg==&filename=dataset.csv'\n",
        "data = pd.read_csv(csv_path)"
      ],
      "metadata": {
        "id": "E62uOvrCV2UZ"
      },
      "execution_count": 6,
      "outputs": []
    },
    {
      "cell_type": "code",
      "source": [
        "# Path to save images\n",
        "face_directory = 'data/face_directory/'\n",
        "non_face_directory = 'data/non_face/'"
      ],
      "metadata": {
        "id": "xvkreRmvV3nH"
      },
      "execution_count": 7,
      "outputs": []
    },
    {
      "cell_type": "code",
      "source": [
        "data_pix = strings_with_number_inside(data, column_range_starts = 1)"
      ],
      "metadata": {
        "id": "M2wasgIVWRMe"
      },
      "execution_count": 8,
      "outputs": []
    },
    {
      "cell_type": "code",
      "source": [
        "\n",
        "\n",
        "# Define the image size\n",
        "image_size = (48, 48)  # height, width\n",
        "\n",
        "# Ensure directories exist\n",
        "os.makedirs(face_directory, exist_ok=True)\n",
        "os.makedirs(non_face_directory, exist_ok=True)\n",
        "\n",
        "# loop to process images\n",
        "for index, row in data_pix.items():\n",
        "    # Convert the row to a grayscale image\n",
        "    image_array = np.array(row, dtype=np.uint8).reshape(image_size[0], image_size[1])\n",
        "\n",
        "    # In face_recognition, the image should be in rgb even if it's grayscale\n",
        "    image_rgb = np.stack((image_array,) * 3, axis=-1)\n",
        "\n",
        "    # Detect faces in the image using face_recognition\n",
        "    face_locations = face_recognition.face_locations(image_rgb, model='cnn')  # using CNN model\n",
        "\n",
        "    # Process each face found\n",
        "    for face_location in face_locations:\n",
        "        top, right, bottom, left = face_location\n",
        "        face_image = image_array[top:bottom, left:right]  # Cropping the grayscale image directly\n",
        "        cv2.imwrite(os.path.join(face_directory, f'face_{index}.jpg'), face_image)\n",
        "\n",
        "    # If no faces are detected, save the full image to the non-face directory\n",
        "    if len(face_locations) == 0:\n",
        "        cv2.imwrite(os.path.join(non_face_directory, f'non_face_{index}.jpg'), image_array)\n",
        "\n",
        "print(\"Face cropping and saving completed.\")\n"
      ],
      "metadata": {
        "colab": {
          "base_uri": "https://localhost:8080/"
        },
        "id": "zpBqTo4QVjch",
        "outputId": "aa2afaca-209e-4906-b863-8af99abec25e"
      },
      "execution_count": 9,
      "outputs": [
        {
          "output_type": "stream",
          "name": "stdout",
          "text": [
            "Face cropping and saving completed.\n"
          ]
        }
      ]
    },
    {
      "cell_type": "code",
      "source": [
        "in_face_folder = os.listdir('/content/data/face_directory')"
      ],
      "metadata": {
        "id": "avf_Tr8uXUD0"
      },
      "execution_count": 10,
      "outputs": []
    },
    {
      "cell_type": "code",
      "source": [
        "non_face_folder = os.listdir('/content/data/non_face')"
      ],
      "metadata": {
        "id": "lQRQZpMhXd8t"
      },
      "execution_count": 12,
      "outputs": []
    },
    {
      "cell_type": "code",
      "source": [
        "len(in_face_folder)"
      ],
      "metadata": {
        "colab": {
          "base_uri": "https://localhost:8080/"
        },
        "id": "ewnlWIQFXaTE",
        "outputId": "a81bf233-e776-4e04-c0cc-09273d7ab3a9"
      },
      "execution_count": 11,
      "outputs": [
        {
          "output_type": "execute_result",
          "data": {
            "text/plain": [
              "31519"
            ]
          },
          "metadata": {},
          "execution_count": 11
        }
      ]
    },
    {
      "cell_type": "code",
      "source": [
        "len(non_face_folder)"
      ],
      "metadata": {
        "colab": {
          "base_uri": "https://localhost:8080/"
        },
        "id": "EACMp2dDXcxr",
        "outputId": "b134b5db-78a5-45fd-92b5-b0f0a5602275"
      },
      "execution_count": 13,
      "outputs": [
        {
          "output_type": "execute_result",
          "data": {
            "text/plain": [
              "4368"
            ]
          },
          "metadata": {},
          "execution_count": 13
        }
      ]
    },
    {
      "cell_type": "code",
      "source": [
        "!zip -r '/content/face_directory.zip' '/content/data/face_directory/'"
      ],
      "metadata": {
        "id": "VndlEpXZYIs1"
      },
      "execution_count": null,
      "outputs": []
    },
    {
      "cell_type": "code",
      "source": [
        "!zip -r '/content/non_face.zip' '/content/data/non_face'"
      ],
      "metadata": {
        "id": "-VlsbvyzYq9V"
      },
      "execution_count": null,
      "outputs": []
    },
    {
      "cell_type": "code",
      "source": [],
      "metadata": {
        "id": "FX_gLRPSalm4"
      },
      "execution_count": null,
      "outputs": []
    }
  ]
}