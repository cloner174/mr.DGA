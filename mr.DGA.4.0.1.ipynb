{
 "cells": [
  {
   "cell_type": "code",
   "execution_count": null,
   "metadata": {},
   "outputs": [],
   "source": [
    "!git clone https://github.com/cloner174/mr.DGA.git"
   ]
  },
  {
   "cell_type": "code",
   "execution_count": null,
   "metadata": {},
   "outputs": [],
   "source": [
    "%cd mr.DGA"
   ]
  },
  {
   "cell_type": "code",
   "execution_count": null,
   "metadata": {},
   "outputs": [],
   "source": [
    "#faces_ZIP_file_path_images -> 'data/output/pic/Faces-from-3.6.1.zip'\n",
    "#faces_ZIP_file_path_seperated_images -> 'data/output/pic/seperated-Faces-from-3.6.1.zip'"
   ]
  },
  {
   "cell_type": "code",
   "execution_count": null,
   "metadata": {},
   "outputs": [],
   "source": [
    "# Do Unzip jobs for \n",
    "#                       faces_ZIP_file_path_images\n",
    "#                       faces_ZIP_file_path_seperated_images"
   ]
  },
  {
   "cell_type": "code",
   "execution_count": null,
   "metadata": {},
   "outputs": [],
   "source": [
    "!unzip 'data/output/pic/Faces-from-3.6.1.zip'\n",
    "!unzip 'data/output/pic/seperated-Faces-from-3.6.1.zip'"
   ]
  },
  {
   "cell_type": "code",
   "execution_count": null,
   "metadata": {},
   "outputs": [],
   "source": [
    "#path to main working files:"
   ]
  },
  {
   "cell_type": "code",
   "execution_count": null,
   "metadata": {},
   "outputs": [],
   "source": [
    "faces_img_path = 'data/output/pic/Faces-from-3.6.1'\n",
    "faces_seperated_img_path_root = 'data/output/pic/seperated-Faces-from-3.6.1'\n",
    "emo_map_guide_path = 'data/output/csv/images_emo_map.csv'\n",
    "valid_data_path = 'data/output/csv/Data-Valid-from-3.6.1.csv.zip'"
   ]
  },
  {
   "cell_type": "code",
   "execution_count": 2,
   "metadata": {},
   "outputs": [
    {
     "name": "stdout",
     "output_type": "stream",
     "text": [
      "Defaulting to user installation because normal site-packages is not writeable\n",
      "Collecting mediapipe\n",
      "\u001b[33m  WARNING: Retrying (Retry(total=4, connect=None, read=None, redirect=None, status=None)) after connection broken by 'ReadTimeoutError(\"HTTPSConnectionPool(host='files.pythonhosted.org', port=443): Read timed out. (read timeout=15)\")': /packages/2f/ee/2e9e730dc4d98c8a9541b57bad173bebddf0e4c78f179acc100248c58066/mediapipe-0.10.14-cp311-cp311-manylinux_2_17_x86_64.manylinux2014_x86_64.whl.metadata\u001b[0m\u001b[33m\n",
      "\u001b[0m\u001b[33m  WARNING: Retrying (Retry(total=3, connect=None, read=None, redirect=None, status=None)) after connection broken by 'ReadTimeoutError(\"HTTPSConnectionPool(host='files.pythonhosted.org', port=443): Read timed out. (read timeout=15)\")': /packages/2f/ee/2e9e730dc4d98c8a9541b57bad173bebddf0e4c78f179acc100248c58066/mediapipe-0.10.14-cp311-cp311-manylinux_2_17_x86_64.manylinux2014_x86_64.whl.metadata\u001b[0m\u001b[33m\n",
      "\u001b[0m\u001b[33m  WARNING: Retrying (Retry(total=2, connect=None, read=None, redirect=None, status=None)) after connection broken by 'ReadTimeoutError(\"HTTPSConnectionPool(host='files.pythonhosted.org', port=443): Read timed out. (read timeout=15)\")': /packages/2f/ee/2e9e730dc4d98c8a9541b57bad173bebddf0e4c78f179acc100248c58066/mediapipe-0.10.14-cp311-cp311-manylinux_2_17_x86_64.manylinux2014_x86_64.whl.metadata\u001b[0m\u001b[33m\n",
      "\u001b[0m  Downloading mediapipe-0.10.14-cp311-cp311-manylinux_2_17_x86_64.manylinux2014_x86_64.whl.metadata (9.7 kB)\n",
      "Requirement already satisfied: absl-py in /home/user/.local/lib/python3.11/site-packages (from mediapipe) (2.1.0)\n",
      "Requirement already satisfied: attrs>=19.1.0 in /usr/lib/python3/dist-packages (from mediapipe) (23.2.0)\n",
      "Requirement already satisfied: flatbuffers>=2.0 in /home/user/.local/lib/python3.11/site-packages (from mediapipe) (24.3.25)\n",
      "Requirement already satisfied: jax in /home/user/.local/lib/python3.11/site-packages (from mediapipe) (0.4.26)\n",
      "Collecting jaxlib (from mediapipe)\n",
      "  Downloading jaxlib-0.4.28-cp311-cp311-manylinux2014_x86_64.whl.metadata (1.8 kB)\n",
      "Requirement already satisfied: matplotlib in /usr/lib/python3/dist-packages (from mediapipe) (3.6.3)\n",
      "Requirement already satisfied: numpy in /home/user/.local/lib/python3.11/site-packages (from mediapipe) (1.23.5)\n",
      "Collecting opencv-contrib-python (from mediapipe)\n",
      "  Downloading opencv_contrib_python-4.9.0.80-cp37-abi3-manylinux_2_17_x86_64.manylinux2014_x86_64.whl.metadata (20 kB)\n",
      "Requirement already satisfied: protobuf<5,>=4.25.3 in /home/user/.local/lib/python3.11/site-packages (from mediapipe) (4.25.3)\n",
      "Collecting sounddevice>=0.4.4 (from mediapipe)\n",
      "  Downloading sounddevice-0.4.6-py3-none-any.whl.metadata (1.4 kB)\n",
      "Requirement already satisfied: CFFI>=1.0 in /usr/lib/python3/dist-packages (from sounddevice>=0.4.4->mediapipe) (1.16.0)\n",
      "Requirement already satisfied: ml-dtypes>=0.2.0 in /home/user/.local/lib/python3.11/site-packages (from jax->mediapipe) (0.3.2)\n",
      "Requirement already satisfied: opt-einsum in /home/user/.local/lib/python3.11/site-packages (from jax->mediapipe) (3.3.0)\n",
      "Requirement already satisfied: scipy>=1.9 in /home/user/.local/lib/python3.11/site-packages (from jax->mediapipe) (1.13.0)\n",
      "Requirement already satisfied: pycparser in /usr/lib/python3/dist-packages (from CFFI>=1.0->sounddevice>=0.4.4->mediapipe) (2.22)\n",
      "Downloading mediapipe-0.10.14-cp311-cp311-manylinux_2_17_x86_64.manylinux2014_x86_64.whl (35.7 MB)\n",
      "\u001b[2K   \u001b[90m━━━━━━━━━━━━━━━━━━━━━━━━━━━━━━━━━━━━━━━━\u001b[0m \u001b[32m35.7/35.7 MB\u001b[0m \u001b[31m96.8 kB/s\u001b[0m eta \u001b[36m0:00:00\u001b[0m00:01\u001b[0m00:10\u001b[0mm\n",
      "\u001b[?25hDownloading sounddevice-0.4.6-py3-none-any.whl (31 kB)\n",
      "Downloading jaxlib-0.4.28-cp311-cp311-manylinux2014_x86_64.whl (77.5 MB)\n",
      "\u001b[2K   \u001b[90m━━━━━━━━━━━━━━━━━━━━━━━━━━━━━━━━━━━━━━━━\u001b[0m \u001b[32m77.5/77.5 MB\u001b[0m \u001b[31m90.6 kB/s\u001b[0m eta \u001b[36m0:00:00\u001b[0m00:01\u001b[0m00:24\u001b[0mm\n",
      "\u001b[?25hDownloading opencv_contrib_python-4.9.0.80-cp37-abi3-manylinux_2_17_x86_64.manylinux2014_x86_64.whl (68.3 MB)\n",
      "\u001b[2K   \u001b[90m━━━━━━━━━━━━━━━━━━━━━━━━━━━━━━━━━━━━━━━━\u001b[0m \u001b[32m68.3/68.3 MB\u001b[0m \u001b[31m105.7 kB/s\u001b[0m eta \u001b[36m0:00:00\u001b[0m00:01\u001b[0m0:18\u001b[0mm\n",
      "\u001b[?25hInstalling collected packages: opencv-contrib-python, sounddevice, jaxlib, mediapipe\n",
      "Successfully installed jaxlib-0.4.28 mediapipe-0.10.14 opencv-contrib-python-4.9.0.80 sounddevice-0.4.6\n",
      "Note: you may need to restart the kernel to use updated packages.\n"
     ]
    }
   ],
   "source": [
    "%pip install mediapipe"
   ]
  },
  {
   "cell_type": "code",
   "execution_count": 1,
   "metadata": {},
   "outputs": [
    {
     "ename": "ModuleNotFoundError",
     "evalue": "No module named 'mediapipe'",
     "output_type": "error",
     "traceback": [
      "\u001b[0;31m---------------------------------------------------------------------------\u001b[0m",
      "\u001b[0;31mModuleNotFoundError\u001b[0m                       Traceback (most recent call last)",
      "Cell \u001b[0;32mIn[1], line 7\u001b[0m\n\u001b[1;32m      5\u001b[0m \u001b[38;5;28;01mimport\u001b[39;00m \u001b[38;5;21;01mpandas\u001b[39;00m \u001b[38;5;28;01mas\u001b[39;00m \u001b[38;5;21;01mpd\u001b[39;00m\n\u001b[1;32m      6\u001b[0m \u001b[38;5;28;01mfrom\u001b[39;00m \u001b[38;5;21;01mPIL\u001b[39;00m \u001b[38;5;28;01mimport\u001b[39;00m Image\n\u001b[0;32m----> 7\u001b[0m \u001b[38;5;28;01mimport\u001b[39;00m \u001b[38;5;21;01mmediapipe\u001b[39;00m \u001b[38;5;28;01mas\u001b[39;00m \u001b[38;5;21;01mmp\u001b[39;00m\n\u001b[1;32m      8\u001b[0m \u001b[38;5;28;01mfrom\u001b[39;00m \u001b[38;5;21;01mmain\u001b[39;00m\u001b[38;5;21;01m.\u001b[39;00m\u001b[38;5;21;01mstats\u001b[39;00m \u001b[38;5;28;01mimport\u001b[39;00m Stats\n\u001b[1;32m      9\u001b[0m \u001b[38;5;28;01mfrom\u001b[39;00m \u001b[38;5;21;01mmain\u001b[39;00m \u001b[38;5;28;01mimport\u001b[39;00m Utilities\n",
      "\u001b[0;31mModuleNotFoundError\u001b[0m: No module named 'mediapipe'"
     ]
    }
   ],
   "source": [
    "import os\n",
    "import cv2\n",
    "import dlib\n",
    "import numpy as np\n",
    "import pandas as pd\n",
    "from PIL import Image\n",
    "import mediapipe as mp\n",
    "from main import Stats\n",
    "from main import Utilities\n",
    "import matplotlib.pyplot as plt\n",
    "from scipy.spatial import Delaunay\n",
    "#from google.colab.patches import cv2_imshow"
   ]
  },
  {
   "cell_type": "code",
   "execution_count": null,
   "metadata": {},
   "outputs": [],
   "source": [
    "print('path to faces folder: ' ,faces_img_path,'\\n')"
   ]
  },
  {
   "cell_type": "code",
   "execution_count": null,
   "metadata": {},
   "outputs": [],
   "source": [
    "name_of_imgs = os.listdir(faces_img_path)\n",
    "print(len(name_of_imgs), name_of_imgs[:6])"
   ]
  },
  {
   "cell_type": "code",
   "execution_count": null,
   "metadata": {},
   "outputs": [],
   "source": []
  },
  {
   "cell_type": "code",
   "execution_count": null,
   "metadata": {},
   "outputs": [],
   "source": [
    "def simple_img_show(path_to_root_img_directory,\n",
    "                    are_you_use_this_func_in_colab = False,\n",
    "                    max_i_lim = 20) :\n",
    "    \n",
    "    use_colab = are_you_use_this_func_in_colab\n",
    "    name_of_images = os.listdir(path_to_root_img_directory)\n",
    "    i_lim = 0\n",
    "    for name_of_image in name_of_images :\n",
    "        if i_lim == max_i_lim :\n",
    "            break\n",
    "        path_to_this_image = os.path.join(path_to_root_img_directory, name_of_image)\n",
    "        image = cv2.imread(path_to_this_image)\n",
    "        if use_colab:\n",
    "            from google.colab.patches import cv2_imshow\n",
    "            cv2_imshow(image)\n",
    "        else:\n",
    "            cv2.imshow(image)\n",
    "        i_lim += 1\n",
    "\n"
   ]
  },
  {
   "cell_type": "code",
   "execution_count": null,
   "metadata": {},
   "outputs": [],
   "source": [
    "for i in range(7) :#0 to 6 emotions\n",
    "    temp_path = os.path.join(faces_seperated_img_path_root, i)\n",
    "    simple_img_show(temp_path)"
   ]
  },
  {
   "cell_type": "code",
   "execution_count": null,
   "metadata": {},
   "outputs": [],
   "source": [
    "# predictor path :\n",
    "# frontal face detection object :"
   ]
  },
  {
   "cell_type": "code",
   "execution_count": null,
   "metadata": {},
   "outputs": [],
   "source": [
    "predictor_path = \"models/shape_predictor_68_face_landmarks.dat\"\n",
    "landmark_predictor = dlib.shape_predictor(predictor_path)\n",
    "\n",
    "face_detector = dlib.get_frontal_face_detector()"
   ]
  },
  {
   "cell_type": "code",
   "execution_count": null,
   "metadata": {},
   "outputs": [],
   "source": []
  },
  {
   "cell_type": "code",
   "execution_count": null,
   "metadata": {},
   "outputs": [],
   "source": []
  },
  {
   "cell_type": "code",
   "execution_count": null,
   "metadata": {},
   "outputs": [],
   "source": []
  },
  {
   "cell_type": "code",
   "execution_count": null,
   "metadata": {},
   "outputs": [],
   "source": []
  },
  {
   "cell_type": "code",
   "execution_count": null,
   "metadata": {},
   "outputs": [],
   "source": []
  },
  {
   "cell_type": "code",
   "execution_count": null,
   "metadata": {},
   "outputs": [],
   "source": []
  },
  {
   "cell_type": "code",
   "execution_count": null,
   "metadata": {},
   "outputs": [],
   "source": []
  },
  {
   "cell_type": "code",
   "execution_count": null,
   "metadata": {},
   "outputs": [],
   "source": []
  },
  {
   "cell_type": "code",
   "execution_count": null,
   "metadata": {},
   "outputs": [],
   "source": []
  },
  {
   "cell_type": "code",
   "execution_count": null,
   "metadata": {},
   "outputs": [],
   "source": []
  },
  {
   "cell_type": "code",
   "execution_count": null,
   "metadata": {},
   "outputs": [],
   "source": [
    "def draw_point(  point : tuple , \n",
    "                image, \n",
    "                n = 1,\n",
    "                m = 1, \n",
    "                forward_backward = False, \n",
    "                color = (0, 0, 255), \n",
    "                radius = 0, \n",
    "                thickness= -1 , \n",
    "                are_you_using_colab = True):\n",
    "    \n",
    "    (x, y) = point\n",
    "    x, y = int(x * image.shape[1]), int(y * image.shape[0])\n",
    "    for i in range(n):\n",
    "        x = x - 1\n",
    "        cv2.circle(image, (x, y), radius, color, thickness)\n",
    "    for i in range(m):\n",
    "        y = y + m     #y += 1\n",
    "        cv2.circle(image, (x, y), radius, color, thickness)\n",
    "    if not forward_backward:\n",
    "        pass\n",
    "    else:\n",
    "        for _ in range(n):\n",
    "            x = x + 1\n",
    "            cv2.circle(image, (x, y), radius, color, thickness)\n",
    "        for _ in range(m):\n",
    "            y = y - m\n",
    "            cv2.circle(image, (x, y), radius, color, thickness)\n",
    "        if are_you_using_colab:\n",
    "            cv2_imshow(image)\n",
    "        else:\n",
    "            cv2.imshow('Image with Point', image)\n",
    "            cv2.waitKey(0)\n",
    "            cv2.destroyAllWindows()"
   ]
  },
  {
   "cell_type": "code",
   "execution_count": null,
   "metadata": {},
   "outputs": [],
   "source": [
    "def simple_draw_point(  point : tuple , \n",
    "                        image, \n",
    "                        color = (0, 0, 255), \n",
    "                        radius = 1, \n",
    "                        thickness=-1 , \n",
    "                        are_you_using_colab = True):\n",
    "    (x, y) = point\n",
    "    x, y = int(x * image.shape[1]), int(y * image.shape[0])\n",
    "    cv2.circle(image, (x, y), radius, color, thickness)\n",
    "    if are_you_using_colab:\n",
    "        cv2_imshow(image)\n",
    "    else:\n",
    "        cv2.imshow('Image with Point', image)\n",
    "        cv2.waitKey(0)\n",
    "        cv2.destroyAllWindows()"
   ]
  }
 ],
 "metadata": {
  "kernelspec": {
   "display_name": "Python 3",
   "language": "python",
   "name": "python3"
  },
  "language_info": {
   "codemirror_mode": {
    "name": "ipython",
    "version": 3
   },
   "file_extension": ".py",
   "mimetype": "text/x-python",
   "name": "python",
   "nbconvert_exporter": "python",
   "pygments_lexer": "ipython3",
   "version": "3.11.8"
  }
 },
 "nbformat": 4,
 "nbformat_minor": 2
}
