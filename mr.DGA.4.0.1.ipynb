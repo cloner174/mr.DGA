{
 "cells": [
  {
   "cell_type": "code",
   "execution_count": null,
   "metadata": {},
   "outputs": [],
   "source": [
    "!git clone https://github.com/cloner174/mr.DGA.git"
   ]
  },
  {
   "cell_type": "code",
   "execution_count": null,
   "metadata": {},
   "outputs": [],
   "source": [
    "%cd mr.DGA"
   ]
  },
  {
   "cell_type": "code",
   "execution_count": null,
   "metadata": {},
   "outputs": [],
   "source": [
    "faces_ZIP_file_path_images = 'data/output/pic/Faces-from-3.6.1.zip'\n",
    "faces_ZIP_file_path_seperated_images = 'data/output/pic/seperated-Faces-from-3.6.1.zip'"
   ]
  },
  {
   "cell_type": "code",
   "execution_count": null,
   "metadata": {},
   "outputs": [],
   "source": [
    "# Do Unzip jobs for \n",
    "#                       faces_ZIP_file_path_images\n",
    "#                       faces_ZIP_file_path_seperated_images"
   ]
  },
  {
   "cell_type": "code",
   "execution_count": null,
   "metadata": {},
   "outputs": [],
   "source": [
    "!unzip 'data/output/pic/Faces-from-3.6.1.zip'\n",
    "!unzip 'data/output/pic/seperated-Faces-from-3.6.1.zip'"
   ]
  },
  {
   "cell_type": "code",
   "execution_count": null,
   "metadata": {},
   "outputs": [],
   "source": []
  },
  {
   "cell_type": "code",
   "execution_count": null,
   "metadata": {},
   "outputs": [],
   "source": [
    "faces_path_images = ''# need to be filled !\n",
    "faces_path_seperated_images_root = ''# need to be filled !\n",
    "faces_path_emo_map_guide = 'data/output/csv/images_emo_map.csv'\n",
    "faces_path_valid_data = 'data/output/csv/Data-Valid-from-3.6.1.csv.zip'"
   ]
  },
  {
   "cell_type": "code",
   "execution_count": null,
   "metadata": {},
   "outputs": [],
   "source": []
  },
  {
   "cell_type": "code",
   "execution_count": null,
   "metadata": {},
   "outputs": [],
   "source": [
    "import os\n",
    "import cv2\n",
    "import dlib\n",
    "import numpy as np\n",
    "import pandas as pd\n",
    "from PIL import Image\n",
    "import mediapipe as mp\n",
    "from main.stats import Stats\n",
    "from main import Utilities\n",
    "import matplotlib.pyplot as plt\n",
    "from scipy.spatial import Delaunay\n",
    "from google.colab.patches import cv2_imshow"
   ]
  }
 ],
 "metadata": {
  "kernelspec": {
   "display_name": "Python 3",
   "language": "python",
   "name": "python3"
  },
  "language_info": {
   "name": "python",
   "version": "3.11.8"
  }
 },
 "nbformat": 4,
 "nbformat_minor": 2
}
