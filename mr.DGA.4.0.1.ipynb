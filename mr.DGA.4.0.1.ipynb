{
 "cells": [
  {
   "cell_type": "code",
   "execution_count": null,
   "metadata": {},
   "outputs": [],
   "source": [
    "!git clone https://github.com/cloner174/mr.DGA.git"
   ]
  },
  {
   "cell_type": "code",
   "execution_count": null,
   "metadata": {},
   "outputs": [],
   "source": [
    "%cd mr.DGA"
   ]
  },
  {
   "cell_type": "code",
   "execution_count": null,
   "metadata": {},
   "outputs": [],
   "source": [
    "#faces_ZIP_file_path_images -> 'data/output/pic/Faces-from-3.6.1.zip'\n",
    "#faces_ZIP_file_path_seperated_images -> 'data/output/pic/seperated-Faces-from-3.6.1.zip'"
   ]
  },
  {
   "cell_type": "code",
   "execution_count": null,
   "metadata": {},
   "outputs": [],
   "source": [
    "# Do Unzip jobs for \n",
    "#                       faces_ZIP_file_path_images\n",
    "#                       faces_ZIP_file_path_seperated_images"
   ]
  },
  {
   "cell_type": "code",
   "execution_count": null,
   "metadata": {},
   "outputs": [],
   "source": [
    "!unzip 'data/output/pic/Faces-from-3.6.1.zip'\n",
    "!unzip 'data/output/pic/seperated-Faces-from-3.6.1.zip'"
   ]
  },
  {
   "cell_type": "code",
   "execution_count": null,
   "metadata": {},
   "outputs": [],
   "source": [
    "#path to main working files:"
   ]
  },
  {
   "cell_type": "code",
   "execution_count": 3,
   "metadata": {},
   "outputs": [],
   "source": [
    "faces_img_path = 'data/output/pic/Faces-from-3.6.1'\n",
    "faces_seperated_img_path_root = 'data/output/pic/seperated-Faces-from-3.6.1'\n",
    "emo_map_guide_path = 'data/output/csv/images_emo_map.csv'\n",
    "valid_data_path = 'data/output/csv/Data-Valid-from-3.6.1.csv.zip'"
   ]
  },
  {
   "cell_type": "code",
   "execution_count": null,
   "metadata": {},
   "outputs": [],
   "source": [
    "%pip install mediapipe"
   ]
  },
  {
   "cell_type": "code",
   "execution_count": null,
   "metadata": {},
   "outputs": [],
   "source": [
    "%pip install jax==0.4.28"
   ]
  },
  {
   "cell_type": "code",
   "execution_count": 2,
   "metadata": {},
   "outputs": [
    {
     "name": "stderr",
     "output_type": "stream",
     "text": [
      "2024-05-12 23:10:22.504748: I tensorflow/tsl/cuda/cudart_stub.cc:28] Could not find cuda drivers on your machine, GPU will not be used.\n",
      "2024-05-12 23:10:22.563595: I tensorflow/tsl/cuda/cudart_stub.cc:28] Could not find cuda drivers on your machine, GPU will not be used.\n",
      "2024-05-12 23:10:23.531081: W tensorflow/compiler/tf2tensorrt/utils/py_utils.cc:38] TF-TRT Warning: Could not find TensorRT\n"
     ]
    }
   ],
   "source": [
    "import os\n",
    "import cv2\n",
    "import dlib\n",
    "import numpy as np\n",
    "import pandas as pd\n",
    "from PIL import Image\n",
    "import mediapipe as mp\n",
    "from main import Stats\n",
    "from main import Utilities\n",
    "import matplotlib.pyplot as plt\n",
    "from scipy.spatial import Delaunay\n",
    "#from google.colab.patches import cv2_imshow"
   ]
  },
  {
   "cell_type": "code",
   "execution_count": 4,
   "metadata": {},
   "outputs": [
    {
     "name": "stdout",
     "output_type": "stream",
     "text": [
      "path to faces folder:  data/output/pic/Faces-from-3.6.1 \n",
      "\n"
     ]
    }
   ],
   "source": [
    "print('path to faces folder: ' ,faces_img_path,'\\n')"
   ]
  },
  {
   "cell_type": "code",
   "execution_count": 4,
   "metadata": {},
   "outputs": [
    {
     "name": "stdout",
     "output_type": "stream",
     "text": [
      "8707 ['face_7059.jpg', 'face_26452.jpg', 'face_31551.jpg', 'face_1481.jpg', 'face_20543.jpg', 'face_11470.jpg']\n"
     ]
    }
   ],
   "source": [
    "name_of_imgs = os.listdir(faces_img_path)\n",
    "print(len(name_of_imgs), name_of_imgs[:6])"
   ]
  },
  {
   "cell_type": "code",
   "execution_count": null,
   "metadata": {},
   "outputs": [],
   "source": []
  },
  {
   "cell_type": "code",
   "execution_count": 5,
   "metadata": {},
   "outputs": [],
   "source": [
    "def simple_img_show(path_to_root_img_directory,\n",
    "                    are_you_use_this_func_in_colab = False,\n",
    "                    max_i_lim = 5) :\n",
    "    \n",
    "    use_colab = are_you_use_this_func_in_colab\n",
    "    name_of_images = os.listdir(path_to_root_img_directory)\n",
    "    i_lim = 0\n",
    "    for name_of_image in name_of_images :\n",
    "        if i_lim == max_i_lim :\n",
    "            break\n",
    "        path_to_this_image = os.path.join(path_to_root_img_directory, name_of_image)\n",
    "        image = cv2.imread(path_to_this_image)\n",
    "        if use_colab:\n",
    "            from google.colab.patches import cv2_imshow\n",
    "            cv2_imshow(image)\n",
    "        else:\n",
    "            cv2.imshow('Image', image)\n",
    "        i_lim += 1\n",
    "\n"
   ]
  },
  {
   "cell_type": "code",
   "execution_count": null,
   "metadata": {},
   "outputs": [],
   "source": [
    "simple_img_show(faces_img_path)"
   ]
  },
  {
   "cell_type": "code",
   "execution_count": null,
   "metadata": {},
   "outputs": [],
   "source": [
    "# predictor path :\n",
    "# frontal face detection object :"
   ]
  },
  {
   "cell_type": "code",
   "execution_count": null,
   "metadata": {},
   "outputs": [],
   "source": [
    "predictor_path = \"models/shape_predictor_68_face_landmarks.dat\"\n",
    "predictor = dlib.shape_predictor(predictor_path)\n",
    "\n",
    "face_detector = dlib.get_frontal_face_detector()"
   ]
  },
  {
   "cell_type": "code",
   "execution_count": null,
   "metadata": {},
   "outputs": [],
   "source": [
    "def draw_point(  point : tuple , \n",
    "                image, \n",
    "                n = 1,\n",
    "                m = 1, \n",
    "                forward_backward = False, \n",
    "                color = (0, 0, 255), \n",
    "                radius = 0, \n",
    "                thickness= -1 , \n",
    "                are_you_using_colab = True):\n",
    "    \n",
    "    (x, y) = point\n",
    "    x, y = int(x * image.shape[1]), int(y * image.shape[0])\n",
    "    for i in range(n):\n",
    "        x = x - 1\n",
    "        cv2.circle(image, (x, y), radius, color, thickness)\n",
    "    for i in range(m):\n",
    "        y = y + m     #y += 1\n",
    "        cv2.circle(image, (x, y), radius, color, thickness)\n",
    "    if not forward_backward:\n",
    "        pass\n",
    "    else:\n",
    "        for _ in range(n):\n",
    "            x = x + 1\n",
    "            cv2.circle(image, (x, y), radius, color, thickness)\n",
    "        for _ in range(m):\n",
    "            y = y - m\n",
    "            cv2.circle(image, (x, y), radius, color, thickness)\n",
    "        if are_you_using_colab:\n",
    "            cv2_imshow(image)\n",
    "        else:\n",
    "            cv2.imshow('Image with Point', image)\n",
    "            cv2.waitKey(0)\n",
    "            cv2.destroyAllWindows()"
   ]
  },
  {
   "cell_type": "code",
   "execution_count": null,
   "metadata": {},
   "outputs": [],
   "source": [
    "def simple_draw_point(  point : tuple , \n",
    "                        image, \n",
    "                        color = (0, 0, 255), \n",
    "                        radius = 1, \n",
    "                        thickness=-1 , \n",
    "                        are_you_using_colab = True):\n",
    "    (x, y) = point\n",
    "    x, y = int(x * image.shape[1]), int(y * image.shape[0])\n",
    "    cv2.circle(image, (x, y), radius, color, thickness)\n",
    "    if are_you_using_colab:\n",
    "        cv2_imshow(image)\n",
    "    else:\n",
    "        cv2.imshow('Image with Point', image)\n",
    "        cv2.waitKey(0)\n",
    "        cv2.destroyAllWindows()"
   ]
  },
  {
   "cell_type": "code",
   "execution_count": null,
   "metadata": {},
   "outputs": [],
   "source": [
    "detector = dlib.get_frontal_face_detector()\n",
    "\n",
    "def plot_delaunay(points, delaunay, ax):\n",
    "    for simplex in delaunay.simplices:\n",
    "        ax.plot(points[simplex, 0], points[simplex, 1], 'k-')\n",
    "\n",
    "def detect_faces_and_triangulate(image_path):\n",
    "    img = Image.open(image_path)\n",
    "    img = np.array(img)\n",
    "\n",
    "    ax = plt.gca()\n",
    "    ax.imshow(img)\n",
    "\n",
    "    detections = detector(img, 1)\n",
    "    for k, d in enumerate(detections):\n",
    "        shape = predictor(img, d)\n",
    "        points = np.array([[p.x, p.y] for p in shape.parts()])\n",
    "        ax.scatter(points[:, 0], points[:, 1], c='r', s=10)\n",
    "        delaunay = Delaunay(points)\n",
    "        plot_delaunay(points, delaunay, ax)\n",
    "\n",
    "    plt.axis('off')\n",
    "    plt.show()\n",
    "\n",
    "\n"
   ]
  },
  {
   "cell_type": "code",
   "execution_count": null,
   "metadata": {},
   "outputs": [],
   "source": [
    "for image_file in os.listdir(image_directory):\n",
    "    if image_file.lower().endswith(('.png', '.jpg', '.jpeg')):\n",
    "        image_path = os.path.join(image_directory, image_file)\n",
    "        detect_faces_and_triangulate(image_path)"
   ]
  },
  {
   "cell_type": "code",
   "execution_count": null,
   "metadata": {},
   "outputs": [],
   "source": [
    "\n",
    "def plot_delaunay(points, delaunay, ax):\n",
    "    for simplex in delaunay.simplices:\n",
    "        ax.plot(points[simplex, 0], points[simplex, 1], 'k-')\n",
    "\n",
    "\n",
    "def get_delaunay_for_part(points, part_indices):\n",
    "    part_points = points[part_indices]\n",
    "    return Delaunay(part_points)\n",
    "\n",
    "\n",
    "def detect_faces_and_triangulate_parts(image_path, return_detected_info = False):\n",
    "    img = Image.open(image_path)\n",
    "    img = np.array(img)\n",
    "    ax = plt.gca()\n",
    "    ax.imshow(img)\n",
    "\n",
    "    detections = detector(img, 1)\n",
    "    for k, d in enumerate(detections):\n",
    "        shape = predictor(img, d)\n",
    "        points = np.array([[p.x, p.y] for p in shape.parts()])\n",
    "        ax.scatter(points[:, 0], points[:, 1], c='r', s=10)\n",
    "\n",
    "        temp1 = np.arange(24, 36)\n",
    "        eye_indices = np.arange(36, 48)\n",
    "        lip_indices = np.arange(48, 68)\n",
    "        temp2 = np.arange(68, 80)\n",
    "\n",
    "        eye_delaunay = get_delaunay_for_part(points, temp1)\n",
    "        lip_delaunay = get_delaunay_for_part(points, temp2)\n",
    "        #eye_delaunay = get_delaunay_for_part(points, eye_indices)\n",
    "        #lip_delaunay = get_delaunay_for_part(points, lip_indices)\n",
    "\n",
    "\n",
    "        plot_delaunay(points, eye_delaunay, ax)\n",
    "        plot_delaunay(points, lip_delaunay, ax)\n",
    "\n",
    "    plt.axis('off')\n",
    "    plt.show()\n",
    "\n",
    "#"
   ]
  },
  {
   "cell_type": "code",
   "execution_count": null,
   "metadata": {},
   "outputs": [],
   "source": [
    "for image_file in os.listdir(image_directory):\n",
    "    if image_file.lower().endswith(('.png', '.jpg', '.jpeg')):\n",
    "        image_path = os.path.join(image_directory, image_file)\n",
    "        detect_faces_and_triangulate_parts(image_path)"
   ]
  }
 ],
 "metadata": {
  "kernelspec": {
   "display_name": "Python 3",
   "language": "python",
   "name": "python3"
  },
  "language_info": {
   "codemirror_mode": {
    "name": "ipython",
    "version": 3
   },
   "file_extension": ".py",
   "mimetype": "text/x-python",
   "name": "python",
   "nbconvert_exporter": "python",
   "pygments_lexer": "ipython3",
   "version": "3.11.8"
  }
 },
 "nbformat": 4,
 "nbformat_minor": 2
}
