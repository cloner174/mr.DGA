{
  "cells": [
    {
      "cell_type": "markdown",
      "metadata": {
        "id": "9MqGbMjWYMEU"
      },
      "source": [
        "                                    #### `in The Name of God                                            `"
      ]
    },
    {
      "cell_type": "code",
      "execution_count": 1,
      "metadata": {
        "colab": {
          "base_uri": "https://localhost:8080/"
        },
        "id": "8VVgfaaTH1yF",
        "outputId": "23a83736-bf0d-47f4-bff8-bffb3f1467aa"
      },
      "outputs": [
        {
          "output_type": "stream",
          "name": "stdout",
          "text": [
            "Cloning into 'mr.DGA'...\n",
            "remote: Enumerating objects: 488, done.\u001b[K\n",
            "remote: Counting objects: 100% (141/141), done.\u001b[K\n",
            "remote: Compressing objects: 100% (75/75), done.\u001b[K\n",
            "remote: Total 488 (delta 68), reused 136 (delta 66), pack-reused 347\u001b[K\n",
            "Receiving objects: 100% (488/488), 460.26 MiB | 14.84 MiB/s, done.\n",
            "Resolving deltas: 100% (210/210), done.\n",
            "Updating files: 100% (90/90), done.\n"
          ]
        }
      ],
      "source": [
        "!git clone https://github.com/cloner174/mr.DGA.git"
      ]
    },
    {
      "cell_type": "code",
      "execution_count": 2,
      "metadata": {
        "colab": {
          "base_uri": "https://localhost:8080/"
        },
        "id": "dSFMetI4IRbL",
        "outputId": "32f9e175-dbdd-4dd3-afd4-23181ab45d10"
      },
      "outputs": [
        {
          "output_type": "stream",
          "name": "stdout",
          "text": [
            "/content/mr.DGA\n"
          ]
        }
      ],
      "source": [
        "%cd mr.DGA"
      ]
    },
    {
      "cell_type": "code",
      "execution_count": 3,
      "metadata": {
        "id": "dTAF026XIf16"
      },
      "outputs": [],
      "source": [
        "import os\n",
        "import cv2\n",
        "import time\n",
        "import warnings\n",
        "import numpy as np\n",
        "import pandas as pd\n",
        "from PIL import Image\n",
        "import matplotlib.pyplot as plt"
      ]
    },
    {
      "cell_type": "markdown",
      "metadata": {
        "id": "6IObCNmjIY4P"
      },
      "source": [
        "#### path to main working files:"
      ]
    },
    {
      "cell_type": "code",
      "execution_count": 4,
      "metadata": {
        "id": "MdJYolMaIX8t"
      },
      "outputs": [],
      "source": [
        "emo_map_guide_path = 'data/output/csv/images_emo_map.csv'\n",
        "valid_data_path = 'data/output/csv/Data-Valid-from-3.6.1.csv.zip'"
      ]
    },
    {
      "cell_type": "markdown",
      "metadata": {
        "id": "97VqCrJpIxOo"
      },
      "source": [
        "#### Loading Valid Data:"
      ]
    },
    {
      "cell_type": "code",
      "execution_count": 5,
      "metadata": {
        "colab": {
          "base_uri": "https://localhost:8080/"
        },
        "id": "vC-ONZc8IufQ",
        "outputId": "ae9908f3-eee9-4493-ebe1-63ff6937e4fc"
      },
      "outputs": [
        {
          "output_type": "stream",
          "name": "stdout",
          "text": [
            "Data Valid shape: \n",
            " (8707, 3) \n",
            "\n",
            "Emotion Map-Guide shape: \n",
            " (8707, 4) \n",
            "\n",
            "Data valid type of pixels: \n",
            " <class 'str'> \n",
            "\n",
            "Data valid head: \n",
            "\n",
            "   Unnamed: 0  emotion                                             pixels\n",
            "0        7059        3  30 26 26 26 26 26 25 24 25 26 26 26 26 27 29 2...\n",
            "1       26452        5  0 0 0 4 26 29 23 40 100 105 103 103 103 105 11...\n",
            "2       31551        3  31 30 31 33 41 47 61 74 79 59 59 112 144 134 1...\n",
            "3        1481        4  32 29 27 30 32 33 40 49 65 86 48 14 8 6 10 17 ...\n",
            "4       20543        3  60 29 24 40 38 36 29 32 28 25 31 20 23 25 23 2...\n",
            "\n",
            "Emotion Map-Guide head: \n",
            "\n",
            "       Unnamed: 0            name  \\\n",
            "iloc                                \n",
            "7059            0   face_7059.jpg   \n",
            "26452           1  face_26452.jpg   \n",
            "31551           2  face_31551.jpg   \n",
            "1481            3   face_1481.jpg   \n",
            "20543           4  face_20543.jpg   \n",
            "\n",
            "                                                  path  emotion  \n",
            "iloc                                                             \n",
            "7059    data/output/pic/Faces-from-3.6.1/face_7059.jpg        3  \n",
            "26452  data/output/pic/Faces-from-3.6.1/face_26452.jpg        5  \n",
            "31551  data/output/pic/Faces-from-3.6.1/face_31551.jpg        3  \n",
            "1481    data/output/pic/Faces-from-3.6.1/face_1481.jpg        4  \n",
            "20543  data/output/pic/Faces-from-3.6.1/face_20543.jpg        3  \n"
          ]
        }
      ],
      "source": [
        "data = pd.read_csv(valid_data_path, compression='zip')\n",
        "emo_map_guide = pd.read_csv(emo_map_guide_path, index_col = 4)\n",
        "print('Data Valid shape: \\n' ,data.shape,'\\n')\n",
        "print('Emotion Map-Guide shape: \\n' ,emo_map_guide.shape,'\\n')\n",
        "time.sleep(2)\n",
        "print('Data valid type of pixels: \\n' ,type(data[' pixels'][0]),'\\n')\n",
        "time.sleep(2)\n",
        "print('Data valid head: \\n')\n",
        "print(data.head())\n",
        "time.sleep(3)\n",
        "print('\\nEmotion Map-Guide head: \\n')\n",
        "print(emo_map_guide.head())\n",
        "time.sleep(1)"
      ]
    },
    {
      "cell_type": "code",
      "execution_count": 6,
      "metadata": {
        "colab": {
          "base_uri": "https://localhost:8080/"
        },
        "id": "xWNjBya-I0Pw",
        "outputId": "31204754-27e6-45e3-bd87-de0fe73f3c59"
      },
      "outputs": [
        {
          "output_type": "stream",
          "name": "stdout",
          "text": [
            "Data Valid head after renaming cols: \n",
            "\n",
            "    indx  emotion                                             pixels\n",
            "0   7059        3  30 26 26 26 26 26 25 24 25 26 26 26 26 27 29 2...\n",
            "1  26452        5  0 0 0 4 26 29 23 40 100 105 103 103 103 105 11...\n",
            "2  31551        3  31 30 31 33 41 47 61 74 79 59 59 112 144 134 1...\n",
            "3   1481        4  32 29 27 30 32 33 40 49 65 86 48 14 8 6 10 17 ...\n",
            "4  20543        3  60 29 24 40 38 36 29 32 28 25 31 20 23 25 23 2... \n",
            "\n"
          ]
        }
      ],
      "source": [
        "data = data.set_axis(['indx', 'emotion', 'pixels'], axis = 1)\n",
        "print('Data Valid head after renaming cols: \\n')\n",
        "print(data.head(),'\\n')"
      ]
    },
    {
      "cell_type": "code",
      "execution_count": 7,
      "metadata": {
        "colab": {
          "base_uri": "https://localhost:8080/"
        },
        "id": "VC5uVefCI3sR",
        "outputId": "6bfd6a4d-7fca-44d9-94d6-393a633292fc"
      },
      "outputs": [
        {
          "output_type": "stream",
          "name": "stdout",
          "text": [
            "Data Valid head after renaming cols: \n",
            "\n",
            " \n",
            "\n"
          ]
        },
        {
          "output_type": "execute_result",
          "data": {
            "text/plain": [
              "(None,\n",
              "     indx  emotion                                             pixels\n",
              " 0   7059        3  30 26 26 26 26 26 25 24 25 26 26 26 26 27 29 2...\n",
              " 1  26452        5  0 0 0 4 26 29 23 40 100 105 103 103 103 105 11...)"
            ]
          },
          "metadata": {},
          "execution_count": 7
        }
      ],
      "source": [
        "data = data.set_axis(['indx', 'emotion', 'pixels'], axis = 1)\n",
        "print('Data Valid head after renaming cols: \\n\\n','\\n'), data.head(2)"
      ]
    },
    {
      "cell_type": "code",
      "execution_count": 8,
      "metadata": {
        "id": "Mx3Zp3qZJDy3"
      },
      "outputs": [],
      "source": [
        "def strings_with_number_inside( data,\n",
        "                                    index_iloc = None,\n",
        "                                    label_iloc = None,\n",
        "                                    column_range_starts : int = 0,\n",
        "                                    column_range_ends : int = None,\n",
        "                                    seperator = None):\n",
        "        start = column_range_starts\n",
        "        end = int( data.shape[1] ) if column_range_ends is None else column_range_ends\n",
        "        new_data = []\n",
        "        try :\n",
        "            for i in range( data.shape[0] ) :\n",
        "                temp_new_data = {}\n",
        "                for j in range( start, end ) :\n",
        "                    cells_real_values = np.array(data.iloc[i, j].split(sep = seperator), dtype='uint8')\n",
        "                    if index_iloc is not None:\n",
        "                      temp_new_data['index'] = data.iloc[i, index_iloc]\n",
        "                    else:\n",
        "                      temp_new_data['index'] = i\n",
        "                    temp_new_data['pixels'] = cells_real_values\n",
        "                    if label_iloc:\n",
        "                      temp_new_data['emotin'] = data.iloc[i, label_iloc]\n",
        "                new_data.append(temp_new_data)\n",
        "            return new_data\n",
        "        except:\n",
        "            if isinstance( data , np.array ) :\n",
        "                pass\n",
        "            else:\n",
        "                raise TypeError( \" data just could be  PandasDataFrame  or  NumpyArray  ! \")"
      ]
    },
    {
      "cell_type": "code",
      "execution_count": 9,
      "metadata": {
        "colab": {
          "base_uri": "https://localhost:8080/",
          "height": 206
        },
        "id": "zdoijuZNJSYO",
        "outputId": "de38f3ca-8e21-4373-f7a6-b5a8e508c5c7"
      },
      "outputs": [
        {
          "output_type": "execute_result",
          "data": {
            "text/plain": [
              "    indx  emotion                                             pixels\n",
              "0   7059        3  30 26 26 26 26 26 25 24 25 26 26 26 26 27 29 2...\n",
              "1  26452        5  0 0 0 4 26 29 23 40 100 105 103 103 103 105 11...\n",
              "2  31551        3  31 30 31 33 41 47 61 74 79 59 59 112 144 134 1...\n",
              "3   1481        4  32 29 27 30 32 33 40 49 65 86 48 14 8 6 10 17 ...\n",
              "4  20543        3  60 29 24 40 38 36 29 32 28 25 31 20 23 25 23 2..."
            ],
            "text/html": [
              "\n",
              "  <div id=\"df-b443c11e-5c8e-49c0-8b78-6520f63b7826\" class=\"colab-df-container\">\n",
              "    <div>\n",
              "<style scoped>\n",
              "    .dataframe tbody tr th:only-of-type {\n",
              "        vertical-align: middle;\n",
              "    }\n",
              "\n",
              "    .dataframe tbody tr th {\n",
              "        vertical-align: top;\n",
              "    }\n",
              "\n",
              "    .dataframe thead th {\n",
              "        text-align: right;\n",
              "    }\n",
              "</style>\n",
              "<table border=\"1\" class=\"dataframe\">\n",
              "  <thead>\n",
              "    <tr style=\"text-align: right;\">\n",
              "      <th></th>\n",
              "      <th>indx</th>\n",
              "      <th>emotion</th>\n",
              "      <th>pixels</th>\n",
              "    </tr>\n",
              "  </thead>\n",
              "  <tbody>\n",
              "    <tr>\n",
              "      <th>0</th>\n",
              "      <td>7059</td>\n",
              "      <td>3</td>\n",
              "      <td>30 26 26 26 26 26 25 24 25 26 26 26 26 27 29 2...</td>\n",
              "    </tr>\n",
              "    <tr>\n",
              "      <th>1</th>\n",
              "      <td>26452</td>\n",
              "      <td>5</td>\n",
              "      <td>0 0 0 4 26 29 23 40 100 105 103 103 103 105 11...</td>\n",
              "    </tr>\n",
              "    <tr>\n",
              "      <th>2</th>\n",
              "      <td>31551</td>\n",
              "      <td>3</td>\n",
              "      <td>31 30 31 33 41 47 61 74 79 59 59 112 144 134 1...</td>\n",
              "    </tr>\n",
              "    <tr>\n",
              "      <th>3</th>\n",
              "      <td>1481</td>\n",
              "      <td>4</td>\n",
              "      <td>32 29 27 30 32 33 40 49 65 86 48 14 8 6 10 17 ...</td>\n",
              "    </tr>\n",
              "    <tr>\n",
              "      <th>4</th>\n",
              "      <td>20543</td>\n",
              "      <td>3</td>\n",
              "      <td>60 29 24 40 38 36 29 32 28 25 31 20 23 25 23 2...</td>\n",
              "    </tr>\n",
              "  </tbody>\n",
              "</table>\n",
              "</div>\n",
              "    <div class=\"colab-df-buttons\">\n",
              "\n",
              "  <div class=\"colab-df-container\">\n",
              "    <button class=\"colab-df-convert\" onclick=\"convertToInteractive('df-b443c11e-5c8e-49c0-8b78-6520f63b7826')\"\n",
              "            title=\"Convert this dataframe to an interactive table.\"\n",
              "            style=\"display:none;\">\n",
              "\n",
              "  <svg xmlns=\"http://www.w3.org/2000/svg\" height=\"24px\" viewBox=\"0 -960 960 960\">\n",
              "    <path d=\"M120-120v-720h720v720H120Zm60-500h600v-160H180v160Zm220 220h160v-160H400v160Zm0 220h160v-160H400v160ZM180-400h160v-160H180v160Zm440 0h160v-160H620v160ZM180-180h160v-160H180v160Zm440 0h160v-160H620v160Z\"/>\n",
              "  </svg>\n",
              "    </button>\n",
              "\n",
              "  <style>\n",
              "    .colab-df-container {\n",
              "      display:flex;\n",
              "      gap: 12px;\n",
              "    }\n",
              "\n",
              "    .colab-df-convert {\n",
              "      background-color: #E8F0FE;\n",
              "      border: none;\n",
              "      border-radius: 50%;\n",
              "      cursor: pointer;\n",
              "      display: none;\n",
              "      fill: #1967D2;\n",
              "      height: 32px;\n",
              "      padding: 0 0 0 0;\n",
              "      width: 32px;\n",
              "    }\n",
              "\n",
              "    .colab-df-convert:hover {\n",
              "      background-color: #E2EBFA;\n",
              "      box-shadow: 0px 1px 2px rgba(60, 64, 67, 0.3), 0px 1px 3px 1px rgba(60, 64, 67, 0.15);\n",
              "      fill: #174EA6;\n",
              "    }\n",
              "\n",
              "    .colab-df-buttons div {\n",
              "      margin-bottom: 4px;\n",
              "    }\n",
              "\n",
              "    [theme=dark] .colab-df-convert {\n",
              "      background-color: #3B4455;\n",
              "      fill: #D2E3FC;\n",
              "    }\n",
              "\n",
              "    [theme=dark] .colab-df-convert:hover {\n",
              "      background-color: #434B5C;\n",
              "      box-shadow: 0px 1px 3px 1px rgba(0, 0, 0, 0.15);\n",
              "      filter: drop-shadow(0px 1px 2px rgba(0, 0, 0, 0.3));\n",
              "      fill: #FFFFFF;\n",
              "    }\n",
              "  </style>\n",
              "\n",
              "    <script>\n",
              "      const buttonEl =\n",
              "        document.querySelector('#df-b443c11e-5c8e-49c0-8b78-6520f63b7826 button.colab-df-convert');\n",
              "      buttonEl.style.display =\n",
              "        google.colab.kernel.accessAllowed ? 'block' : 'none';\n",
              "\n",
              "      async function convertToInteractive(key) {\n",
              "        const element = document.querySelector('#df-b443c11e-5c8e-49c0-8b78-6520f63b7826');\n",
              "        const dataTable =\n",
              "          await google.colab.kernel.invokeFunction('convertToInteractive',\n",
              "                                                    [key], {});\n",
              "        if (!dataTable) return;\n",
              "\n",
              "        const docLinkHtml = 'Like what you see? Visit the ' +\n",
              "          '<a target=\"_blank\" href=https://colab.research.google.com/notebooks/data_table.ipynb>data table notebook</a>'\n",
              "          + ' to learn more about interactive tables.';\n",
              "        element.innerHTML = '';\n",
              "        dataTable['output_type'] = 'display_data';\n",
              "        await google.colab.output.renderOutput(dataTable, element);\n",
              "        const docLink = document.createElement('div');\n",
              "        docLink.innerHTML = docLinkHtml;\n",
              "        element.appendChild(docLink);\n",
              "      }\n",
              "    </script>\n",
              "  </div>\n",
              "\n",
              "\n",
              "<div id=\"df-9d7206a6-c75b-441d-ab3b-dc0ff89c9be6\">\n",
              "  <button class=\"colab-df-quickchart\" onclick=\"quickchart('df-9d7206a6-c75b-441d-ab3b-dc0ff89c9be6')\"\n",
              "            title=\"Suggest charts\"\n",
              "            style=\"display:none;\">\n",
              "\n",
              "<svg xmlns=\"http://www.w3.org/2000/svg\" height=\"24px\"viewBox=\"0 0 24 24\"\n",
              "     width=\"24px\">\n",
              "    <g>\n",
              "        <path d=\"M19 3H5c-1.1 0-2 .9-2 2v14c0 1.1.9 2 2 2h14c1.1 0 2-.9 2-2V5c0-1.1-.9-2-2-2zM9 17H7v-7h2v7zm4 0h-2V7h2v10zm4 0h-2v-4h2v4z\"/>\n",
              "    </g>\n",
              "</svg>\n",
              "  </button>\n",
              "\n",
              "<style>\n",
              "  .colab-df-quickchart {\n",
              "      --bg-color: #E8F0FE;\n",
              "      --fill-color: #1967D2;\n",
              "      --hover-bg-color: #E2EBFA;\n",
              "      --hover-fill-color: #174EA6;\n",
              "      --disabled-fill-color: #AAA;\n",
              "      --disabled-bg-color: #DDD;\n",
              "  }\n",
              "\n",
              "  [theme=dark] .colab-df-quickchart {\n",
              "      --bg-color: #3B4455;\n",
              "      --fill-color: #D2E3FC;\n",
              "      --hover-bg-color: #434B5C;\n",
              "      --hover-fill-color: #FFFFFF;\n",
              "      --disabled-bg-color: #3B4455;\n",
              "      --disabled-fill-color: #666;\n",
              "  }\n",
              "\n",
              "  .colab-df-quickchart {\n",
              "    background-color: var(--bg-color);\n",
              "    border: none;\n",
              "    border-radius: 50%;\n",
              "    cursor: pointer;\n",
              "    display: none;\n",
              "    fill: var(--fill-color);\n",
              "    height: 32px;\n",
              "    padding: 0;\n",
              "    width: 32px;\n",
              "  }\n",
              "\n",
              "  .colab-df-quickchart:hover {\n",
              "    background-color: var(--hover-bg-color);\n",
              "    box-shadow: 0 1px 2px rgba(60, 64, 67, 0.3), 0 1px 3px 1px rgba(60, 64, 67, 0.15);\n",
              "    fill: var(--button-hover-fill-color);\n",
              "  }\n",
              "\n",
              "  .colab-df-quickchart-complete:disabled,\n",
              "  .colab-df-quickchart-complete:disabled:hover {\n",
              "    background-color: var(--disabled-bg-color);\n",
              "    fill: var(--disabled-fill-color);\n",
              "    box-shadow: none;\n",
              "  }\n",
              "\n",
              "  .colab-df-spinner {\n",
              "    border: 2px solid var(--fill-color);\n",
              "    border-color: transparent;\n",
              "    border-bottom-color: var(--fill-color);\n",
              "    animation:\n",
              "      spin 1s steps(1) infinite;\n",
              "  }\n",
              "\n",
              "  @keyframes spin {\n",
              "    0% {\n",
              "      border-color: transparent;\n",
              "      border-bottom-color: var(--fill-color);\n",
              "      border-left-color: var(--fill-color);\n",
              "    }\n",
              "    20% {\n",
              "      border-color: transparent;\n",
              "      border-left-color: var(--fill-color);\n",
              "      border-top-color: var(--fill-color);\n",
              "    }\n",
              "    30% {\n",
              "      border-color: transparent;\n",
              "      border-left-color: var(--fill-color);\n",
              "      border-top-color: var(--fill-color);\n",
              "      border-right-color: var(--fill-color);\n",
              "    }\n",
              "    40% {\n",
              "      border-color: transparent;\n",
              "      border-right-color: var(--fill-color);\n",
              "      border-top-color: var(--fill-color);\n",
              "    }\n",
              "    60% {\n",
              "      border-color: transparent;\n",
              "      border-right-color: var(--fill-color);\n",
              "    }\n",
              "    80% {\n",
              "      border-color: transparent;\n",
              "      border-right-color: var(--fill-color);\n",
              "      border-bottom-color: var(--fill-color);\n",
              "    }\n",
              "    90% {\n",
              "      border-color: transparent;\n",
              "      border-bottom-color: var(--fill-color);\n",
              "    }\n",
              "  }\n",
              "</style>\n",
              "\n",
              "  <script>\n",
              "    async function quickchart(key) {\n",
              "      const quickchartButtonEl =\n",
              "        document.querySelector('#' + key + ' button');\n",
              "      quickchartButtonEl.disabled = true;  // To prevent multiple clicks.\n",
              "      quickchartButtonEl.classList.add('colab-df-spinner');\n",
              "      try {\n",
              "        const charts = await google.colab.kernel.invokeFunction(\n",
              "            'suggestCharts', [key], {});\n",
              "      } catch (error) {\n",
              "        console.error('Error during call to suggestCharts:', error);\n",
              "      }\n",
              "      quickchartButtonEl.classList.remove('colab-df-spinner');\n",
              "      quickchartButtonEl.classList.add('colab-df-quickchart-complete');\n",
              "    }\n",
              "    (() => {\n",
              "      let quickchartButtonEl =\n",
              "        document.querySelector('#df-9d7206a6-c75b-441d-ab3b-dc0ff89c9be6 button');\n",
              "      quickchartButtonEl.style.display =\n",
              "        google.colab.kernel.accessAllowed ? 'block' : 'none';\n",
              "    })();\n",
              "  </script>\n",
              "</div>\n",
              "    </div>\n",
              "  </div>\n"
            ],
            "application/vnd.google.colaboratory.intrinsic+json": {
              "type": "dataframe",
              "variable_name": "data",
              "summary": "{\n  \"name\": \"data\",\n  \"rows\": 8707,\n  \"fields\": [\n    {\n      \"column\": \"indx\",\n      \"properties\": {\n        \"dtype\": \"number\",\n        \"std\": 10311,\n        \"min\": 0,\n        \"max\": 35886,\n        \"num_unique_values\": 8707,\n        \"samples\": [\n          4419,\n          17070,\n          53\n        ],\n        \"semantic_type\": \"\",\n        \"description\": \"\"\n      }\n    },\n    {\n      \"column\": \"emotion\",\n      \"properties\": {\n        \"dtype\": \"number\",\n        \"std\": 1,\n        \"min\": 0,\n        \"max\": 6,\n        \"num_unique_values\": 7,\n        \"samples\": [\n          3,\n          5,\n          2\n        ],\n        \"semantic_type\": \"\",\n        \"description\": \"\"\n      }\n    },\n    {\n      \"column\": \"pixels\",\n      \"properties\": {\n        \"dtype\": \"string\",\n        \"num_unique_values\": 8167,\n        \"samples\": [\n          \"25 28 69 57 43 46 32 18 21 9 10 13 16 18 18 19 20 19 19 24 32 34 48 63 67 96 129 149 190 184 156 167 144 71 80 81 144 117 99 110 48 63 84 74 53 45 42 77 23 54 70 54 58 42 34 15 15 35 52 34 16 12 13 16 21 20 21 25 26 24 40 84 148 172 173 153 140 158 155 149 102 95 85 123 151 125 93 127 70 58 67 75 93 74 62 64 34 63 41 35 48 34 32 24 40 102 135 129 112 89 75 57 38 28 23 20 25 54 122 187 202 200 203 197 155 131 104 78 80 81 130 153 159 108 98 143 80 64 47 20 57 67 64 71 41 36 29 33 43 30 40 53 82 130 158 177 191 186 175 168 136 113 87 98 136 185 213 215 210 211 207 204 210 194 174 159 144 142 148 148 120 91 149 140 89 43 34 14 22 33 46 68 35 23 28 29 37 37 52 72 107 150 175 181 190 194 191 193 196 199 207 215 222 226 219 218 215 210 207 202 207 207 206 204 198 184 161 145 132 162 167 143 105 45 25 19 21 28 42 66 29 21 26 25 47 63 46 80 130 164 175 185 191 193 200 200 204 209 212 216 217 220 218 215 215 210 209 209 207 199 197 198 194 193 191 189 188 173 163 148 116 58 18 22 27 29 41 63 29 17 26 25 46 64 50 86 145 172 177 186 194 197 200 204 208 208 211 215 217 217 214 214 214 212 211 209 207 201 199 199 195 193 188 187 184 172 164 153 130 69 20 22 46 42 46 45 28 23 23 30 46 33 49 116 165 170 179 187 191 195 199 203 206 210 210 214 219 218 216 215 216 212 211 210 208 205 202 200 197 193 189 187 186 171 163 156 133 76 24 27 52 50 39 35 41 34 27 27 34 21 63 148 168 174 180 187 193 196 198 203 208 209 209 213 221 221 217 213 217 213 210 210 207 206 205 202 199 195 190 187 182 173 166 156 138 79 22 35 46 32 34 34 50 51 29 28 27 37 91 152 165 173 180 185 192 196 199 202 207 208 210 214 215 219 218 212 213 211 208 208 208 209 207 208 205 198 193 186 178 174 166 158 147 91 22 39 33 17 28 25 41 69 28 23 22 64 124 149 165 172 180 186 190 198 201 202 204 210 213 210 212 214 215 208 212 214 212 211 213 211 206 206 201 195 194 186 182 174 165 154 153 115 32 47 30 16 25 23 19 62 45 19 23 81 124 146 164 170 179 188 193 199 205 207 208 213 212 212 215 215 215 211 215 217 213 213 212 210 204 197 190 187 179 170 162 174 175 160 152 136 65 30 29 18 23 28 19 27 40 20 25 79 122 143 160 168 180 187 192 194 201 207 212 213 214 216 219 222 220 214 219 218 213 210 202 178 146 106 89 88 86 97 124 124 127 140 150 133 67 28 26 28 24 32 21 12 35 21 23 76 122 139 157 169 181 188 190 193 198 202 209 212 214 215 215 219 221 216 218 211 205 187 152 113 76 55 41 42 52 77 90 77 87 107 138 137 78 25 32 48 27 41 30 19 33 23 20 78 117 134 159 154 147 157 160 157 149 154 168 183 194 205 207 208 212 214 213 209 197 167 131 84 71 77 107 143 164 150 126 124 125 113 122 143 136 73 37 63 35 48 33 30 39 57 31 75 116 140 129 95 95 76 53 34 39 61 94 114 138 178 199 201 205 206 208 205 196 181 150 134 153 172 184 190 191 193 192 181 160 145 138 143 149 123 38 46 45 51 41 28 30 46 45 82 120 120 70 73 78 56 66 73 75 76 74 89 118 166 193 199 208 205 209 208 193 170 157 167 167 154 113 92 74 78 116 163 171 169 169 163 153 142 58 22 51 57 49 28 56 42 46 93 118 88 92 114 122 157 184 203 201 181 167 161 150 147 174 198 210 213 219 213 187 170 170 172 161 184 131 88 62 100 99 92 165 185 190 186 161 145 86 24 52 69 63 21 45 47 27 92 116 94 129 140 162 187 190 164 146 138 152 163 168 155 155 186 206 211 215 211 187 176 188 174 172 219 168 116 112 154 178 150 167 188 188 183 164 149 116 39 49 86 79 25 25 37 36 93 124 121 139 153 168 153 92 49 72 86 145 173 168 183 161 169 194 208 208 202 187 182 193 191 196 195 200 205 197 190 192 190 187 188 188 190 176 158 133 60 56 138 121 36 31 37 39 102 133 145 161 166 146 73 114 94 75 103 177 208 170 199 191 166 184 199 204 198 180 186 194 200 207 208 204 201 197 193 191 193 195 190 186 190 177 162 152 74 68 172 155 81 31 33 22 102 142 169 176 180 140 119 176 151 143 175 193 196 203 203 191 169 174 195 199 193 175 179 198 196 199 201 204 205 203 201 199 201 200 195 189 186 176 160 157 93 94 200 157 128 50 28 25 110 143 172 178 180 164 169 179 184 194 198 197 200 200 193 187 168 166 192 197 192 174 173 187 199 203 202 198 201 200 200 202 201 200 199 191 184 173 158 154 100 110 205 153 149 86 31 28 119 147 173 182 181 181 180 183 187 189 192 196 194 197 196 181 165 162 185 196 194 178 170 179 194 199 201 205 203 198 200 202 202 200 199 193 183 173 158 150 86 116 192 151 163 139 42 32 126 151 169 182 185 191 193 194 192 195 193 194 198 201 193 176 158 161 178 190 191 180 172 181 192 198 198 204 206 205 206 205 199 196 196 189 181 171 158 145 74 111 176 150 161 166 68 35 131 153 164 179 192 195 196 197 191 192 196 199 201 196 188 175 160 159 173 191 192 181 175 177 189 202 202 205 207 210 207 207 201 195 192 189 178 168 157 137 86 132 192 152 160 181 117 49 130 149 159 176 186 191 192 192 193 198 200 200 197 191 192 180 162 161 175 192 194 182 170 175 176 187 204 205 206 209 208 207 204 195 190 184 175 167 156 136 107 167 199 156 154 185 152 61 119 140 152 169 179 187 189 193 199 204 205 201 196 196 195 169 164 161 172 199 206 197 172 177 181 174 194 205 204 205 206 206 200 194 190 177 169 165 153 138 155 184 198 163 152 190 183 70 99 130 145 161 175 181 187 192 198 206 204 197 196 202 180 166 176 164 178 211 223 205 187 184 192 178 192 201 198 199 201 200 196 189 186 174 160 160 150 142 182 177 175 168 152 177 184 79 77 121 140 157 169 174 184 195 197 203 204 198 197 197 173 175 179 164 166 189 192 184 161 141 134 148 184 193 195 192 193 197 193 185 181 172 156 159 151 145 166 159 157 172 157 157 177 120 56 104 137 154 165 172 182 192 196 200 201 198 193 190 162 157 143 115 108 129 154 135 104 105 134 157 173 182 188 192 187 189 197 188 180 168 156 160 152 143 149 155 157 178 157 158 168 175 100 82 129 149 163 169 177 185 190 196 199 193 192 186 161 123 131 133 137 125 132 134 152 150 164 168 162 165 170 177 186 184 195 197 181 170 162 162 155 141 152 156 156 185 161 154 163 168 174 110 111 142 160 167 168 181 186 192 194 193 192 178 159 150 152 142 148 151 144 148 157 166 171 167 165 163 161 163 174 177 190 202 188 181 166 166 156 140 153 155 156 197 170 154 153 152 166 136 98 130 152 161 164 174 184 189 192 195 184 163 148 145 153 161 170 162 168 179 187 196 190 190 184 175 170 175 173 163 187 202 190 184 167 162 151 143 154 155 156 209 179 154 152 152 152 146 119 121 140 151 158 169 183 192 197 187 166 147 144 153 165 181 199 206 209 209 209 199 184 175 163 152 142 116 114 181 186 204 191 178 163 162 150 141 153 155 157 210 181 153 148 149 150 153 150 122 134 147 151 168 186 196 186 174 158 144 155 172 186 191 190 185 184 182 166 151 153 152 155 151 126 44 128 210 202 208 188 174 163 164 150 142 156 155 157 211 179 145 139 142 146 150 152 131 129 151 150 165 183 192 183 170 152 154 155 151 145 145 143 158 180 174 217 212 220 231 235 186 103 128 204 206 210 206 179 166 163 160 145 145 157 155 156 212 180 142 132 134 134 138 147 139 125 147 154 153 172 196 191 182 137 73 78 125 166 180 210 223 249 242 254 253 238 189 156 123 143 183 201 204 206 202 174 163 165 154 139 143 155 156 157 214 183 145 131 130 130 131 134 140 126 140 163 151 166 193 202 202 189 104 43 120 220 224 240 235 250 225 203 179 135 141 148 160 166 189 202 200 199 197 170 162 157 147 131 112 135 154 156 217 190 150 132 131 131 130 130 135 127 127 154 155 158 180 211 202 207 190 142 99 124 123 135 133 134 95 94 137 174 175 171 164 178 199 200 202 202 187 167 163 154 141 118 94 105 133 158 219 196 156 132 131 131 130 130 131 130 120 140 155 155 164 200 212 198 195 185 163 142 146 152 166 161 174 194 205 188 174 171 178 192 198 199 199 196 180 161 158 147 133 103 95 97 109 154 221 200 161 134 131 131 130 129 130 132 119 124 149 156 157 180 208 203 199 193 171 154 153 165 182 200 204 196 194 182 180 188 193 193 199 198 197 189 173 161 153 139 122 98 97 104 130 175 223 206 170 138 130 130 129 129 130 131 124 116 133 150 153 165 187 197 198 194 184 170 162 165 170 176 184 186 187 189 193 193 193 196 201 198 189 176 166 156 144 124 102 105 120 155 187 210 225 215 187 150 133 131 130 130 129 129 129 112 123 137 145 152 170 189 195 194 185 181 180 183 182 184 182 179 186 194 197 196 196 200 198 191 182 172 163 146 133 95 113 124 152 196 216 222 227 224 209 175 141 131 130 131 130 128 133 101 104 126 135 143 153 169 186 191 186 182 182 189 191 190 187 191 196 200 200 195 197 199 188 182 175 166 152 133 100 99 148 127 157 198 216 221 227 227 222 203 168 140 131 130 129 130 125 97 73 110 124 135 139 149 168 182 185 185 187 185 193 192 189 198 202 199 197 196 195 194 186 179 168 156 135 106 85 147 154 127 158 198 216 221 227 227 227 223 210 184 156 138 131 125 75 95 96 68 109 120 131 137 145 168 179 184 188 185 189 186 192 197 202 199 194 195 192 190 182 173 164 141 106 76 133 163 151 132 163 202 218 222 227 227 228 227 226 219 197 163 139 103 35 72 150 86 68 100 111 126 129 150 168 180 186 185 183 190 194 197 197 195 196 194 195 180 173 167 152 118 72 115 167 160 152 135 167 204 218 222\",\n          \"176 175 173 177 186 188 184 181 184 183 180 179 183 182 176 184 208 198 169 185 180 158 146 145 161 170 132 125 133 149 180 205 170 192 199 212 226 228 220 238 222 187 182 174 171 173 177 177 175 176 174 180 187 188 183 182 186 184 180 181 189 207 220 215 222 175 186 188 159 141 132 129 139 142 132 126 124 129 150 168 168 185 203 215 214 210 225 239 216 204 199 182 169 170 175 175 181 180 179 182 189 188 182 183 181 202 212 212 218 248 243 220 202 200 207 167 144 134 120 118 138 170 151 126 124 121 126 136 147 153 182 209 213 212 222 237 219 206 202 193 173 165 168 171 183 183 182 181 185 183 181 181 202 231 239 235 239 236 215 211 223 205 154 141 134 116 117 122 131 152 151 133 121 115 120 129 138 130 143 175 207 213 221 235 238 216 197 194 177 165 167 166 185 185 184 181 179 177 181 196 213 228 222 227 224 217 224 242 210 165 134 134 123 120 127 129 136 136 133 129 125 117 118 121 137 139 136 156 183 210 230 232 246 235 200 190 183 174 171 169 185 186 183 179 175 175 183 192 205 218 223 230 239 236 247 222 170 142 139 137 136 136 138 137 138 137 135 129 129 124 121 122 128 143 140 159 169 179 213 217 217 223 202 189 177 177 176 171 181 181 178 173 170 175 184 193 215 222 241 249 250 254 241 177 150 141 142 142 144 146 148 144 141 141 139 135 131 125 123 123 125 135 137 139 147 158 181 188 182 189 195 183 173 179 176 173 177 178 174 169 165 178 193 210 229 235 239 248 249 251 200 150 139 139 144 149 152 152 148 148 146 144 143 135 134 128 123 123 125 131 136 135 136 158 180 182 182 193 202 184 167 174 174 174 175 183 191 182 180 204 206 229 251 252 246 241 242 224 172 138 141 140 144 149 153 153 150 150 150 149 145 140 135 133 126 130 128 133 131 133 129 145 174 199 208 202 197 185 163 160 173 171 174 174 183 186 211 229 227 235 244 246 247 230 215 193 154 140 140 143 147 153 155 153 151 150 152 149 148 145 141 135 133 135 131 130 131 131 129 140 161 171 177 182 192 193 181 165 172 171 169 171 191 201 227 234 230 236 249 248 244 200 181 156 141 147 143 140 145 157 155 156 158 158 153 151 154 151 148 141 139 139 142 135 131 132 130 130 138 151 170 183 179 191 178 167 173 172 168 167 178 182 226 247 239 234 244 248 242 185 161 140 142 146 152 153 153 158 155 159 163 156 157 157 152 150 143 138 138 138 140 140 132 131 133 125 137 140 154 161 166 184 180 169 170 169 171 169 166 174 227 236 244 244 249 249 231 189 159 142 140 146 156 161 161 159 160 161 161 157 158 158 154 150 134 130 142 143 141 138 134 133 129 129 129 135 138 147 152 180 180 167 163 162 174 175 174 187 226 233 243 249 244 235 221 189 159 146 143 148 151 156 155 159 164 169 166 159 151 151 152 146 133 135 141 144 138 135 126 131 128 123 129 123 126 132 143 164 145 150 165 160 177 174 174 179 231 247 242 241 239 231 214 179 155 144 142 146 154 152 156 161 161 163 158 153 153 154 149 145 146 140 143 147 144 135 131 130 125 120 118 118 116 116 128 137 127 114 160 162 170 170 169 169 233 255 247 247 246 232 211 175 152 146 143 140 146 155 156 156 156 160 162 158 154 153 142 139 143 141 143 144 142 132 127 125 132 128 117 103 110 121 119 126 141 123 137 169 164 166 173 196 240 254 250 247 244 221 205 178 150 145 144 141 144 149 155 159 161 164 160 154 151 153 150 148 140 135 142 142 140 135 124 124 130 127 118 105 99 101 111 118 140 120 129 167 155 159 169 166 200 244 243 237 234 207 207 182 145 145 141 138 145 150 157 158 158 161 160 155 160 162 160 153 147 144 148 136 138 132 129 120 125 126 117 108 104 103 119 123 139 120 121 158 141 142 141 144 169 230 235 227 219 200 213 189 142 139 142 140 141 150 158 160 163 168 165 162 165 167 160 161 154 144 139 128 132 119 121 117 119 121 122 111 110 114 123 114 117 133 119 151 147 139 141 137 168 227 221 218 208 195 207 186 143 140 142 147 147 150 156 162 166 166 167 164 159 152 148 143 142 136 118 112 114 114 116 112 117 116 116 126 116 117 135 112 110 138 125 144 169 170 170 172 175 191 214 214 203 194 192 177 147 145 151 146 148 150 153 159 160 157 152 150 133 124 123 110 119 117 114 124 117 122 126 126 119 109 108 127 132 127 132 116 112 145 135 151 174 179 185 185 192 194 208 207 192 182 188 167 138 147 148 133 133 144 137 135 126 126 137 142 146 134 107 102 100 83 73 77 105 122 134 131 123 112 117 118 125 134 133 100 121 144 153 186 168 173 179 180 183 184 187 187 179 195 184 159 137 146 135 133 134 139 128 112 105 103 140 164 162 140 112 104 98 115 104 130 136 118 130 135 128 124 119 118 116 132 139 103 141 144 171 206 170 174 173 176 181 178 172 172 171 197 180 149 135 142 119 121 134 114 91 91 98 95 130 165 153 142 129 128 115 131 151 153 147 147 154 151 135 129 125 123 114 137 127 125 158 141 175 201 176 177 175 176 177 173 165 165 168 185 175 154 131 135 129 140 117 108 112 126 121 128 141 151 144 134 138 130 122 127 138 143 147 157 160 153 147 132 126 118 113 131 139 151 165 136 172 184 170 170 168 168 171 169 165 167 166 174 191 166 141 141 153 130 136 161 156 145 132 135 141 149 142 136 142 143 139 141 144 155 160 161 162 158 149 132 127 113 114 126 144 159 149 139 184 174 168 168 168 169 171 172 170 173 180 178 190 177 167 148 147 151 158 155 152 140 146 149 135 152 145 131 137 144 139 144 151 162 163 162 161 157 147 134 122 114 109 131 139 141 133 169 176 173 169 166 168 180 187 179 168 166 174 169 167 182 171 148 149 159 163 161 157 159 159 146 138 157 150 138 138 138 147 151 156 164 166 167 165 152 138 135 115 114 108 127 153 134 167 178 173 174 164 155 151 173 182 170 151 142 146 149 152 176 171 155 146 150 152 158 164 162 153 143 138 153 152 145 145 138 136 142 152 166 165 166 164 150 137 132 121 116 114 109 168 171 168 169 171 172 162 153 137 146 152 140 121 117 127 144 145 167 172 160 137 134 143 154 161 164 157 132 137 154 154 141 138 127 119 118 120 132 155 157 152 150 137 127 126 121 111 109 151 149 150 153 162 170 163 161 152 143 139 131 118 112 138 154 149 157 163 161 148 128 140 148 156 164 136 117 142 161 164 145 131 131 147 144 132 114 112 139 146 143 137 128 129 124 107 127 173 163 162 162 168 172 150 145 158 158 155 157 149 146 154 163 161 153 151 152 151 138 146 147 151 140 116 153 151 164 166 152 143 140 140 129 141 147 123 105 123 140 138 125 130 123 110 152 189 177 182 184 180 177 152 149 155 159 164 167 159 156 161 167 168 157 155 184 203 182 141 148 150 128 113 146 149 156 165 159 140 124 124 139 142 144 140 134 107 127 145 126 132 121 119 122 165 189 181 188 185 180 149 150 152 171 205 217 204 191 183 175 177 169 175 218 214 191 137 145 148 123 128 141 137 135 139 139 125 116 134 139 148 146 143 139 132 123 148 133 131 124 111 67 128 209 192 187 194 187 84 84 85 103 139 161 172 170 146 118 97 100 186 159 120 116 127 144 138 112 132 140 141 141 142 142 141 141 144 140 149 148 141 140 142 130 147 132 133 125 94 6 94 174 213 162 147 152 75 73 74 71 63 62 84 90 92 94 77 181 161 71 84 96 120 138 141 120 134 135 141 144 151 153 150 151 148 138 134 127 128 132 136 128 146 131 133 124 78 0 58 136 209 217 138 69 74 76 75 72 72 76 98 98 92 92 166 183 80 71 96 106 114 125 150 128 133 138 138 137 136 145 146 139 109 89 96 131 141 131 120 141 144 128 131 123 56 0 25 126 164 249 249 215 105 101 103 106 105 106 111 112 133 170 184 141 54 73 97 102 118 151 137 140 135 126 116 109 102 113 115 119 108 106 134 143 144 140 122 121 136 132 130 113 31 0 6 118 156 204 255 253 120 112 111 122 117 112 153 204 203 189 165 115 36 73 82 78 133 155 121 148 142 135 133 127 121 129 135 142 138 140 136 143 148 140 128 123 132 127 129 91 21 0 6 129 163 174 215 190 115 115 108 109 120 192 229 205 183 177 163 91 27 71 64 65 192 85 115 144 147 141 144 138 125 135 136 137 132 129 137 147 146 140 128 124 131 128 120 69 11 0 20 150 165 163 175 167 119 110 120 154 186 201 189 186 187 171 159 57 0 33 43 91 185 22 77 144 140 139 145 136 137 139 139 142 139 136 143 144 147 134 129 122 123 127 85 50 4 0 51 168 160 164 172 191 113 146 188 200 191 183 187 185 186 170 153 30 0 9 39 112 175 31 30 129 138 140 138 132 137 145 142 143 140 137 143 143 146 134 132 120 98 85 74 31 2 0 109 176 162 164 169 173 172 197 194 190 188 183 184 185 182 167 150 27 0 4 6 125 150 58 43 81 131 123 131 136 138 145 147 146 138 133 147 151 144 133 119 91 73 78 64 10 0 53 171 156 162 166 167 165 193 189 191 189 188 184 185 187 179 167 154 50 1 3 2 128 113 45 42 40 45 86 112 136 142 146 146 145 138 139 146 145 133 124 93 68 76 81 36 2 0 138 170 100 117 162 167 164 183 190 190 186 188 187 189 184 178 172 147 50 33 4 13 133 89 33 11 9 19 64 106 127 142 142 147 134 135 144 141 137 115 90 70 79 81 63 14 0 46 178 149 143 173 103 165 171 183 189 189 185 186 190 186 180 177 170 157 53 43 37 31 117 61 36 31 0 26 46 99 134 131 134 133 127 134 140 131 105 81 77 82 83 74 27 5 9 142 162 138 182 198 135 78 185 179 186 188 184 188 188 180 179 179 181 176 70 37 43 60 114 70 39 98 61 36 69 84 118 133 125 108 103 112 125 115 85 75 74 73 66 28 9 0 76 169 120 175 187 186 182 49 123 172 180 185 184 190 180 177 178 179 184 189 95 35 43 60 106 77 57 94 159 63 66 75 93 116 121 121 111 113 101 79 77 75 67 44 14 13 18 17 152 138 156 191 185 186 176 112 109\",\n          \"72 82 81 73 78 76 84 98 104 102 111 116 112 119 124 125 128 130 133 136 140 140 145 146 150 133 94 30 4 5 4 4 5 7 9 11 12 13 15 17 20 21 21 28 47 65 84 98 61 78 84 79 83 79 86 94 104 106 110 117 113 120 127 127 131 137 137 140 142 144 145 148 150 151 153 80 0 7 4 4 5 8 10 11 12 15 16 16 20 21 21 29 47 65 84 99 73 73 89 88 74 90 92 87 100 106 106 116 116 121 130 136 137 142 143 149 147 146 146 150 148 150 152 143 29 1 6 5 6 8 10 11 13 15 16 17 19 21 21 30 46 65 84 99 97 100 85 83 88 98 95 97 102 111 113 117 117 121 129 140 147 150 159 159 158 156 153 157 156 154 152 157 99 1 6 5 6 8 9 11 13 14 15 17 20 21 21 29 47 65 83 99 97 98 89 78 79 91 90 91 98 109 108 111 121 125 134 145 156 161 167 174 176 169 162 161 164 162 157 152 147 34 1 6 6 8 9 11 13 14 16 17 19 21 22 29 46 65 83 99 93 89 98 91 79 76 98 98 107 110 108 113 125 128 139 146 153 161 168 178 183 180 174 165 164 169 162 155 160 86 0 7 7 8 9 12 14 14 15 17 20 21 21 28 47 65 83 99 83 94 98 90 99 99 105 117 113 110 110 118 128 134 144 148 149 162 166 170 176 175 177 176 174 174 170 160 161 129 8 5 7 8 10 13 13 14 15 17 19 20 20 29 47 65 83 98 80 101 103 105 114 114 110 117 120 113 117 121 124 133 141 146 150 154 163 161 169 172 172 177 179 181 177 164 164 156 30 1 9 9 10 13 14 15 16 16 19 20 20 31 47 66 84 98 82 94 104 112 118 117 117 117 118 118 117 121 121 127 134 145 146 148 159 163 168 170 169 173 175 178 178 169 166 169 55 0 10 9 10 13 14 15 15 17 19 19 21 29 47 66 84 100 96 100 104 114 118 119 121 119 117 112 109 117 124 125 130 141 152 155 159 165 165 172 170 169 174 177 176 170 164 169 73 1 11 10 10 13 14 14 15 17 19 20 21 29 47 65 84 99 107 110 112 110 116 120 121 118 114 112 108 115 124 130 136 143 154 159 164 171 170 172 172 170 173 174 176 170 156 161 68 0 12 11 11 13 14 15 15 16 20 21 20 29 48 67 84 99 107 109 112 113 116 116 117 118 110 106 112 120 123 134 142 148 155 162 169 173 173 177 176 175 171 171 174 171 152 156 66 24 8 10 12 13 15 15 16 17 21 21 20 29 48 67 85 99 106 110 109 111 112 114 110 110 104 103 118 123 127 135 146 159 167 171 171 171 165 172 174 176 174 170 167 175 158 146 110 161 103 4 13 13 15 16 16 18 20 20 21 32 49 67 85 99 105 108 114 107 105 111 107 100 102 109 118 128 136 144 145 134 149 165 165 160 157 160 167 175 174 175 167 170 166 147 112 160 169 20 9 13 14 15 16 17 21 20 21 32 49 67 85 100 108 110 110 104 103 104 105 104 102 105 103 95 87 79 67 58 63 76 104 127 140 158 168 173 170 179 169 177 176 144 109 144 162 35 7 14 15 15 16 16 21 21 21 32 51 67 86 100 103 105 104 106 104 104 103 100 98 85 65 55 56 58 60 68 57 38 30 44 83 126 155 160 155 175 167 174 178 122 97 131 157 66 5 16 14 15 17 17 20 21 23 32 50 68 85 100 104 106 106 105 108 105 100 105 105 96 91 92 101 118 124 132 132 101 57 40 33 47 91 119 136 174 162 162 168 100 82 129 154 118 8 14 14 15 17 19 21 21 22 33 51 68 86 101 104 105 111 108 112 110 107 107 98 91 81 79 85 79 66 62 68 84 75 63 53 55 78 109 152 164 145 131 123 83 65 121 143 143 30 9 16 15 16 17 21 22 22 33 51 68 85 100 103 105 113 114 120 120 115 96 83 74 58 48 75 92 37 26 35 36 49 79 102 120 135 149 166 138 92 67 56 54 48 107 138 146 98 9 16 15 16 17 21 22 22 34 52 68 86 101 104 109 110 114 125 127 120 108 100 101 98 101 111 136 98 55 134 85 85 95 110 125 145 165 173 116 72 45 27 30 29 69 122 137 152 55 7 17 16 17 21 22 22 34 52 68 87 102 103 109 111 111 121 134 134 130 123 129 135 137 138 139 129 117 119 108 99 105 108 113 143 173 175 111 68 66 75 65 27 59 115 139 156 130 9 16 16 18 21 21 22 34 52 69 87 101 101 104 104 107 119 133 139 135 138 142 136 137 141 142 144 135 120 122 125 98 106 113 138 163 173 107 52 27 55 84 37 67 99 133 150 171 81 6 18 18 21 21 23 34 52 69 87 101 98 96 98 106 115 128 137 139 147 153 151 146 159 163 157 150 139 130 129 115 108 125 136 154 164 142 58 50 30 34 39 56 80 118 149 161 165 54 9 20 21 21 22 34 52 69 87 101 94 96 102 109 112 125 134 145 154 165 166 164 168 171 169 159 142 141 150 130 123 133 138 138 151 145 83 58 40 42 41 43 68 99 143 159 161 142 40 13 23 22 23 35 52 70 87 101 94 93 99 110 113 120 129 150 162 168 171 176 173 166 158 150 152 169 159 135 138 139 137 140 147 153 136 79 35 47 51 38 54 73 121 157 146 149 129 24 21 24 25 35 52 71 87 100 92 96 104 110 115 118 123 142 158 160 166 162 159 159 152 153 168 171 152 140 136 130 130 134 141 151 152 73 36 43 49 41 48 60 91 145 155 150 166 106 15 23 25 34 52 70 87 100 94 101 106 112 118 122 124 132 144 146 149 150 149 146 149 157 164 158 148 139 124 124 123 125 139 153 152 33 23 51 53 54 46 62 88 134 160 157 161 164 89 18 23 36 52 69 87 101 99 105 106 115 118 124 120 129 136 133 135 151 150 143 148 158 163 157 150 138 114 103 110 119 135 150 156 39 5 55 64 61 45 50 76 114 155 158 150 160 166 102 31 28 53 70 86 100 98 101 109 118 115 119 119 120 120 129 134 141 148 146 152 159 155 136 113 110 97 88 99 118 134 146 161 94 0 28 62 61 57 43 55 98 151 164 145 157 170 166 135 71 48 70 86 100 98 102 112 120 118 110 105 109 110 121 133 136 148 156 165 158 132 93 82 98 107 110 113 121 136 150 154 135 16 4 45 67 58 42 23 61 140 177 169 162 177 173 165 153 85 63 86 101 97 103 114 116 120 113 99 105 110 115 127 134 144 162 168 142 97 65 90 113 134 147 143 134 147 172 159 154 46 0 19 59 49 42 48 71 113 150 137 182 158 151 144 144 138 84 84 98 97 105 111 114 119 112 98 100 107 116 125 131 147 164 153 131 66 72 98 125 146 150 147 129 131 151 158 165 52 0 7 54 60 66 83 86 104 116 112 132 162 128 136 143 147 146 140 114 101 106 109 113 119 107 98 103 106 114 120 132 154 153 139 150 70 65 103 88 40 47 58 94 108 126 147 140 16 4 1 30 70 83 87 103 129 143 156 141 201 176 160 164 163 162 169 167 102 106 108 115 116 107 102 97 105 110 119 133 148 142 146 159 135 80 89 117 105 60 27 71 106 122 139 85 0 4 10 61 96 104 124 148 154 159 175 135 193 189 176 173 170 162 156 157 102 105 108 117 116 106 102 99 103 113 127 140 140 141 154 152 158 149 124 124 160 128 69 86 108 119 80 10 3 17 68 110 128 144 157 163 156 153 158 123 180 159 164 157 145 132 129 130 99 104 111 120 114 104 101 100 104 118 129 136 129 151 153 150 147 140 137 136 146 140 129 121 127 155 50 0 26 75 106 133 160 167 162 148 124 126 112 100 123 118 128 130 136 143 146 150 95 103 110 117 113 103 98 99 110 123 134 120 141 144 138 142 138 130 122 131 145 137 145 136 135 157 81 19 69 99 129 162 170 166 141 87 65 67 77 88 103 121 128 147 155 162 163 163 94 101 110 114 106 105 100 106 118 129 114 117 136 124 116 117 123 118 122 126 133 133 135 131 133 148 94 74 105 103 149 167 166 135 72 51 61 86 106 109 120 145 149 160 166 170 177 180 95 99 107 112 104 104 104 111 124 126 105 120 117 109 106 116 117 115 123 122 123 127 125 122 133 99 66 107 137 146 160 155 110 57 46 76 107 127 131 132 134 138 155 169 173 176 176 178 95 94 105 106 99 101 110 117 132 107 109 115 113 105 101 95 92 85 88 96 97 98 113 121 121 116 103 126 176 174 131 54 36 52 88 116 133 155 161 148 136 138 149 154 153 146 151 162 89 93 104 101 96 99 105 124 127 104 113 98 84 71 63 61 64 90 99 83 79 87 101 106 114 187 148 165 177 122 23 4 58 87 110 131 157 158 155 141 111 103 113 113 108 113 134 147 86 90 100 100 98 98 102 130 116 104 104 80 54 61 94 79 70 88 114 107 90 73 72 80 151 179 163 168 125 18 2 47 83 110 127 140 150 142 131 86 61 63 62 64 79 94 117 146 80 88 96 100 98 88 107 130 100 110 115 113 96 99 160 185 180 148 123 79 56 44 43 68 118 146 145 125 107 49 75 113 110 123 138 142 129 100 71 61 60 66 68 66 72 80 91 102 79 85 94 96 91 81 113 112 102 123 132 126 118 96 91 120 163 214 223 168 34 38 69 66 59 78 81 116 107 112 158 173 129 135 140 116 68 53 57 60 58 62 70 69 71 86 101 118 77 84 96 99 87 78 116 105 109 117 127 128 116 113 117 109 108 131 155 138 97 89 78 50 53 59 69 99 96 106 189 160 146 136 99 61 53 57 60 62 70 69 79 73 69 79 98 110 79 82 94 99 85 77 115 104 104 106 119 124 124 115 104 123 132 136 120 127 134 104 76 60 61 119 174 133 129 100 125 128 104 73 61 59 64 69 70 71 78 75 78 76 71 77 94 106 81 83 92 100 87 78 119 111 97 108 114 122 124 124 106 95 113 132 137 132 132 99 74 81 74 160 246 231 221 223 127 61 77 78 80 83 87 84 80 80 86 82 75 76 74 78 94 105 81 81 89 96 85 80 119 121 104 107 116 125 122 122 120 101 85 93 117 122 114 83 70 82 90 184 236 230 235 239 210 94 92 97 107 114 107 102 96 92 96 90 81 76 79 77 94 105\"\n        ],\n        \"semantic_type\": \"\",\n        \"description\": \"\"\n      }\n    }\n  ]\n}"
            }
          },
          "metadata": {},
          "execution_count": 9
        }
      ],
      "source": [
        "data.head()"
      ]
    },
    {
      "cell_type": "code",
      "execution_count": 10,
      "metadata": {
        "id": "1lGIKdOrJ1c1"
      },
      "outputs": [],
      "source": [
        "data_fixed = strings_with_number_inside(data, index_iloc = 0, label_iloc = 1, column_range_starts = 2)"
      ]
    },
    {
      "cell_type": "code",
      "execution_count": 11,
      "metadata": {
        "colab": {
          "base_uri": "https://localhost:8080/"
        },
        "id": "Yye1SklwJ2H1",
        "outputId": "85611fba-04eb-440a-f3b9-8288a992d9d4"
      },
      "outputs": [
        {
          "output_type": "stream",
          "name": "stdout",
          "text": [
            "Data Valid head after fixing the type of each pixel rows: \n",
            "\n",
            "\n",
            "   index                                             pixels  emotin\n",
            "0   7059  [30, 26, 26, 26, 26, 26, 25, 24, 25, 26, 26, 2...       3\n",
            "1  26452  [0, 0, 0, 4, 26, 29, 23, 40, 100, 105, 103, 10...       5\n",
            "2  31551  [31, 30, 31, 33, 41, 47, 61, 74, 79, 59, 59, 1...       3\n",
            "3   1481  [32, 29, 27, 30, 32, 33, 40, 49, 65, 86, 48, 1...       4\n",
            "4  20543  [60, 29, 24, 40, 38, 36, 29, 32, 28, 25, 31, 2...       3 \n",
            "\n",
            "\n",
            " We are going to call the fixed-Data-Valid , -> data_fixed <- since now on : \n",
            "\n",
            " \n",
            "\n"
          ]
        }
      ],
      "source": [
        "data_fixed = pd.DataFrame(data_fixed)\n",
        "print('Data Valid head after fixing the type of each pixel rows: \\n\\n')\n",
        "print(data_fixed.head(),'\\n')\n",
        "time.sleep(2)\n",
        "print('\\n', 'We are going to call the fixed-Data-Valid , -> data_fixed <- since now on : \\n\\n' ,'\\n')"
      ]
    },
    {
      "cell_type": "markdown",
      "metadata": {
        "id": "47bN_a7XJ8PM"
      },
      "source": [
        "#### Some fixing of data to be ready\n"
      ]
    },
    {
      "cell_type": "code",
      "execution_count": 12,
      "metadata": {
        "colab": {
          "base_uri": "https://localhost:8080/"
        },
        "id": "wCSyksXUJ590",
        "outputId": "674b32f9-c763-45b2-dee8-b4a4b98d0689"
      },
      "outputs": [
        {
          "output_type": "stream",
          "name": "stdout",
          "text": [
            "      Unnamed: 0        name                                         path  \\\n",
            "iloc                                                                        \n",
            "0           1655  face_0.jpg  data/output/pic/Faces-from-3.6.1/face_0.jpg   \n",
            "4           7659  face_4.jpg  data/output/pic/Faces-from-3.6.1/face_4.jpg   \n",
            "5             56  face_5.jpg  data/output/pic/Faces-from-3.6.1/face_5.jpg   \n",
            "\n",
            "      emotion  \n",
            "iloc           \n",
            "0           0  \n",
            "4           6  \n",
            "5           2  \n",
            "\n",
            "                                                   pixels  emotin\n",
            "index                                                           \n",
            "0      [70, 80, 82, 72, 58, 58, 60, 63, 54, 58, 60, 4...       0\n",
            "4      [4, 0, 0, 0, 0, 0, 0, 0, 0, 0, 0, 0, 3, 15, 23...       6\n",
            "5      [55, 55, 55, 55, 55, 54, 60, 68, 54, 85, 151, ...       2\n"
          ]
        }
      ],
      "source": [
        "data_fixed = data_fixed.set_index('index')\n",
        "data_fixed.sort_index(inplace=True)\n",
        "emo_map_guide.sort_index(inplace=True)\n",
        "print(emo_map_guide.head(3))\n",
        "print('\\n', data_fixed.head(3))"
      ]
    },
    {
      "cell_type": "markdown",
      "metadata": {
        "id": "zFa3YWmiJ_WV"
      },
      "source": [
        "#### Adding additional information to our fixed_data"
      ]
    },
    {
      "cell_type": "code",
      "execution_count": 13,
      "metadata": {
        "colab": {
          "base_uri": "https://localhost:8080/",
          "height": 237
        },
        "id": "C1-RsquuJ-Ts",
        "outputId": "379efaa6-1849-45cb-8666-de0e23529519"
      },
      "outputs": [
        {
          "output_type": "execute_result",
          "data": {
            "text/plain": [
              "      Unnamed: 0        name                                         path  \\\n",
              "iloc                                                                        \n",
              "0           1655  face_0.jpg  data/output/pic/Faces-from-3.6.1/face_0.jpg   \n",
              "4           7659  face_4.jpg  data/output/pic/Faces-from-3.6.1/face_4.jpg   \n",
              "5             56  face_5.jpg  data/output/pic/Faces-from-3.6.1/face_5.jpg   \n",
              "7           4237  face_7.jpg  data/output/pic/Faces-from-3.6.1/face_7.jpg   \n",
              "8           3564  face_8.jpg  data/output/pic/Faces-from-3.6.1/face_8.jpg   \n",
              "\n",
              "      emotion  \n",
              "iloc           \n",
              "0           0  \n",
              "4           6  \n",
              "5           2  \n",
              "7           3  \n",
              "8           3  "
            ],
            "text/html": [
              "\n",
              "  <div id=\"df-6aa5c0b4-e4a9-4240-a021-6095e70a6de8\" class=\"colab-df-container\">\n",
              "    <div>\n",
              "<style scoped>\n",
              "    .dataframe tbody tr th:only-of-type {\n",
              "        vertical-align: middle;\n",
              "    }\n",
              "\n",
              "    .dataframe tbody tr th {\n",
              "        vertical-align: top;\n",
              "    }\n",
              "\n",
              "    .dataframe thead th {\n",
              "        text-align: right;\n",
              "    }\n",
              "</style>\n",
              "<table border=\"1\" class=\"dataframe\">\n",
              "  <thead>\n",
              "    <tr style=\"text-align: right;\">\n",
              "      <th></th>\n",
              "      <th>Unnamed: 0</th>\n",
              "      <th>name</th>\n",
              "      <th>path</th>\n",
              "      <th>emotion</th>\n",
              "    </tr>\n",
              "    <tr>\n",
              "      <th>iloc</th>\n",
              "      <th></th>\n",
              "      <th></th>\n",
              "      <th></th>\n",
              "      <th></th>\n",
              "    </tr>\n",
              "  </thead>\n",
              "  <tbody>\n",
              "    <tr>\n",
              "      <th>0</th>\n",
              "      <td>1655</td>\n",
              "      <td>face_0.jpg</td>\n",
              "      <td>data/output/pic/Faces-from-3.6.1/face_0.jpg</td>\n",
              "      <td>0</td>\n",
              "    </tr>\n",
              "    <tr>\n",
              "      <th>4</th>\n",
              "      <td>7659</td>\n",
              "      <td>face_4.jpg</td>\n",
              "      <td>data/output/pic/Faces-from-3.6.1/face_4.jpg</td>\n",
              "      <td>6</td>\n",
              "    </tr>\n",
              "    <tr>\n",
              "      <th>5</th>\n",
              "      <td>56</td>\n",
              "      <td>face_5.jpg</td>\n",
              "      <td>data/output/pic/Faces-from-3.6.1/face_5.jpg</td>\n",
              "      <td>2</td>\n",
              "    </tr>\n",
              "    <tr>\n",
              "      <th>7</th>\n",
              "      <td>4237</td>\n",
              "      <td>face_7.jpg</td>\n",
              "      <td>data/output/pic/Faces-from-3.6.1/face_7.jpg</td>\n",
              "      <td>3</td>\n",
              "    </tr>\n",
              "    <tr>\n",
              "      <th>8</th>\n",
              "      <td>3564</td>\n",
              "      <td>face_8.jpg</td>\n",
              "      <td>data/output/pic/Faces-from-3.6.1/face_8.jpg</td>\n",
              "      <td>3</td>\n",
              "    </tr>\n",
              "  </tbody>\n",
              "</table>\n",
              "</div>\n",
              "    <div class=\"colab-df-buttons\">\n",
              "\n",
              "  <div class=\"colab-df-container\">\n",
              "    <button class=\"colab-df-convert\" onclick=\"convertToInteractive('df-6aa5c0b4-e4a9-4240-a021-6095e70a6de8')\"\n",
              "            title=\"Convert this dataframe to an interactive table.\"\n",
              "            style=\"display:none;\">\n",
              "\n",
              "  <svg xmlns=\"http://www.w3.org/2000/svg\" height=\"24px\" viewBox=\"0 -960 960 960\">\n",
              "    <path d=\"M120-120v-720h720v720H120Zm60-500h600v-160H180v160Zm220 220h160v-160H400v160Zm0 220h160v-160H400v160ZM180-400h160v-160H180v160Zm440 0h160v-160H620v160ZM180-180h160v-160H180v160Zm440 0h160v-160H620v160Z\"/>\n",
              "  </svg>\n",
              "    </button>\n",
              "\n",
              "  <style>\n",
              "    .colab-df-container {\n",
              "      display:flex;\n",
              "      gap: 12px;\n",
              "    }\n",
              "\n",
              "    .colab-df-convert {\n",
              "      background-color: #E8F0FE;\n",
              "      border: none;\n",
              "      border-radius: 50%;\n",
              "      cursor: pointer;\n",
              "      display: none;\n",
              "      fill: #1967D2;\n",
              "      height: 32px;\n",
              "      padding: 0 0 0 0;\n",
              "      width: 32px;\n",
              "    }\n",
              "\n",
              "    .colab-df-convert:hover {\n",
              "      background-color: #E2EBFA;\n",
              "      box-shadow: 0px 1px 2px rgba(60, 64, 67, 0.3), 0px 1px 3px 1px rgba(60, 64, 67, 0.15);\n",
              "      fill: #174EA6;\n",
              "    }\n",
              "\n",
              "    .colab-df-buttons div {\n",
              "      margin-bottom: 4px;\n",
              "    }\n",
              "\n",
              "    [theme=dark] .colab-df-convert {\n",
              "      background-color: #3B4455;\n",
              "      fill: #D2E3FC;\n",
              "    }\n",
              "\n",
              "    [theme=dark] .colab-df-convert:hover {\n",
              "      background-color: #434B5C;\n",
              "      box-shadow: 0px 1px 3px 1px rgba(0, 0, 0, 0.15);\n",
              "      filter: drop-shadow(0px 1px 2px rgba(0, 0, 0, 0.3));\n",
              "      fill: #FFFFFF;\n",
              "    }\n",
              "  </style>\n",
              "\n",
              "    <script>\n",
              "      const buttonEl =\n",
              "        document.querySelector('#df-6aa5c0b4-e4a9-4240-a021-6095e70a6de8 button.colab-df-convert');\n",
              "      buttonEl.style.display =\n",
              "        google.colab.kernel.accessAllowed ? 'block' : 'none';\n",
              "\n",
              "      async function convertToInteractive(key) {\n",
              "        const element = document.querySelector('#df-6aa5c0b4-e4a9-4240-a021-6095e70a6de8');\n",
              "        const dataTable =\n",
              "          await google.colab.kernel.invokeFunction('convertToInteractive',\n",
              "                                                    [key], {});\n",
              "        if (!dataTable) return;\n",
              "\n",
              "        const docLinkHtml = 'Like what you see? Visit the ' +\n",
              "          '<a target=\"_blank\" href=https://colab.research.google.com/notebooks/data_table.ipynb>data table notebook</a>'\n",
              "          + ' to learn more about interactive tables.';\n",
              "        element.innerHTML = '';\n",
              "        dataTable['output_type'] = 'display_data';\n",
              "        await google.colab.output.renderOutput(dataTable, element);\n",
              "        const docLink = document.createElement('div');\n",
              "        docLink.innerHTML = docLinkHtml;\n",
              "        element.appendChild(docLink);\n",
              "      }\n",
              "    </script>\n",
              "  </div>\n",
              "\n",
              "\n",
              "<div id=\"df-e876a4fc-a1cd-4057-866f-48dce140428b\">\n",
              "  <button class=\"colab-df-quickchart\" onclick=\"quickchart('df-e876a4fc-a1cd-4057-866f-48dce140428b')\"\n",
              "            title=\"Suggest charts\"\n",
              "            style=\"display:none;\">\n",
              "\n",
              "<svg xmlns=\"http://www.w3.org/2000/svg\" height=\"24px\"viewBox=\"0 0 24 24\"\n",
              "     width=\"24px\">\n",
              "    <g>\n",
              "        <path d=\"M19 3H5c-1.1 0-2 .9-2 2v14c0 1.1.9 2 2 2h14c1.1 0 2-.9 2-2V5c0-1.1-.9-2-2-2zM9 17H7v-7h2v7zm4 0h-2V7h2v10zm4 0h-2v-4h2v4z\"/>\n",
              "    </g>\n",
              "</svg>\n",
              "  </button>\n",
              "\n",
              "<style>\n",
              "  .colab-df-quickchart {\n",
              "      --bg-color: #E8F0FE;\n",
              "      --fill-color: #1967D2;\n",
              "      --hover-bg-color: #E2EBFA;\n",
              "      --hover-fill-color: #174EA6;\n",
              "      --disabled-fill-color: #AAA;\n",
              "      --disabled-bg-color: #DDD;\n",
              "  }\n",
              "\n",
              "  [theme=dark] .colab-df-quickchart {\n",
              "      --bg-color: #3B4455;\n",
              "      --fill-color: #D2E3FC;\n",
              "      --hover-bg-color: #434B5C;\n",
              "      --hover-fill-color: #FFFFFF;\n",
              "      --disabled-bg-color: #3B4455;\n",
              "      --disabled-fill-color: #666;\n",
              "  }\n",
              "\n",
              "  .colab-df-quickchart {\n",
              "    background-color: var(--bg-color);\n",
              "    border: none;\n",
              "    border-radius: 50%;\n",
              "    cursor: pointer;\n",
              "    display: none;\n",
              "    fill: var(--fill-color);\n",
              "    height: 32px;\n",
              "    padding: 0;\n",
              "    width: 32px;\n",
              "  }\n",
              "\n",
              "  .colab-df-quickchart:hover {\n",
              "    background-color: var(--hover-bg-color);\n",
              "    box-shadow: 0 1px 2px rgba(60, 64, 67, 0.3), 0 1px 3px 1px rgba(60, 64, 67, 0.15);\n",
              "    fill: var(--button-hover-fill-color);\n",
              "  }\n",
              "\n",
              "  .colab-df-quickchart-complete:disabled,\n",
              "  .colab-df-quickchart-complete:disabled:hover {\n",
              "    background-color: var(--disabled-bg-color);\n",
              "    fill: var(--disabled-fill-color);\n",
              "    box-shadow: none;\n",
              "  }\n",
              "\n",
              "  .colab-df-spinner {\n",
              "    border: 2px solid var(--fill-color);\n",
              "    border-color: transparent;\n",
              "    border-bottom-color: var(--fill-color);\n",
              "    animation:\n",
              "      spin 1s steps(1) infinite;\n",
              "  }\n",
              "\n",
              "  @keyframes spin {\n",
              "    0% {\n",
              "      border-color: transparent;\n",
              "      border-bottom-color: var(--fill-color);\n",
              "      border-left-color: var(--fill-color);\n",
              "    }\n",
              "    20% {\n",
              "      border-color: transparent;\n",
              "      border-left-color: var(--fill-color);\n",
              "      border-top-color: var(--fill-color);\n",
              "    }\n",
              "    30% {\n",
              "      border-color: transparent;\n",
              "      border-left-color: var(--fill-color);\n",
              "      border-top-color: var(--fill-color);\n",
              "      border-right-color: var(--fill-color);\n",
              "    }\n",
              "    40% {\n",
              "      border-color: transparent;\n",
              "      border-right-color: var(--fill-color);\n",
              "      border-top-color: var(--fill-color);\n",
              "    }\n",
              "    60% {\n",
              "      border-color: transparent;\n",
              "      border-right-color: var(--fill-color);\n",
              "    }\n",
              "    80% {\n",
              "      border-color: transparent;\n",
              "      border-right-color: var(--fill-color);\n",
              "      border-bottom-color: var(--fill-color);\n",
              "    }\n",
              "    90% {\n",
              "      border-color: transparent;\n",
              "      border-bottom-color: var(--fill-color);\n",
              "    }\n",
              "  }\n",
              "</style>\n",
              "\n",
              "  <script>\n",
              "    async function quickchart(key) {\n",
              "      const quickchartButtonEl =\n",
              "        document.querySelector('#' + key + ' button');\n",
              "      quickchartButtonEl.disabled = true;  // To prevent multiple clicks.\n",
              "      quickchartButtonEl.classList.add('colab-df-spinner');\n",
              "      try {\n",
              "        const charts = await google.colab.kernel.invokeFunction(\n",
              "            'suggestCharts', [key], {});\n",
              "      } catch (error) {\n",
              "        console.error('Error during call to suggestCharts:', error);\n",
              "      }\n",
              "      quickchartButtonEl.classList.remove('colab-df-spinner');\n",
              "      quickchartButtonEl.classList.add('colab-df-quickchart-complete');\n",
              "    }\n",
              "    (() => {\n",
              "      let quickchartButtonEl =\n",
              "        document.querySelector('#df-e876a4fc-a1cd-4057-866f-48dce140428b button');\n",
              "      quickchartButtonEl.style.display =\n",
              "        google.colab.kernel.accessAllowed ? 'block' : 'none';\n",
              "    })();\n",
              "  </script>\n",
              "</div>\n",
              "    </div>\n",
              "  </div>\n"
            ],
            "application/vnd.google.colaboratory.intrinsic+json": {
              "type": "dataframe",
              "variable_name": "emo_map_guide",
              "summary": "{\n  \"name\": \"emo_map_guide\",\n  \"rows\": 8707,\n  \"fields\": [\n    {\n      \"column\": \"iloc\",\n      \"properties\": {\n        \"dtype\": \"number\",\n        \"std\": 10311,\n        \"min\": 0,\n        \"max\": 35886,\n        \"num_unique_values\": 8707,\n        \"samples\": [\n          5157,\n          12186,\n          27117\n        ],\n        \"semantic_type\": \"\",\n        \"description\": \"\"\n      }\n    },\n    {\n      \"column\": \"Unnamed: 0\",\n      \"properties\": {\n        \"dtype\": \"number\",\n        \"std\": 2513,\n        \"min\": 0,\n        \"max\": 8706,\n        \"num_unique_values\": 8707,\n        \"samples\": [\n          4275,\n          52,\n          5195\n        ],\n        \"semantic_type\": \"\",\n        \"description\": \"\"\n      }\n    },\n    {\n      \"column\": \"name\",\n      \"properties\": {\n        \"dtype\": \"string\",\n        \"num_unique_values\": 8707,\n        \"samples\": [\n          \"face_5157.jpg\",\n          \"face_12186.jpg\",\n          \"face_27117.jpg\"\n        ],\n        \"semantic_type\": \"\",\n        \"description\": \"\"\n      }\n    },\n    {\n      \"column\": \"path\",\n      \"properties\": {\n        \"dtype\": \"string\",\n        \"num_unique_values\": 8707,\n        \"samples\": [\n          \"data/output/pic/Faces-from-3.6.1/face_5157.jpg\",\n          \"data/output/pic/Faces-from-3.6.1/face_12186.jpg\",\n          \"data/output/pic/Faces-from-3.6.1/face_27117.jpg\"\n        ],\n        \"semantic_type\": \"\",\n        \"description\": \"\"\n      }\n    },\n    {\n      \"column\": \"emotion\",\n      \"properties\": {\n        \"dtype\": \"number\",\n        \"std\": 1,\n        \"min\": 0,\n        \"max\": 6,\n        \"num_unique_values\": 7,\n        \"samples\": [\n          0,\n          6,\n          4\n        ],\n        \"semantic_type\": \"\",\n        \"description\": \"\"\n      }\n    }\n  ]\n}"
            }
          },
          "metadata": {},
          "execution_count": 13
        }
      ],
      "source": [
        "emo_map_guide.head()"
      ]
    },
    {
      "cell_type": "code",
      "execution_count": 14,
      "metadata": {
        "id": "SXaBBHB7KCbF",
        "colab": {
          "base_uri": "https://localhost:8080/",
          "height": 237
        },
        "outputId": "a79e0ccc-d6ee-4b1e-a3ed-2f2279347038"
      },
      "outputs": [
        {
          "output_type": "execute_result",
          "data": {
            "text/plain": [
              "                                                  pixels  emotin        name  \\\n",
              "index                                                                          \n",
              "0      [70, 80, 82, 72, 58, 58, 60, 63, 54, 58, 60, 4...       0  face_0.jpg   \n",
              "4      [4, 0, 0, 0, 0, 0, 0, 0, 0, 0, 0, 0, 3, 15, 23...       6  face_4.jpg   \n",
              "5      [55, 55, 55, 55, 55, 54, 60, 68, 54, 85, 151, ...       2  face_5.jpg   \n",
              "7      [77, 78, 79, 79, 78, 75, 60, 55, 47, 48, 58, 7...       3  face_7.jpg   \n",
              "8      [85, 84, 90, 121, 101, 102, 133, 153, 153, 169...       3  face_8.jpg   \n",
              "\n",
              "                                              path  back_up_emotion  \n",
              "index                                                                \n",
              "0      data/output/pic/Faces-from-3.6.1/face_0.jpg                0  \n",
              "4      data/output/pic/Faces-from-3.6.1/face_4.jpg                6  \n",
              "5      data/output/pic/Faces-from-3.6.1/face_5.jpg                2  \n",
              "7      data/output/pic/Faces-from-3.6.1/face_7.jpg                3  \n",
              "8      data/output/pic/Faces-from-3.6.1/face_8.jpg                3  "
            ],
            "text/html": [
              "\n",
              "  <div id=\"df-b2e63bd2-7297-4d05-87bf-51ab18471ee8\" class=\"colab-df-container\">\n",
              "    <div>\n",
              "<style scoped>\n",
              "    .dataframe tbody tr th:only-of-type {\n",
              "        vertical-align: middle;\n",
              "    }\n",
              "\n",
              "    .dataframe tbody tr th {\n",
              "        vertical-align: top;\n",
              "    }\n",
              "\n",
              "    .dataframe thead th {\n",
              "        text-align: right;\n",
              "    }\n",
              "</style>\n",
              "<table border=\"1\" class=\"dataframe\">\n",
              "  <thead>\n",
              "    <tr style=\"text-align: right;\">\n",
              "      <th></th>\n",
              "      <th>pixels</th>\n",
              "      <th>emotin</th>\n",
              "      <th>name</th>\n",
              "      <th>path</th>\n",
              "      <th>back_up_emotion</th>\n",
              "    </tr>\n",
              "    <tr>\n",
              "      <th>index</th>\n",
              "      <th></th>\n",
              "      <th></th>\n",
              "      <th></th>\n",
              "      <th></th>\n",
              "      <th></th>\n",
              "    </tr>\n",
              "  </thead>\n",
              "  <tbody>\n",
              "    <tr>\n",
              "      <th>0</th>\n",
              "      <td>[70, 80, 82, 72, 58, 58, 60, 63, 54, 58, 60, 4...</td>\n",
              "      <td>0</td>\n",
              "      <td>face_0.jpg</td>\n",
              "      <td>data/output/pic/Faces-from-3.6.1/face_0.jpg</td>\n",
              "      <td>0</td>\n",
              "    </tr>\n",
              "    <tr>\n",
              "      <th>4</th>\n",
              "      <td>[4, 0, 0, 0, 0, 0, 0, 0, 0, 0, 0, 0, 3, 15, 23...</td>\n",
              "      <td>6</td>\n",
              "      <td>face_4.jpg</td>\n",
              "      <td>data/output/pic/Faces-from-3.6.1/face_4.jpg</td>\n",
              "      <td>6</td>\n",
              "    </tr>\n",
              "    <tr>\n",
              "      <th>5</th>\n",
              "      <td>[55, 55, 55, 55, 55, 54, 60, 68, 54, 85, 151, ...</td>\n",
              "      <td>2</td>\n",
              "      <td>face_5.jpg</td>\n",
              "      <td>data/output/pic/Faces-from-3.6.1/face_5.jpg</td>\n",
              "      <td>2</td>\n",
              "    </tr>\n",
              "    <tr>\n",
              "      <th>7</th>\n",
              "      <td>[77, 78, 79, 79, 78, 75, 60, 55, 47, 48, 58, 7...</td>\n",
              "      <td>3</td>\n",
              "      <td>face_7.jpg</td>\n",
              "      <td>data/output/pic/Faces-from-3.6.1/face_7.jpg</td>\n",
              "      <td>3</td>\n",
              "    </tr>\n",
              "    <tr>\n",
              "      <th>8</th>\n",
              "      <td>[85, 84, 90, 121, 101, 102, 133, 153, 153, 169...</td>\n",
              "      <td>3</td>\n",
              "      <td>face_8.jpg</td>\n",
              "      <td>data/output/pic/Faces-from-3.6.1/face_8.jpg</td>\n",
              "      <td>3</td>\n",
              "    </tr>\n",
              "  </tbody>\n",
              "</table>\n",
              "</div>\n",
              "    <div class=\"colab-df-buttons\">\n",
              "\n",
              "  <div class=\"colab-df-container\">\n",
              "    <button class=\"colab-df-convert\" onclick=\"convertToInteractive('df-b2e63bd2-7297-4d05-87bf-51ab18471ee8')\"\n",
              "            title=\"Convert this dataframe to an interactive table.\"\n",
              "            style=\"display:none;\">\n",
              "\n",
              "  <svg xmlns=\"http://www.w3.org/2000/svg\" height=\"24px\" viewBox=\"0 -960 960 960\">\n",
              "    <path d=\"M120-120v-720h720v720H120Zm60-500h600v-160H180v160Zm220 220h160v-160H400v160Zm0 220h160v-160H400v160ZM180-400h160v-160H180v160Zm440 0h160v-160H620v160ZM180-180h160v-160H180v160Zm440 0h160v-160H620v160Z\"/>\n",
              "  </svg>\n",
              "    </button>\n",
              "\n",
              "  <style>\n",
              "    .colab-df-container {\n",
              "      display:flex;\n",
              "      gap: 12px;\n",
              "    }\n",
              "\n",
              "    .colab-df-convert {\n",
              "      background-color: #E8F0FE;\n",
              "      border: none;\n",
              "      border-radius: 50%;\n",
              "      cursor: pointer;\n",
              "      display: none;\n",
              "      fill: #1967D2;\n",
              "      height: 32px;\n",
              "      padding: 0 0 0 0;\n",
              "      width: 32px;\n",
              "    }\n",
              "\n",
              "    .colab-df-convert:hover {\n",
              "      background-color: #E2EBFA;\n",
              "      box-shadow: 0px 1px 2px rgba(60, 64, 67, 0.3), 0px 1px 3px 1px rgba(60, 64, 67, 0.15);\n",
              "      fill: #174EA6;\n",
              "    }\n",
              "\n",
              "    .colab-df-buttons div {\n",
              "      margin-bottom: 4px;\n",
              "    }\n",
              "\n",
              "    [theme=dark] .colab-df-convert {\n",
              "      background-color: #3B4455;\n",
              "      fill: #D2E3FC;\n",
              "    }\n",
              "\n",
              "    [theme=dark] .colab-df-convert:hover {\n",
              "      background-color: #434B5C;\n",
              "      box-shadow: 0px 1px 3px 1px rgba(0, 0, 0, 0.15);\n",
              "      filter: drop-shadow(0px 1px 2px rgba(0, 0, 0, 0.3));\n",
              "      fill: #FFFFFF;\n",
              "    }\n",
              "  </style>\n",
              "\n",
              "    <script>\n",
              "      const buttonEl =\n",
              "        document.querySelector('#df-b2e63bd2-7297-4d05-87bf-51ab18471ee8 button.colab-df-convert');\n",
              "      buttonEl.style.display =\n",
              "        google.colab.kernel.accessAllowed ? 'block' : 'none';\n",
              "\n",
              "      async function convertToInteractive(key) {\n",
              "        const element = document.querySelector('#df-b2e63bd2-7297-4d05-87bf-51ab18471ee8');\n",
              "        const dataTable =\n",
              "          await google.colab.kernel.invokeFunction('convertToInteractive',\n",
              "                                                    [key], {});\n",
              "        if (!dataTable) return;\n",
              "\n",
              "        const docLinkHtml = 'Like what you see? Visit the ' +\n",
              "          '<a target=\"_blank\" href=https://colab.research.google.com/notebooks/data_table.ipynb>data table notebook</a>'\n",
              "          + ' to learn more about interactive tables.';\n",
              "        element.innerHTML = '';\n",
              "        dataTable['output_type'] = 'display_data';\n",
              "        await google.colab.output.renderOutput(dataTable, element);\n",
              "        const docLink = document.createElement('div');\n",
              "        docLink.innerHTML = docLinkHtml;\n",
              "        element.appendChild(docLink);\n",
              "      }\n",
              "    </script>\n",
              "  </div>\n",
              "\n",
              "\n",
              "<div id=\"df-33e652df-7595-4b1c-849c-ef2cfd23e337\">\n",
              "  <button class=\"colab-df-quickchart\" onclick=\"quickchart('df-33e652df-7595-4b1c-849c-ef2cfd23e337')\"\n",
              "            title=\"Suggest charts\"\n",
              "            style=\"display:none;\">\n",
              "\n",
              "<svg xmlns=\"http://www.w3.org/2000/svg\" height=\"24px\"viewBox=\"0 0 24 24\"\n",
              "     width=\"24px\">\n",
              "    <g>\n",
              "        <path d=\"M19 3H5c-1.1 0-2 .9-2 2v14c0 1.1.9 2 2 2h14c1.1 0 2-.9 2-2V5c0-1.1-.9-2-2-2zM9 17H7v-7h2v7zm4 0h-2V7h2v10zm4 0h-2v-4h2v4z\"/>\n",
              "    </g>\n",
              "</svg>\n",
              "  </button>\n",
              "\n",
              "<style>\n",
              "  .colab-df-quickchart {\n",
              "      --bg-color: #E8F0FE;\n",
              "      --fill-color: #1967D2;\n",
              "      --hover-bg-color: #E2EBFA;\n",
              "      --hover-fill-color: #174EA6;\n",
              "      --disabled-fill-color: #AAA;\n",
              "      --disabled-bg-color: #DDD;\n",
              "  }\n",
              "\n",
              "  [theme=dark] .colab-df-quickchart {\n",
              "      --bg-color: #3B4455;\n",
              "      --fill-color: #D2E3FC;\n",
              "      --hover-bg-color: #434B5C;\n",
              "      --hover-fill-color: #FFFFFF;\n",
              "      --disabled-bg-color: #3B4455;\n",
              "      --disabled-fill-color: #666;\n",
              "  }\n",
              "\n",
              "  .colab-df-quickchart {\n",
              "    background-color: var(--bg-color);\n",
              "    border: none;\n",
              "    border-radius: 50%;\n",
              "    cursor: pointer;\n",
              "    display: none;\n",
              "    fill: var(--fill-color);\n",
              "    height: 32px;\n",
              "    padding: 0;\n",
              "    width: 32px;\n",
              "  }\n",
              "\n",
              "  .colab-df-quickchart:hover {\n",
              "    background-color: var(--hover-bg-color);\n",
              "    box-shadow: 0 1px 2px rgba(60, 64, 67, 0.3), 0 1px 3px 1px rgba(60, 64, 67, 0.15);\n",
              "    fill: var(--button-hover-fill-color);\n",
              "  }\n",
              "\n",
              "  .colab-df-quickchart-complete:disabled,\n",
              "  .colab-df-quickchart-complete:disabled:hover {\n",
              "    background-color: var(--disabled-bg-color);\n",
              "    fill: var(--disabled-fill-color);\n",
              "    box-shadow: none;\n",
              "  }\n",
              "\n",
              "  .colab-df-spinner {\n",
              "    border: 2px solid var(--fill-color);\n",
              "    border-color: transparent;\n",
              "    border-bottom-color: var(--fill-color);\n",
              "    animation:\n",
              "      spin 1s steps(1) infinite;\n",
              "  }\n",
              "\n",
              "  @keyframes spin {\n",
              "    0% {\n",
              "      border-color: transparent;\n",
              "      border-bottom-color: var(--fill-color);\n",
              "      border-left-color: var(--fill-color);\n",
              "    }\n",
              "    20% {\n",
              "      border-color: transparent;\n",
              "      border-left-color: var(--fill-color);\n",
              "      border-top-color: var(--fill-color);\n",
              "    }\n",
              "    30% {\n",
              "      border-color: transparent;\n",
              "      border-left-color: var(--fill-color);\n",
              "      border-top-color: var(--fill-color);\n",
              "      border-right-color: var(--fill-color);\n",
              "    }\n",
              "    40% {\n",
              "      border-color: transparent;\n",
              "      border-right-color: var(--fill-color);\n",
              "      border-top-color: var(--fill-color);\n",
              "    }\n",
              "    60% {\n",
              "      border-color: transparent;\n",
              "      border-right-color: var(--fill-color);\n",
              "    }\n",
              "    80% {\n",
              "      border-color: transparent;\n",
              "      border-right-color: var(--fill-color);\n",
              "      border-bottom-color: var(--fill-color);\n",
              "    }\n",
              "    90% {\n",
              "      border-color: transparent;\n",
              "      border-bottom-color: var(--fill-color);\n",
              "    }\n",
              "  }\n",
              "</style>\n",
              "\n",
              "  <script>\n",
              "    async function quickchart(key) {\n",
              "      const quickchartButtonEl =\n",
              "        document.querySelector('#' + key + ' button');\n",
              "      quickchartButtonEl.disabled = true;  // To prevent multiple clicks.\n",
              "      quickchartButtonEl.classList.add('colab-df-spinner');\n",
              "      try {\n",
              "        const charts = await google.colab.kernel.invokeFunction(\n",
              "            'suggestCharts', [key], {});\n",
              "      } catch (error) {\n",
              "        console.error('Error during call to suggestCharts:', error);\n",
              "      }\n",
              "      quickchartButtonEl.classList.remove('colab-df-spinner');\n",
              "      quickchartButtonEl.classList.add('colab-df-quickchart-complete');\n",
              "    }\n",
              "    (() => {\n",
              "      let quickchartButtonEl =\n",
              "        document.querySelector('#df-33e652df-7595-4b1c-849c-ef2cfd23e337 button');\n",
              "      quickchartButtonEl.style.display =\n",
              "        google.colab.kernel.accessAllowed ? 'block' : 'none';\n",
              "    })();\n",
              "  </script>\n",
              "</div>\n",
              "    </div>\n",
              "  </div>\n"
            ],
            "application/vnd.google.colaboratory.intrinsic+json": {
              "type": "dataframe",
              "variable_name": "data_fixed",
              "summary": "{\n  \"name\": \"data_fixed\",\n  \"rows\": 8707,\n  \"fields\": [\n    {\n      \"column\": \"index\",\n      \"properties\": {\n        \"dtype\": \"number\",\n        \"std\": 10311,\n        \"min\": 0,\n        \"max\": 35886,\n        \"num_unique_values\": 8707,\n        \"samples\": [\n          5157,\n          12186,\n          27117\n        ],\n        \"semantic_type\": \"\",\n        \"description\": \"\"\n      }\n    },\n    {\n      \"column\": \"pixels\",\n      \"properties\": {\n        \"dtype\": \"object\",\n        \"semantic_type\": \"\",\n        \"description\": \"\"\n      }\n    },\n    {\n      \"column\": \"emotin\",\n      \"properties\": {\n        \"dtype\": \"number\",\n        \"std\": 1,\n        \"min\": 0,\n        \"max\": 6,\n        \"num_unique_values\": 7,\n        \"samples\": [\n          0,\n          6,\n          4\n        ],\n        \"semantic_type\": \"\",\n        \"description\": \"\"\n      }\n    },\n    {\n      \"column\": \"name\",\n      \"properties\": {\n        \"dtype\": \"string\",\n        \"num_unique_values\": 8707,\n        \"samples\": [\n          \"face_5157.jpg\",\n          \"face_12186.jpg\",\n          \"face_27117.jpg\"\n        ],\n        \"semantic_type\": \"\",\n        \"description\": \"\"\n      }\n    },\n    {\n      \"column\": \"path\",\n      \"properties\": {\n        \"dtype\": \"string\",\n        \"num_unique_values\": 8707,\n        \"samples\": [\n          \"data/output/pic/Faces-from-3.6.1/face_5157.jpg\",\n          \"data/output/pic/Faces-from-3.6.1/face_12186.jpg\",\n          \"data/output/pic/Faces-from-3.6.1/face_27117.jpg\"\n        ],\n        \"semantic_type\": \"\",\n        \"description\": \"\"\n      }\n    },\n    {\n      \"column\": \"back_up_emotion\",\n      \"properties\": {\n        \"dtype\": \"number\",\n        \"std\": 1,\n        \"min\": 0,\n        \"max\": 6,\n        \"num_unique_values\": 7,\n        \"samples\": [\n          0,\n          6,\n          4\n        ],\n        \"semantic_type\": \"\",\n        \"description\": \"\"\n      }\n    }\n  ]\n}"
            }
          },
          "metadata": {},
          "execution_count": 14
        }
      ],
      "source": [
        "data_fixed['name'] = emo_map_guide['name']\n",
        "data_fixed['path'] = emo_map_guide['path']\n",
        "data_fixed['back_up_emotion'] = emo_map_guide['emotion']\n",
        "\n",
        "data_fixed.head()"
      ]
    },
    {
      "cell_type": "code",
      "execution_count": 15,
      "metadata": {
        "colab": {
          "base_uri": "https://localhost:8080/"
        },
        "id": "QNbkQDZwKDgE",
        "outputId": "4026b41a-e721-49dc-f450-1de617fc1557"
      },
      "outputs": [
        {
          "output_type": "stream",
          "name": "stdout",
          "text": [
            " Data was Seccessfuly Scaned and there is NO unmatch items. \n"
          ]
        }
      ],
      "source": [
        "unmatch_emotions_police = []\n",
        "\n",
        "for any_ in data_fixed.index:\n",
        "  if data_fixed.loc[any_, 'emotin'] != data_fixed.loc[any_, 'back_up_emotion']:\n",
        "    unmatch_emotions_police.append(any_)\n",
        "    warnings.warn(f\" One or more NoN-Match Items founded in data// this time index number : {any_}\")\n",
        "  else:\n",
        "    pass\n",
        "if len(unmatch_emotions_police)==0:\n",
        "  print(\" Data was Seccessfuly Scaned and there is NO unmatch items. \")"
      ]
    },
    {
      "cell_type": "markdown",
      "metadata": {
        "id": "uN3YcDZPKNaj"
      },
      "source": [
        "*Some Function to We Use Them Further in This Script :*"
      ]
    },
    {
      "cell_type": "code",
      "execution_count": 16,
      "metadata": {
        "id": "y1urrzVUKU0X"
      },
      "outputs": [],
      "source": [
        "def show(image_array, are_you_using_colab, show_before, show_after, face):\n",
        "    if are_you_using_colab:\n",
        "        try:\n",
        "            from google.colab.patches import cv2_imshow\n",
        "        except ImportError:\n",
        "            print('google.colab is not in your local environment')\n",
        "            return 0\n",
        "        if show_before:\n",
        "            print('Before Cropping:')\n",
        "            cv2_imshow(image_array)\n",
        "        if show_after:\n",
        "            print('After Cropping:')\n",
        "            cv2_imshow(face)\n",
        "    else:\n",
        "        try:\n",
        "            plt.imshow(face)\n",
        "            plt.show()\n",
        "        except Exception as e:\n",
        "            print(\"An error occurred: \", e)\n",
        "            print(\"Sorry, face was detected but we can only show it inside Google Colab.\")\n",
        "            time.sleep(1)\n",
        "            print(\"Try using cv2.imshow('Window Name', VALUE_FROM_THIS_METHOD) to see the result!\")\n",
        "    return 0"
      ]
    },
    {
      "cell_type": "code",
      "execution_count": 17,
      "metadata": {
        "id": "G0nWb7X7Kdi7"
      },
      "outputs": [],
      "source": [
        "def save_array_to_file(array, directory, filename):\n",
        "\n",
        "    if not os.path.exists(directory):\n",
        "        os.makedirs(directory)\n",
        "    path = os.path.join(directory, filename)\n",
        "    np.save(path, array)\n",
        "    return path"
      ]
    },
    {
      "cell_type": "markdown",
      "metadata": {
        "id": "iVbSheTQKoFP"
      },
      "source": [
        "#### pre-trained face detection model for face area cropping\n"
      ]
    },
    {
      "cell_type": "code",
      "execution_count": 18,
      "metadata": {
        "id": "qM5NKj7JKuVC"
      },
      "outputs": [],
      "source": [
        "model = \"models/face_detector_advance/res10_300x300_ssd_iter_140000.caffemodel\"\n",
        "config = \"models/face_detector_advance/deploy.prototxt.txt\"\n",
        "net = cv2.dnn.readNetFromCaffe(config, model)"
      ]
    },
    {
      "cell_type": "code",
      "execution_count": 19,
      "metadata": {
        "id": "PKOy48cOKnAC"
      },
      "outputs": [],
      "source": [
        "def adjust_and_crop_faces(image_array_input, directory='data/output/csv/cropped-arrays', image_size=(48, 48), show_=False,\n",
        "                          return_cropped_array=False, save_one_dimensional=False,\n",
        "                          name_or_id='id', target_to_write=None,\n",
        "                          target_name_for_return_dict='target', index=0,\n",
        "                          show_after=True, show_before=True, are_you_using_colab=True, min_dim_size = 5):\n",
        "    image_array = np.array(image_array_input, dtype=np.uint8).reshape(image_size[0], image_size[1])\n",
        "    image_rgb = np.stack((image_array,) * 3, axis=-1)\n",
        "    blob = cv2.dnn.blobFromImage(image_rgb)\n",
        "    net.setInput(blob)\n",
        "    detections = net.forward()\n",
        "    face = None\n",
        "    if detections.shape[2] > 0:\n",
        "        for i in range(detections.shape[2]):\n",
        "            confidence = detections[0, 0, i, 2]\n",
        "            if confidence > 0.5:\n",
        "                box = detections[0, 0, i, 3:7] * np.array([image_array.shape[1], image_array.shape[0], image_array.shape[1], image_array.shape[0]])\n",
        "                (startX, startY, endX, endY) = box.astype(\"int\")\n",
        "                startX, startY = max(0, startX), max(0, startY)\n",
        "                endX, endY = min(image_array.shape[1], endX), min(image_array.shape[0], endY)\n",
        "                face = image_array[startY:endY, startX:endX]\n",
        "                if face.size > 0:\n",
        "                    break\n",
        "    if face is not None and face.size > 0:\n",
        "        try:\n",
        "            cropped_face_image = Image.fromarray(face)\n",
        "            if cropped_face_image.width < min_dim_size or cropped_face_image.height < min_dim_size:\n",
        "                return None\n",
        "            aspect_ratio = cropped_face_image.width / cropped_face_image.height\n",
        "            if aspect_ratio < 0.2 or aspect_ratio > 5:\n",
        "                return None\n",
        "        except Exception as e:\n",
        "            print(\"An error occurred while processing the face image: \", e)\n",
        "            return None\n",
        "        if return_cropped_array:\n",
        "            if save_one_dimensional:\n",
        "                face = face.reshape(-1)\n",
        "        else:\n",
        "            if show_:\n",
        "                show(image_array, are_you_using_colab, show_before, show_after, face)\n",
        "            return 0\n",
        "        filename = f\"{name_or_id}_{index}.npy\"\n",
        "        path_to_face_array = save_array_to_file(face, directory, filename)\n",
        "        cropped_array = {\n",
        "            'index': index,\n",
        "            'name': name_or_id,\n",
        "            'pixel': path_to_face_array,\n",
        "            target_name_for_return_dict: target_to_write\n",
        "        }\n",
        "        if show_:\n",
        "            show(image_array, are_you_using_colab, show_before, show_after, face)\n",
        "        return cropped_array\n",
        "    else:\n",
        "        return None"
      ]
    },
    {
      "cell_type": "markdown",
      "metadata": {
        "id": "QbKYJ0sFKymy"
      },
      "source": [
        "\n",
        "\n",
        "##### * test:*\n",
        "\n"
      ]
    },
    {
      "cell_type": "code",
      "execution_count": 21,
      "metadata": {
        "colab": {
          "base_uri": "https://localhost:8080/"
        },
        "id": "rEDCbpzHKxUT",
        "outputId": "f6046438-3bdc-4e89-9019-a98498becce3"
      },
      "outputs": [
        {
          "output_type": "stream",
          "name": "stdout",
          "text": [
            "<class 'dict'> \n",
            " columns in result data :  ['index', 'name', 'pixel', 'target'] \n",
            " data/output/csv/cropped-arrays/id_0.npy\n"
          ]
        }
      ],
      "source": [
        "image_array = data_fixed['pixels'][4]\n",
        "\n",
        "test_cropped_face = adjust_and_crop_faces(image_array, return_cropped_array=True)\n",
        "\n",
        "print(type(test_cropped_face), '\\n','columns in result data : ',list(test_cropped_face.keys()), '\\n',test_cropped_face['pixel'])#, test_cropped_face['pixel'].shape"
      ]
    },
    {
      "cell_type": "markdown",
      "metadata": {
        "id": "HDbbsfYkLGql"
      },
      "source": [
        "### loop inside all!"
      ]
    },
    {
      "cell_type": "code",
      "execution_count": 23,
      "metadata": {
        "id": "86l4h9IsLE4q"
      },
      "outputs": [],
      "source": [
        "no_face_after_addjust = []\n",
        "cropped_array = []\n",
        "for indx, cols in data_fixed.iterrows():\n",
        "  image_array = cols['pixels']\n",
        "  face_temp = adjust_and_crop_faces(image_array,\n",
        "                                      directory = 'data/output/csv/Cropped Arrays/',\n",
        "                                      return_cropped_array=True,\n",
        "                                      name_or_id = cols['name'],\n",
        "                                      target_to_write = cols['emotin'],\n",
        "                                      target_name_for_return_dict = 'emotion',\n",
        "                                      index = indx)\n",
        "  if face_temp is None :\n",
        "    no_face_after_addjust.append(indx)\n",
        "  else:\n",
        "    cropped_array.append(face_temp)"
      ]
    },
    {
      "cell_type": "code",
      "execution_count": 24,
      "metadata": {
        "colab": {
          "base_uri": "https://localhost:8080/"
        },
        "id": "V5SQ5TYfL2SY",
        "outputId": "f1f72095-00f4-4526-9968-28708338fc88"
      },
      "outputs": [
        {
          "output_type": "stream",
          "name": "stdout",
          "text": [
            "Length of Not Faces after Crop :  86\n",
            "Length of Faces after Crop :  8621\n"
          ]
        }
      ],
      "source": [
        "print('Length of Not Faces after Crop : ', len(no_face_after_addjust))\n",
        "print('Length of Faces after Crop : ', len(cropped_array))"
      ]
    },
    {
      "cell_type": "code",
      "execution_count": 25,
      "metadata": {
        "colab": {
          "base_uri": "https://localhost:8080/"
        },
        "id": "5tcJr5V1MCZP",
        "outputId": "ac932c06-e2ed-40d8-b311-feec3e0cfea3"
      },
      "outputs": [
        {
          "output_type": "stream",
          "name": "stdout",
          "text": [
            " Here is Some of indexes of invalid images or simply no faces!! \n"
          ]
        },
        {
          "output_type": "execute_result",
          "data": {
            "text/plain": [
              "[29760, 25484, 17603, 15719, 35622, 202, 33423, 17308, 869, 8720]"
            ]
          },
          "metadata": {},
          "execution_count": 25
        }
      ],
      "source": [
        "print(\" Here is Some of indexes of invalid images or simply no faces!! \")\n",
        "np.random.shuffle(no_face_after_addjust)\n",
        "no_face_after_addjust[:10]"
      ]
    },
    {
      "cell_type": "code",
      "execution_count": 27,
      "metadata": {
        "colab": {
          "base_uri": "https://localhost:8080/",
          "height": 228
        },
        "id": "qwEYTzqaMWAC",
        "outputId": "9ffe13e4-95de-4344-c4fb-0d6d69048499"
      },
      "outputs": [
        {
          "output_type": "stream",
          "name": "stdout",
          "text": [
            "Example of non valid pixels :\n"
          ]
        },
        {
          "output_type": "display_data",
          "data": {
            "text/plain": [
              "<Figure size 640x480 with 3 Axes>"
            ],
            "image/png": "[encoded data removed]"
          },
          "metadata": {}
        }
      ],
      "source": [
        "print('Example of non valid pixels :')\n",
        "\n",
        "fig, ax = plt.subplots(1, 3)\n",
        "ax[0].imshow(data_fixed['pixels'][29760].reshape(48,48))\n",
        "ax[1].imshow(data_fixed['pixels'][17308].reshape(48,48))\n",
        "ax[2].imshow(data_fixed['pixels'][869].reshape(48,48))\n",
        "plt.show()"
      ]
    },
    {
      "cell_type": "code",
      "source": [
        "print('Example of valid pixels But before crop :')\n",
        "\n",
        "fig, ax = plt.subplots(1, 3)\n",
        "ax[0].imshow(data_fixed['pixels'][0].reshape(48,48))\n",
        "ax[1].imshow(data_fixed['pixels'][4].reshape(48,48))\n",
        "ax[2].imshow(data_fixed['pixels'][50].reshape(48,48))\n",
        "plt.show()"
      ],
      "metadata": {
        "colab": {
          "base_uri": "https://localhost:8080/",
          "height": 228
        },
        "id": "lilKtZH7Ey_m",
        "outputId": "c9d9ffca-fd39-4d0c-b7b4-df6e1126787c"
      },
      "execution_count": 28,
      "outputs": [
        {
          "output_type": "stream",
          "name": "stdout",
          "text": [
            "Example of valid pixels But before crop :\n"
          ]
        },
        {
          "output_type": "display_data",
          "data": {
            "text/plain": [
              "<Figure size 640x480 with 3 Axes>"
            ],
            "image/png": "[encoded data removed]"
          },
          "metadata": {}
        }
      ]
    },
    {
      "cell_type": "code",
      "execution_count": 34,
      "metadata": {
        "colab": {
          "base_uri": "https://localhost:8080/",
          "height": 206
        },
        "id": "HqF8RrJzO55M",
        "outputId": "576af84b-f8c5-445b-faaf-36ee33549927"
      },
      "outputs": [
        {
          "output_type": "execute_result",
          "data": {
            "text/plain": [
              "   index        name                                            pixel  emotion\n",
              "0      0  face_0.jpg  data/output/csv/Cropped Arrays/face_0.jpg_0.npy        0\n",
              "1      4  face_4.jpg  data/output/csv/Cropped Arrays/face_4.jpg_4.npy        6\n",
              "2      5  face_5.jpg  data/output/csv/Cropped Arrays/face_5.jpg_5.npy        2\n",
              "3      7  face_7.jpg  data/output/csv/Cropped Arrays/face_7.jpg_7.npy        3\n",
              "4      8  face_8.jpg  data/output/csv/Cropped Arrays/face_8.jpg_8.npy        3"
            ],
            "text/html": [
              "\n",
              "  <div id=\"df-747e2f61-3b38-41bf-ba85-69ceb2299d18\" class=\"colab-df-container\">\n",
              "    <div>\n",
              "<style scoped>\n",
              "    .dataframe tbody tr th:only-of-type {\n",
              "        vertical-align: middle;\n",
              "    }\n",
              "\n",
              "    .dataframe tbody tr th {\n",
              "        vertical-align: top;\n",
              "    }\n",
              "\n",
              "    .dataframe thead th {\n",
              "        text-align: right;\n",
              "    }\n",
              "</style>\n",
              "<table border=\"1\" class=\"dataframe\">\n",
              "  <thead>\n",
              "    <tr style=\"text-align: right;\">\n",
              "      <th></th>\n",
              "      <th>index</th>\n",
              "      <th>name</th>\n",
              "      <th>pixel</th>\n",
              "      <th>emotion</th>\n",
              "    </tr>\n",
              "  </thead>\n",
              "  <tbody>\n",
              "    <tr>\n",
              "      <th>0</th>\n",
              "      <td>0</td>\n",
              "      <td>face_0.jpg</td>\n",
              "      <td>data/output/csv/Cropped Arrays/face_0.jpg_0.npy</td>\n",
              "      <td>0</td>\n",
              "    </tr>\n",
              "    <tr>\n",
              "      <th>1</th>\n",
              "      <td>4</td>\n",
              "      <td>face_4.jpg</td>\n",
              "      <td>data/output/csv/Cropped Arrays/face_4.jpg_4.npy</td>\n",
              "      <td>6</td>\n",
              "    </tr>\n",
              "    <tr>\n",
              "      <th>2</th>\n",
              "      <td>5</td>\n",
              "      <td>face_5.jpg</td>\n",
              "      <td>data/output/csv/Cropped Arrays/face_5.jpg_5.npy</td>\n",
              "      <td>2</td>\n",
              "    </tr>\n",
              "    <tr>\n",
              "      <th>3</th>\n",
              "      <td>7</td>\n",
              "      <td>face_7.jpg</td>\n",
              "      <td>data/output/csv/Cropped Arrays/face_7.jpg_7.npy</td>\n",
              "      <td>3</td>\n",
              "    </tr>\n",
              "    <tr>\n",
              "      <th>4</th>\n",
              "      <td>8</td>\n",
              "      <td>face_8.jpg</td>\n",
              "      <td>data/output/csv/Cropped Arrays/face_8.jpg_8.npy</td>\n",
              "      <td>3</td>\n",
              "    </tr>\n",
              "  </tbody>\n",
              "</table>\n",
              "</div>\n",
              "    <div class=\"colab-df-buttons\">\n",
              "\n",
              "  <div class=\"colab-df-container\">\n",
              "    <button class=\"colab-df-convert\" onclick=\"convertToInteractive('df-747e2f61-3b38-41bf-ba85-69ceb2299d18')\"\n",
              "            title=\"Convert this dataframe to an interactive table.\"\n",
              "            style=\"display:none;\">\n",
              "\n",
              "  <svg xmlns=\"http://www.w3.org/2000/svg\" height=\"24px\" viewBox=\"0 -960 960 960\">\n",
              "    <path d=\"M120-120v-720h720v720H120Zm60-500h600v-160H180v160Zm220 220h160v-160H400v160Zm0 220h160v-160H400v160ZM180-400h160v-160H180v160Zm440 0h160v-160H620v160ZM180-180h160v-160H180v160Zm440 0h160v-160H620v160Z\"/>\n",
              "  </svg>\n",
              "    </button>\n",
              "\n",
              "  <style>\n",
              "    .colab-df-container {\n",
              "      display:flex;\n",
              "      gap: 12px;\n",
              "    }\n",
              "\n",
              "    .colab-df-convert {\n",
              "      background-color: #E8F0FE;\n",
              "      border: none;\n",
              "      border-radius: 50%;\n",
              "      cursor: pointer;\n",
              "      display: none;\n",
              "      fill: #1967D2;\n",
              "      height: 32px;\n",
              "      padding: 0 0 0 0;\n",
              "      width: 32px;\n",
              "    }\n",
              "\n",
              "    .colab-df-convert:hover {\n",
              "      background-color: #E2EBFA;\n",
              "      box-shadow: 0px 1px 2px rgba(60, 64, 67, 0.3), 0px 1px 3px 1px rgba(60, 64, 67, 0.15);\n",
              "      fill: #174EA6;\n",
              "    }\n",
              "\n",
              "    .colab-df-buttons div {\n",
              "      margin-bottom: 4px;\n",
              "    }\n",
              "\n",
              "    [theme=dark] .colab-df-convert {\n",
              "      background-color: #3B4455;\n",
              "      fill: #D2E3FC;\n",
              "    }\n",
              "\n",
              "    [theme=dark] .colab-df-convert:hover {\n",
              "      background-color: #434B5C;\n",
              "      box-shadow: 0px 1px 3px 1px rgba(0, 0, 0, 0.15);\n",
              "      filter: drop-shadow(0px 1px 2px rgba(0, 0, 0, 0.3));\n",
              "      fill: #FFFFFF;\n",
              "    }\n",
              "  </style>\n",
              "\n",
              "    <script>\n",
              "      const buttonEl =\n",
              "        document.querySelector('#df-747e2f61-3b38-41bf-ba85-69ceb2299d18 button.colab-df-convert');\n",
              "      buttonEl.style.display =\n",
              "        google.colab.kernel.accessAllowed ? 'block' : 'none';\n",
              "\n",
              "      async function convertToInteractive(key) {\n",
              "        const element = document.querySelector('#df-747e2f61-3b38-41bf-ba85-69ceb2299d18');\n",
              "        const dataTable =\n",
              "          await google.colab.kernel.invokeFunction('convertToInteractive',\n",
              "                                                    [key], {});\n",
              "        if (!dataTable) return;\n",
              "\n",
              "        const docLinkHtml = 'Like what you see? Visit the ' +\n",
              "          '<a target=\"_blank\" href=https://colab.research.google.com/notebooks/data_table.ipynb>data table notebook</a>'\n",
              "          + ' to learn more about interactive tables.';\n",
              "        element.innerHTML = '';\n",
              "        dataTable['output_type'] = 'display_data';\n",
              "        await google.colab.output.renderOutput(dataTable, element);\n",
              "        const docLink = document.createElement('div');\n",
              "        docLink.innerHTML = docLinkHtml;\n",
              "        element.appendChild(docLink);\n",
              "      }\n",
              "    </script>\n",
              "  </div>\n",
              "\n",
              "\n",
              "<div id=\"df-4bd4bd08-7683-4c0e-b0f7-cfa90e87cc45\">\n",
              "  <button class=\"colab-df-quickchart\" onclick=\"quickchart('df-4bd4bd08-7683-4c0e-b0f7-cfa90e87cc45')\"\n",
              "            title=\"Suggest charts\"\n",
              "            style=\"display:none;\">\n",
              "\n",
              "<svg xmlns=\"http://www.w3.org/2000/svg\" height=\"24px\"viewBox=\"0 0 24 24\"\n",
              "     width=\"24px\">\n",
              "    <g>\n",
              "        <path d=\"M19 3H5c-1.1 0-2 .9-2 2v14c0 1.1.9 2 2 2h14c1.1 0 2-.9 2-2V5c0-1.1-.9-2-2-2zM9 17H7v-7h2v7zm4 0h-2V7h2v10zm4 0h-2v-4h2v4z\"/>\n",
              "    </g>\n",
              "</svg>\n",
              "  </button>\n",
              "\n",
              "<style>\n",
              "  .colab-df-quickchart {\n",
              "      --bg-color: #E8F0FE;\n",
              "      --fill-color: #1967D2;\n",
              "      --hover-bg-color: #E2EBFA;\n",
              "      --hover-fill-color: #174EA6;\n",
              "      --disabled-fill-color: #AAA;\n",
              "      --disabled-bg-color: #DDD;\n",
              "  }\n",
              "\n",
              "  [theme=dark] .colab-df-quickchart {\n",
              "      --bg-color: #3B4455;\n",
              "      --fill-color: #D2E3FC;\n",
              "      --hover-bg-color: #434B5C;\n",
              "      --hover-fill-color: #FFFFFF;\n",
              "      --disabled-bg-color: #3B4455;\n",
              "      --disabled-fill-color: #666;\n",
              "  }\n",
              "\n",
              "  .colab-df-quickchart {\n",
              "    background-color: var(--bg-color);\n",
              "    border: none;\n",
              "    border-radius: 50%;\n",
              "    cursor: pointer;\n",
              "    display: none;\n",
              "    fill: var(--fill-color);\n",
              "    height: 32px;\n",
              "    padding: 0;\n",
              "    width: 32px;\n",
              "  }\n",
              "\n",
              "  .colab-df-quickchart:hover {\n",
              "    background-color: var(--hover-bg-color);\n",
              "    box-shadow: 0 1px 2px rgba(60, 64, 67, 0.3), 0 1px 3px 1px rgba(60, 64, 67, 0.15);\n",
              "    fill: var(--button-hover-fill-color);\n",
              "  }\n",
              "\n",
              "  .colab-df-quickchart-complete:disabled,\n",
              "  .colab-df-quickchart-complete:disabled:hover {\n",
              "    background-color: var(--disabled-bg-color);\n",
              "    fill: var(--disabled-fill-color);\n",
              "    box-shadow: none;\n",
              "  }\n",
              "\n",
              "  .colab-df-spinner {\n",
              "    border: 2px solid var(--fill-color);\n",
              "    border-color: transparent;\n",
              "    border-bottom-color: var(--fill-color);\n",
              "    animation:\n",
              "      spin 1s steps(1) infinite;\n",
              "  }\n",
              "\n",
              "  @keyframes spin {\n",
              "    0% {\n",
              "      border-color: transparent;\n",
              "      border-bottom-color: var(--fill-color);\n",
              "      border-left-color: var(--fill-color);\n",
              "    }\n",
              "    20% {\n",
              "      border-color: transparent;\n",
              "      border-left-color: var(--fill-color);\n",
              "      border-top-color: var(--fill-color);\n",
              "    }\n",
              "    30% {\n",
              "      border-color: transparent;\n",
              "      border-left-color: var(--fill-color);\n",
              "      border-top-color: var(--fill-color);\n",
              "      border-right-color: var(--fill-color);\n",
              "    }\n",
              "    40% {\n",
              "      border-color: transparent;\n",
              "      border-right-color: var(--fill-color);\n",
              "      border-top-color: var(--fill-color);\n",
              "    }\n",
              "    60% {\n",
              "      border-color: transparent;\n",
              "      border-right-color: var(--fill-color);\n",
              "    }\n",
              "    80% {\n",
              "      border-color: transparent;\n",
              "      border-right-color: var(--fill-color);\n",
              "      border-bottom-color: var(--fill-color);\n",
              "    }\n",
              "    90% {\n",
              "      border-color: transparent;\n",
              "      border-bottom-color: var(--fill-color);\n",
              "    }\n",
              "  }\n",
              "</style>\n",
              "\n",
              "  <script>\n",
              "    async function quickchart(key) {\n",
              "      const quickchartButtonEl =\n",
              "        document.querySelector('#' + key + ' button');\n",
              "      quickchartButtonEl.disabled = true;  // To prevent multiple clicks.\n",
              "      quickchartButtonEl.classList.add('colab-df-spinner');\n",
              "      try {\n",
              "        const charts = await google.colab.kernel.invokeFunction(\n",
              "            'suggestCharts', [key], {});\n",
              "      } catch (error) {\n",
              "        console.error('Error during call to suggestCharts:', error);\n",
              "      }\n",
              "      quickchartButtonEl.classList.remove('colab-df-spinner');\n",
              "      quickchartButtonEl.classList.add('colab-df-quickchart-complete');\n",
              "    }\n",
              "    (() => {\n",
              "      let quickchartButtonEl =\n",
              "        document.querySelector('#df-4bd4bd08-7683-4c0e-b0f7-cfa90e87cc45 button');\n",
              "      quickchartButtonEl.style.display =\n",
              "        google.colab.kernel.accessAllowed ? 'block' : 'none';\n",
              "    })();\n",
              "  </script>\n",
              "</div>\n",
              "    </div>\n",
              "  </div>\n"
            ],
            "application/vnd.google.colaboratory.intrinsic+json": {
              "type": "dataframe",
              "variable_name": "cropped_array_df",
              "summary": "{\n  \"name\": \"cropped_array_df\",\n  \"rows\": 8621,\n  \"fields\": [\n    {\n      \"column\": \"index\",\n      \"properties\": {\n        \"dtype\": \"number\",\n        \"std\": 10310,\n        \"min\": 0,\n        \"max\": 35886,\n        \"num_unique_values\": 8621,\n        \"samples\": [\n          2281,\n          810,\n          33829\n        ],\n        \"semantic_type\": \"\",\n        \"description\": \"\"\n      }\n    },\n    {\n      \"column\": \"name\",\n      \"properties\": {\n        \"dtype\": \"string\",\n        \"num_unique_values\": 8621,\n        \"samples\": [\n          \"face_2281.jpg\",\n          \"face_810.jpg\",\n          \"face_33829.jpg\"\n        ],\n        \"semantic_type\": \"\",\n        \"description\": \"\"\n      }\n    },\n    {\n      \"column\": \"pixel\",\n      \"properties\": {\n        \"dtype\": \"string\",\n        \"num_unique_values\": 8621,\n        \"samples\": [\n          \"data/output/csv/Cropped Arrays/face_2281.jpg_2281.npy\",\n          \"data/output/csv/Cropped Arrays/face_810.jpg_810.npy\",\n          \"data/output/csv/Cropped Arrays/face_33829.jpg_33829.npy\"\n        ],\n        \"semantic_type\": \"\",\n        \"description\": \"\"\n      }\n    },\n    {\n      \"column\": \"emotion\",\n      \"properties\": {\n        \"dtype\": \"number\",\n        \"std\": 1,\n        \"min\": 0,\n        \"max\": 6,\n        \"num_unique_values\": 7,\n        \"samples\": [\n          0,\n          6,\n          4\n        ],\n        \"semantic_type\": \"\",\n        \"description\": \"\"\n      }\n    }\n  ]\n}"
            }
          },
          "metadata": {},
          "execution_count": 34
        }
      ],
      "source": [
        "cropped_array_df = pd.DataFrame(cropped_array)\n",
        "\n",
        "cropped_array_df.to_csv('Cropped-Faces-DataFrame-from-4.7.0.csv', index = False)\n",
        "\n",
        "cropped_array_df.head()"
      ]
    },
    {
      "cell_type": "code",
      "execution_count": 30,
      "metadata": {
        "colab": {
          "base_uri": "https://localhost:8080/",
          "height": 430
        },
        "id": "v4FkxW09SsqG",
        "outputId": "4b6c8206-f6a5-4ab0-a4ad-d19438b15256"
      },
      "outputs": [
        {
          "output_type": "display_data",
          "data": {
            "text/plain": [
              "<Figure size 640x480 with 1 Axes>"
            ],
            "image/png": "[encoded data removed]"
          },
          "metadata": {}
        }
      ],
      "source": [
        "from matplotlib import pyplot as plt\n",
        "\n",
        "colors = ['red','white','blue','yellow','orange','green', 'black']\n",
        "\n",
        "cmap = plt.cm.viridis\n",
        "\n",
        "counts, bins, patches = plt.hist(cropped_array_df['emotion'], bins=7)\n",
        "\n",
        "bin_centers = 0.5 * (bins[:-1] + bins[1:])\n",
        "col = bin_centers - min(bin_centers)\n",
        "col /= max(col)\n",
        "for c, p in zip(col, patches):\n",
        "    plt.setp(p, 'facecolor', cmap(c))\n",
        "\n",
        "plt.show()"
      ]
    },
    {
      "cell_type": "markdown",
      "metadata": {
        "id": "kpRC2mlfSQKn"
      },
      "source": [
        "### Saving our result for finaly step ###"
      ]
    },
    {
      "cell_type": "code",
      "execution_count": null,
      "metadata": {
        "id": "5MPwnCXyPnQ8"
      },
      "outputs": [],
      "source": [
        "#!zip -r 'Cropped-Faces-DataFrame-from-4.7.0.zip' '/content/mr.DGA/data/output/csv/Cropped Arrays/'"
      ]
    },
    {
      "cell_type": "code",
      "execution_count": 32,
      "metadata": {
        "colab": {
          "base_uri": "https://localhost:8080/",
          "height": 17
        },
        "id": "CAK3B5fdPnJ0",
        "outputId": "fe0bb59e-f45f-45ea-ae97-d1978f2823e8"
      },
      "outputs": [
        {
          "output_type": "display_data",
          "data": {
            "text/plain": [
              "<IPython.core.display.Javascript object>"
            ],
            "application/javascript": [
              "\n",
              "    async function download(id, filename, size) {\n",
              "      if (!google.colab.kernel.accessAllowed) {\n",
              "        return;\n",
              "      }\n",
              "      const div = document.createElement('div');\n",
              "      const label = document.createElement('label');\n",
              "      label.textContent = `Downloading \"${filename}\": `;\n",
              "      div.appendChild(label);\n",
              "      const progress = document.createElement('progress');\n",
              "      progress.max = size;\n",
              "      div.appendChild(progress);\n",
              "      document.body.appendChild(div);\n",
              "\n",
              "      const buffers = [];\n",
              "      let downloaded = 0;\n",
              "\n",
              "      const channel = await google.colab.kernel.comms.open(id);\n",
              "      // Send a message to notify the kernel that we're ready.\n",
              "      channel.send({})\n",
              "\n",
              "      for await (const message of channel.messages) {\n",
              "        // Send a message to notify the kernel that we're ready.\n",
              "        channel.send({})\n",
              "        if (message.buffers) {\n",
              "          for (const buffer of message.buffers) {\n",
              "            buffers.push(buffer);\n",
              "            downloaded += buffer.byteLength;\n",
              "            progress.value = downloaded;\n",
              "          }\n",
              "        }\n",
              "      }\n",
              "      const blob = new Blob(buffers, {type: 'application/binary'});\n",
              "      const a = document.createElement('a');\n",
              "      a.href = window.URL.createObjectURL(blob);\n",
              "      a.download = filename;\n",
              "      div.appendChild(a);\n",
              "      a.click();\n",
              "      div.remove();\n",
              "    }\n",
              "  "
            ]
          },
          "metadata": {}
        },
        {
          "output_type": "display_data",
          "data": {
            "text/plain": [
              "<IPython.core.display.Javascript object>"
            ],
            "application/javascript": [
              "download(\"download_996819df-f102-4526-b56b-50c22bf1edd7\", \"Cropped-Faces-DataFrame-from-4.7.0.zip\", 17009420)"
            ]
          },
          "metadata": {}
        }
      ],
      "source": [
        "#from google.colab import files\n",
        "#files.download('/content/mr.DGA/Cropped-Faces-DataFrame-from-4.7.0.zip')"
      ]
    },
    {
      "cell_type": "markdown",
      "metadata": {
        "id": "d7LjxSq8SIfh"
      },
      "source": [
        "### Just Make Sure Everything os OK!\n",
        "'Example of valid pixels AFTER CROP '\n"
      ]
    },
    {
      "cell_type": "code",
      "execution_count": 35,
      "metadata": {
        "colab": {
          "base_uri": "https://localhost:8080/",
          "height": 87
        },
        "id": "GoAOK33OSHO9",
        "outputId": "48780feb-dac3-4310-bf00-128799b20186"
      },
      "outputs": [
        {
          "output_type": "execute_result",
          "data": {
            "text/plain": [
              "array([[ 70,  80,  82, ..., 129, 110, 113],\n",
              "       [ 65,  61,  58, ..., 167, 116,  95],\n",
              "       [ 50,  43,  54, ..., 190, 145,  86],\n",
              "       ...,\n",
              "       [ 91,  65,  42, ..., 173,  98,  36],\n",
              "       [ 77,  82,  79, ..., 137, 130, 125],\n",
              "       [ 77,  72,  84, ..., 138, 150, 148]], dtype=uint8)"
            ],
            "text/html": [
              "<style>\n",
              "      .ndarray_repr .ndarray_raw_data {\n",
              "        display: none;\n",
              "      }\n",
              "      .ndarray_repr.show_array .ndarray_raw_data {\n",
              "        display: block;\n",
              "      }\n",
              "      .ndarray_repr.show_array .ndarray_image_preview {\n",
              "        display: none;\n",
              "      }\n",
              "      </style>\n",
              "      <div id=\"id-91f52f96-2049-408e-98b3-29b15922ee43\" class=\"ndarray_repr\"><pre>ndarray (48, 37) <button style=\"padding: 0 2px;\">show data</button></pre><img src=\"data:image/png;base64,iVBORw0KGgoAAAANSUhEUgAAACUAAAAwCAAAAACz7uz3AAAFAElEQVR4nAXBW29dRxUA4HWb2Tef43Nsx6lvxW1KpIhCaAsqSDyBhHjmmR/KOyAhpIqHlko0BhW3qeM4jnNu+zIzay2+D3/fUr8G4kFo++w0WsnbaYLYdItlG2bGWq7uWfK9us9ipqH8+lmtIJAVUGKsQxB2svHpF3eymrrWaSrb+S9/HNiRkQSRUIQDoaNye3Et29gMQyT80eeHKCxOzIDEREDEbhjYL/8hPrxMHe49eX5A4OTIBIxAxEDGyABcFkeyCbS/6M4/aoDcAd3QsXIAAICChOhQnwrEZbd3cVK5OxEiAIIDASEiIxg6AJwJFaXFfiBLiAjqBADg5mwuUQBIvRxQceNOyNFSAmRUR3dGikF42k2GkbUSE+iahl0djImxQIRtpMxSsFZ3BS4gMc7nM3Z3R7TiYP3U+CZkP2gyAhCpA0qcXxzXBEaQ24ojgU8ZhX1MNIS2TGikRfZPTueRwdQJvViF1IGG2lfbvLKqMUW1tRy+txQm08nD22EquF/vdVIXoX636+72m4oS9bI/iwyMuQzTahtQ31mPfLxo99B5XJOWxjFIXSEhMKTtaJWVsh1WKd7F+ezxbFF2fcyhERDBDMIkXKXVD2QbGCvfaZeGrvXtm7y79faYpag7MbZIutB69drjZz+szNsmVPXN39cj8dP6Rso0Q+TgLIvqVRa7/fhnclPr0fxwufjLi2nxKTzoWvrkSFKxtZMf/bf67bRvp8d7q9jsP1rK4w2cPf1n6WVnxR05olFqP7i5b1ayV8eZx3nd/WrxVj6Bz6+TvBlI3Z2EwmCzo14dqeYphyrI5fSo2VSn3xQ5rjxrTsRUk4rtFYPoxTkWw+70bgeL2U7lvEpxiDqRB9bixZjRFaFYNmkPT5BYUUqaDCY28FwHLygAqsmsBMsY2iFUoiTBC4SJKncYagkBFEvfoyGXqQKpKRizCFgegmYupNp4TaDjbpvaViIHEEYsigKokqcKM0AMDOauaTPOpYlBQkySSu5ZyFhhyjJpnYkgk+d+O58bIao2A2tZrVgoRDNNEk1xMhHQcV0kh2KJhgaK4csxCKHVk6bItakDOOQh93fTZmovl2M4arL/z0AITUVzYkMAJcNk8+++vLn34ysMnxwXffcdm6SIigCqJbibknlrZw98Pmynk+fHWuzbDWdRg0wMoIUY3dxjpY8+e5j6d/Pnl3dKwxWoy4CNAoQMjOiowJZMteoOlp2VSuX6++gooEqFjK13ZLEUdwlttByY07ou05cK6pKpRLFCphKUiu62jmhNyFjxiup/3VRZa5kAHCl5wBTddJyAUMqgR2iOrl8pkw8yQkxkGBx1im66euj7TTE+x/zx/vz1TVQ9+Eh2pW62JoEASqGEh/2rzTCO9e2sWzT8zdA2v/v5UnRkQtyhC4ZE0HbnnwINW+4687F/IfqLn2z/KiXlRaUgIEJpmEmZ2KvHF8EHCJvra35ytvn2tQCsceahKUB9xNKDMu3eTDTbr/L6q4O9Zy1duYyB1hQTdmEM1ExGabMp6W578dMD/PrfH/7mkNOrIu+/qDdvF1ZKxe3ILYnlbaI6+j3o31798cmhvixv5ODiNq6GLhDGkqcuds3e++KZ2O2L2z/9oeC76vRK1sv5sP7+PozTzCGOoV6Kt65W+v98zYf3zepmdXkm0O/Vy5OHlw+5j4ehXWOLhSlhHq5e93/u3gsBj+z/Gkwajyu4rIgAAAAASUVORK5CYII=\" class=\"ndarray_image_preview\" /><pre class=\"ndarray_raw_data\">array([[ 70,  80,  82, ..., 129, 110, 113],\n",
              "       [ 65,  61,  58, ..., 167, 116,  95],\n",
              "       [ 50,  43,  54, ..., 190, 145,  86],\n",
              "       ...,\n",
              "       [ 91,  65,  42, ..., 173,  98,  36],\n",
              "       [ 77,  82,  79, ..., 137, 130, 125],\n",
              "       [ 77,  72,  84, ..., 138, 150, 148]], dtype=uint8)</pre></div><script>\n",
              "      (() => {\n",
              "      const titles = ['show data', 'hide data'];\n",
              "      let index = 0\n",
              "      document.querySelector('#id-91f52f96-2049-408e-98b3-29b15922ee43 button').onclick = (e) => {\n",
              "        document.querySelector('#id-91f52f96-2049-408e-98b3-29b15922ee43').classList.toggle('show_array');\n",
              "        index = (++index) % 2;\n",
              "        document.querySelector('#id-91f52f96-2049-408e-98b3-29b15922ee43 button').textContent = titles[index];\n",
              "        e.preventDefault();\n",
              "        e.stopPropagation();\n",
              "      }\n",
              "      })();\n",
              "    </script>"
            ]
          },
          "metadata": {},
          "execution_count": 35
        }
      ],
      "source": [
        "np.load('data/output/csv/Cropped Arrays/face_0.jpg_0.npy')"
      ]
    },
    {
      "cell_type": "code",
      "execution_count": 36,
      "metadata": {
        "colab": {
          "base_uri": "https://localhost:8080/",
          "height": 87
        },
        "id": "FNm7vhIMShoN",
        "outputId": "498d0a60-9942-40b1-e6b9-1652e7003ec7"
      },
      "outputs": [
        {
          "output_type": "execute_result",
          "data": {
            "text/plain": [
              "array([[ 0,  0,  0, ..., 17,  7,  5],\n",
              "       [ 0,  0,  0, ..., 13,  9,  2],\n",
              "       [ 0,  0,  0, ..., 11,  8,  3],\n",
              "       ...,\n",
              "       [ 0,  0,  0, ..., 34, 32, 33],\n",
              "       [ 0,  0,  0, ..., 33, 30, 29],\n",
              "       [ 0,  0,  0, ..., 31, 31, 27]], dtype=uint8)"
            ],
            "text/html": [
              "<style>\n",
              "      .ndarray_repr .ndarray_raw_data {\n",
              "        display: none;\n",
              "      }\n",
              "      .ndarray_repr.show_array .ndarray_raw_data {\n",
              "        display: block;\n",
              "      }\n",
              "      .ndarray_repr.show_array .ndarray_image_preview {\n",
              "        display: none;\n",
              "      }\n",
              "      </style>\n",
              "      <div id=\"id-c96fd88b-7e6d-41c5-9410-7150f7d8b83c\" class=\"ndarray_repr\"><pre>ndarray (48, 40) <button style=\"padding: 0 2px;\">show data</button></pre><img src=\"data:image/png;base64,iVBORw0KGgoAAAANSUhEUgAAACgAAAAwCAAAAABGEGdHAAAFgklEQVR4nC3KSY+cRxkA4Herqm/rve2Z8SKb2BaXJCgKshQp5xwiwZm/wZ1/kB/ChQMCDuSEBIqCxAEElm1sCW9jz3jsdE93f3tVvcXBec4Pwo+4ysyasmu3qsLkJo2SDFPcnz85a9ttaFV+fLbKykl15fZKLHOJaEXIJCqoCbuRAvkPEU1Vro/XR5PcGGMADCW0RjDyOqTT9lAn/BDd8dFqPZ1YBrIGSUiSCCkbA9FLveEBBACgvHlrnhUWk1hGATaoCIgkCLY8zjanrlMBALuaZ5aZiBEtW5NImYSBiBBTXm1fbmwnAJjlgmTFGsNGrFikIARMxITgICxXRYsCgIaiAmWFkM2MEzJEgsBIJoIgAliMIIDCMbJ1wo5t5pwlTsLEwMgJQMCKiTEJsrEInJWO2dnMEYIwKzMgJEzKZPKFJBTELFMQiFLmJjMAIJ4tKlNgRQ9CzMtpQAGxCoQ9WVHydZaxIlJMdRgleQw8NzxfcRJwGEhba3eXHaELRzcWVqNvftjWh8BmPRtLMFMKQgJBwM1y9P0lZVkDGfoS2ouLzS66pTjX1H2GIMwjlFdXLr45vRzstZ/Ed+s8IVtKsbtMh4RhPdsToiAMzMY/f/AyuOn4UI/b3XSCxtXn56dbH+iTz7vrJZhBYOhpfNy+7ck4nkyeDcX7NQAfnpy/fhVsLv98+lXVI8yEXT2ejgC8qHiC5ujVcuMT+E0fNlMYWe49+uPQFO5r4QQChKtPr/97/fWt323P6n2fnKebZ79a/1Z+gd+ayz/d+3R6TUxQU3b+5lfnP1P8YviGbd0C63T48td/+6nPfx5+2FsC80I48JU79tWD8PFQvvnN2WxgHYik0NNvlkfbF5vvX9657cW9F5ze/fgoPzx683S+fYd5EiNIwMW9v39XUDtuil/ev7l/XQ6ixdJVUqx9DOpifVaDzbLMTz65Pm5rlGxxtcLeFPcFYrsfrGWEEHwD0SqwsLrFzNfRshVKY9LDXELwQ1dyzurHmLWKQBwCmZQII6jGxDzudCsxjGHoSxZQtpEoRPU+cgIGjFE5EQ9du3pB4Lt+CGMAIMHQN3UnwXufvAojoCL5tg53GxLtm7btfAQKoL7Z4zQbB1DvlQwlUN8eds3JVXIYDrumaWMI4HXYxrKcFpDn3icAJAhDf9gdX0kkjOO+6ZrW+wjhuZ/Pjq4WOeISfYqI6g+79+v7KxUQSP2hKPsE5Havjp0chst02V8xHbBCanf7/kaczaUvOIWhb5yKsStZrP5RF9enF88//0g5KUTvR2ODOZeNM5DU+1azZI6/vFjQsxv5dDwJyD5S6oIYP2wfPZTYlZQipAETduON+dnJ9aNsfRJnCD6qRsD8v3/G3SjUJYxdP5rkx27AbO3u3lac06iGeg1oAr17WH7xQKp6IPJNkY2kgcpolhMah9oqoaJqAki7svsso6kOKcXm0Ne9+hTQ5jxt35ECRlXQpNBtGAJLDU3JoW8OAgR+NASdVtRVFbYxxRjCmE+3MZsjAh1NLBfzosqlIUMwuoWBYnF7dfBBh9DDX/4qn20QMM1WGdtpPp+82+S5HVMOhQaA26v5yTjE8Q9vLwp3KQgwjAzqOfl6tz3Rg68mI9/E/bP/3SnF89m/qmVqkiQEGJj8mPfFwrfJLBfHE3c0TQcf2jrz+h/fqvcokCBpxzAOsoul1WbGrOJfe1tW6L1ePHZhb5QEABR9z6HDkFcSmIc31k2Ws5y8pk4ebrIAqigAkBRaK9pHEFtluXNNAuTkRw7x9DsJniIkAQBNGGvx4tn3wkI0BxJMgWVsfv/4uMKEmgQAAFn7PbAJvqREibK5hQIl+f7JU3iLhaYPUcFqbABL9ODJGzuZOkmeff2eEdIhV8D4f4FxHIn11JlYAAAAAElFTkSuQmCC\" class=\"ndarray_image_preview\" /><pre class=\"ndarray_raw_data\">array([[ 0,  0,  0, ..., 17,  7,  5],\n",
              "       [ 0,  0,  0, ..., 13,  9,  2],\n",
              "       [ 0,  0,  0, ..., 11,  8,  3],\n",
              "       ...,\n",
              "       [ 0,  0,  0, ..., 34, 32, 33],\n",
              "       [ 0,  0,  0, ..., 33, 30, 29],\n",
              "       [ 0,  0,  0, ..., 31, 31, 27]], dtype=uint8)</pre></div><script>\n",
              "      (() => {\n",
              "      const titles = ['show data', 'hide data'];\n",
              "      let index = 0\n",
              "      document.querySelector('#id-c96fd88b-7e6d-41c5-9410-7150f7d8b83c button').onclick = (e) => {\n",
              "        document.querySelector('#id-c96fd88b-7e6d-41c5-9410-7150f7d8b83c').classList.toggle('show_array');\n",
              "        index = (++index) % 2;\n",
              "        document.querySelector('#id-c96fd88b-7e6d-41c5-9410-7150f7d8b83c button').textContent = titles[index];\n",
              "        e.preventDefault();\n",
              "        e.stopPropagation();\n",
              "      }\n",
              "      })();\n",
              "    </script>"
            ]
          },
          "metadata": {},
          "execution_count": 36
        }
      ],
      "source": [
        "np.load('data/output/csv/Cropped Arrays/face_4.jpg_4.npy')"
      ]
    },
    {
      "cell_type": "code",
      "source": [
        "np.load('data/output/csv/Cropped Arrays/face_50.jpg_50.npy')"
      ],
      "metadata": {
        "colab": {
          "base_uri": "https://localhost:8080/",
          "height": 87
        },
        "id": "NMWFZC53JdQH",
        "outputId": "e052864b-6ce7-4057-d587-8f34f2899bf6"
      },
      "execution_count": 37,
      "outputs": [
        {
          "output_type": "execute_result",
          "data": {
            "text/plain": [
              "array([[124, 129, 128, ..., 218, 218, 211],\n",
              "       [126, 126, 128, ..., 211, 215, 206],\n",
              "       [126, 130, 132, ..., 198, 202, 208],\n",
              "       ...,\n",
              "       [ 69,  67,  66, ..., 101, 101, 101],\n",
              "       [ 68,  68,  68, ..., 101, 102,  97],\n",
              "       [ 67,  67,  68, ..., 102, 104,  93]], dtype=uint8)"
            ],
            "text/html": [
              "<style>\n",
              "      .ndarray_repr .ndarray_raw_data {\n",
              "        display: none;\n",
              "      }\n",
              "      .ndarray_repr.show_array .ndarray_raw_data {\n",
              "        display: block;\n",
              "      }\n",
              "      .ndarray_repr.show_array .ndarray_image_preview {\n",
              "        display: none;\n",
              "      }\n",
              "      </style>\n",
              "      <div id=\"id-b0e8ec5a-d19f-4f08-bd34-b88856f90dfc\" class=\"ndarray_repr\"><pre>ndarray (48, 40) <button style=\"padding: 0 2px;\">show data</button></pre><img src=\"data:image/png;base64,iVBORw0KGgoAAAANSUhEUgAAACgAAAAwCAAAAABGEGdHAAAFSElEQVR4nAXByY5kVxEA0Ii4cYc3ZFZWZVd3y7IZbCHYIINk+ev4Hn6ANQtYIbFAoqFlGzx001NVV+X0Xua7YwTn4B+sKlYl4S547hwWNcE0wWLseCvz6WzD5hoSUyMQ2xTJumQUlC2AYUzct/pQHI6d7RIXBqZYbXUWoXjfV2ZorEqhueIIvLNVL8KOHBYhgSbIEWpiaAjCDMYZz8EBqqJZIzOKYAzsgI3VzmpTJoMYBAyDEDRM3nCvrA01eKLkqjWFiEwSamoQomOiZBKbIl4ZoTTbjIx1sTRJACpkCLQooFpFRC2WugtLVK1KtoiKVcmmoWPEBhgAioGMREZoxdVIK9Syb2zjqGKFTNEmYgQ5QATrKHC9Yi0grYEYNb4CohK4KBmwb4ZbrCbgSrM1XGyubXGBkZmksmGoyApAvIktAymKqZQJBHKGIEVsjQ3VwWDZVrAaqqaKLUtD8oVazgXc4rlOxzSO3Tr0HEn7MPKsHlRzJGURWnJGzj4v7ZS4icg4XoDdU8uxnc+aa25zozJxq2BHauVp2F3ScVjTE13WxnuIsR0w4NlzKa1/zVnYD3P4HBK9a7x6nu5H/Bxh3u3neL5+3tkro1VrY2MsBx6PF/9Tsnk5HsabLzy1u3T/iux59+ufhTAlpBOxUCjy9rtXp4yHNtmU625Xdy8n/dXXfZy/ub/pOKomRhW5VH7WToP7hKeuxDzdpdPN/mFdD3iOD/MKc3+cOFuD1Gs2twJJ1/vZnsxkYVueQx7N+BtMTojS37iIn5437oR8PqVapVbIeSm50vYXm57kjOrHnxZWyA59h54wwmS1cM4xmtQ73tgyb8ejaJ8eL6yiK469NGkNhzqNyQyezZYKh8EOtFfQ9uL9K1Y1oeB5LUUE8AhSR+5cMKDaoi0pe5fvymnmkOvpyvpYq63tnLRQruwXcYZyQSeOGtzq3zM5ENLCszHcJhpXnWTBZbhtGbzJEcjT/ff7fyLtqJX5/BEQUtmGj4dMJsdMfouSBF0X5Hz/9X/eMz/8HLpzDdsmcIsvExmP3ODd49M1GaNYMSz+xZ8dcCaobn8FidbP/ueaGuEmJH7XBzKIYOH9H7/xrNya2qMz5+Fqc9ptx4972w8Im9v9zlswlpN9HQOCcMm2ympehSH+INJ/GnS1HdZY42UZyGriw8vfbr9bDF1E5iuxXYdvFs0/fOhvnxC53Zu0PrRArrmX3+hnXz0rfJnGxIZMuNv7Btao36i7i446PayhCb2M1Iav/stt17coXB8PAQwKN1vublTI2g2Cn/H9PzyKxt/T6nih0mWYiND5tSM6pCwFmV1XatP3pw4BzAdugUqgteoYQxGfNR88sL0WIGYwyzIE21SQuy8/oKpZxd1pKX4M29oNQVkDQXalLHK7UgU0/KXuP1Xthh8f8GOq2K+6vqbrfrx66pfrWGNZD0oiyl/8laNim6jHz/KxynS574YJr+0ZPeV8UfUqosDxZGMrZlrUufQEbVDonVmHWPJwKa1e5k8aiCJ/jzgvV/tHL5I33lyz68AhViMakjvS0XBRBaC3jpZFD0Z91ceP8ZKAPLYmlr20cs7HDkEUgRKpeTNthLNNeej7jYpkzQ2cLOko83EFAKDEFsDEv/zulydKtVtcfeSbq2LAqgOpBd6WsQEAEFkFdcc//cu1OGakCAazIRWrRLPcv742CggGmAQQwsO/n4UOg8Ww7q2m0Lg0Xeb8Aq9UG4AIKRKo0vJG0Ky3ozXkrMuAupxT+/b+CYKIAFZSBWRL5ZA6fnqNvccFrNN0iDW/+/ZmUEBUpPp/ZQuI6jetEQgAAAAASUVORK5CYII=\" class=\"ndarray_image_preview\" /><pre class=\"ndarray_raw_data\">array([[124, 129, 128, ..., 218, 218, 211],\n",
              "       [126, 126, 128, ..., 211, 215, 206],\n",
              "       [126, 130, 132, ..., 198, 202, 208],\n",
              "       ...,\n",
              "       [ 69,  67,  66, ..., 101, 101, 101],\n",
              "       [ 68,  68,  68, ..., 101, 102,  97],\n",
              "       [ 67,  67,  68, ..., 102, 104,  93]], dtype=uint8)</pre></div><script>\n",
              "      (() => {\n",
              "      const titles = ['show data', 'hide data'];\n",
              "      let index = 0\n",
              "      document.querySelector('#id-b0e8ec5a-d19f-4f08-bd34-b88856f90dfc button').onclick = (e) => {\n",
              "        document.querySelector('#id-b0e8ec5a-d19f-4f08-bd34-b88856f90dfc').classList.toggle('show_array');\n",
              "        index = (++index) % 2;\n",
              "        document.querySelector('#id-b0e8ec5a-d19f-4f08-bd34-b88856f90dfc button').textContent = titles[index];\n",
              "        e.preventDefault();\n",
              "        e.stopPropagation();\n",
              "      }\n",
              "      })();\n",
              "    </script>"
            ]
          },
          "metadata": {},
          "execution_count": 37
        }
      ]
    },
    {
      "cell_type": "markdown",
      "metadata": {
        "id": "oU-EbsRiW3ss"
      },
      "source": [
        "#### Load DataFrame With Pathes to arrays of cropped faces . To Make Sure !"
      ]
    },
    {
      "cell_type": "code",
      "execution_count": 38,
      "metadata": {
        "id": "XEB87wsoLYFg"
      },
      "outputs": [],
      "source": [
        "df = pd.read_csv('data/output/csv/Cropped-Faces-DataFrame-from-4.7.0.csv')"
      ]
    },
    {
      "cell_type": "code",
      "execution_count": 39,
      "metadata": {
        "colab": {
          "base_uri": "https://localhost:8080/"
        },
        "id": "nbivJfdgVyPh",
        "outputId": "cd066f42-9846-443b-876e-1096ccf44717"
      },
      "outputs": [
        {
          "output_type": "stream",
          "name": "stdout",
          "text": [
            "Shuffled DataFrame:\n",
            "       index            name  \\\n",
            "4869  20287  face_20287.jpg   \n",
            "103     389    face_389.jpg   \n",
            "642    2697   face_2697.jpg   \n",
            "\n",
            "                                                  pixel  emotion  \n",
            "4869  data/output/csv/Cropped Arrays/face_20287.jpg_...        0  \n",
            "103   data/output/csv/Cropped Arrays/face_389.jpg_38...        2  \n",
            "642   data/output/csv/Cropped Arrays/face_2697.jpg_2...        5  \n"
          ]
        }
      ],
      "source": [
        "shuffled = df.sample(frac=1, random_state=1)\n",
        "print(\"Shuffled DataFrame:\\n\", shuffled.head(3))"
      ]
    },
    {
      "cell_type": "code",
      "execution_count": 40,
      "metadata": {
        "id": "aLOGVZu5VuAk"
      },
      "outputs": [],
      "source": [
        "shuffled.set_index('index', inplace=True)"
      ]
    },
    {
      "cell_type": "code",
      "execution_count": 41,
      "metadata": {
        "colab": {
          "base_uri": "https://localhost:8080/"
        },
        "id": "ATjZcdllVt1q",
        "outputId": "202b0634-e80b-4328-8713-ff00713af34e"
      },
      "outputs": [
        {
          "output_type": "stream",
          "name": "stdout",
          "text": [
            "Shuffled DataFrame:\n",
            "                  name                                              pixel  \\\n",
            "index                                                                      \n",
            "20287  face_20287.jpg  data/output/csv/Cropped Arrays/face_20287.jpg_...   \n",
            "389      face_389.jpg  data/output/csv/Cropped Arrays/face_389.jpg_38...   \n",
            "2697    face_2697.jpg  data/output/csv/Cropped Arrays/face_2697.jpg_2...   \n",
            "\n",
            "       emotion  \n",
            "index           \n",
            "20287        0  \n",
            "389          2  \n",
            "2697         5  \n"
          ]
        }
      ],
      "source": [
        "print(\"Shuffled DataFrame:\\n\", shuffled.head(3))"
      ]
    },
    {
      "cell_type": "code",
      "execution_count": 42,
      "metadata": {
        "colab": {
          "base_uri": "https://localhost:8080/",
          "height": 1000
        },
        "id": "g2TgLlZLLLZx",
        "outputId": "c3ae7e0b-08aa-473c-dd66-3390778754f3"
      },
      "outputs": [
        {
          "output_type": "stream",
          "name": "stdout",
          "text": [
            "Loaded array for face_20287.jpg from data/output/csv/Cropped Arrays/face_20287.jpg_20287.npy\n",
            "\n",
            "  -->> Emotion Label -->>  0 \n"
          ]
        },
        {
          "output_type": "display_data",
          "data": {
            "text/plain": [
              "<Figure size 640x480 with 1 Axes>"
            ],
            "image/png": "[encoded data removed]"
          },
          "metadata": {}
        },
        {
          "output_type": "stream",
          "name": "stdout",
          "text": [
            "Loaded array for face_389.jpg from data/output/csv/Cropped Arrays/face_389.jpg_389.npy\n",
            "\n",
            "  -->> Emotion Label -->>  2 \n"
          ]
        },
        {
          "output_type": "display_data",
          "data": {
            "text/plain": [
              "<Figure size 640x480 with 1 Axes>"
            ],
            "image/png": "[encoded data removed]"
          },
          "metadata": {}
        },
        {
          "output_type": "stream",
          "name": "stdout",
          "text": [
            "Loaded array for face_2697.jpg from data/output/csv/Cropped Arrays/face_2697.jpg_2697.npy\n",
            "\n",
            "  -->> Emotion Label -->>  5 \n"
          ]
        },
        {
          "output_type": "display_data",
          "data": {
            "text/plain": [
              "<Figure size 640x480 with 1 Axes>"
            ],
            "image/png": "[encoded data removed]"
          },
          "metadata": {}
        },
        {
          "output_type": "stream",
          "name": "stdout",
          "text": [
            "Loaded array for face_8361.jpg from data/output/csv/Cropped Arrays/face_8361.jpg_8361.npy\n",
            "\n",
            "  -->> Emotion Label -->>  4 \n"
          ]
        },
        {
          "output_type": "display_data",
          "data": {
            "text/plain": [
              "<Figure size 640x480 with 1 Axes>"
            ],
            "image/png": "[encoded data removed]"
          },
          "metadata": {}
        },
        {
          "output_type": "stream",
          "name": "stdout",
          "text": [
            "Loaded array for face_29085.jpg from data/output/csv/Cropped Arrays/face_29085.jpg_29085.npy\n",
            "\n",
            "  -->> Emotion Label -->>  0 \n"
          ]
        },
        {
          "output_type": "display_data",
          "data": {
            "text/plain": [
              "<Figure size 640x480 with 1 Axes>"
            ],
            "image/png": "[encoded data removed]"
          },
          "metadata": {}
        },
        {
          "output_type": "stream",
          "name": "stdout",
          "text": [
            "Loaded array for face_15636.jpg from data/output/csv/Cropped Arrays/face_15636.jpg_15636.npy\n",
            "\n",
            "  -->> Emotion Label -->>  3 \n"
          ]
        },
        {
          "output_type": "display_data",
          "data": {
            "text/plain": [
              "<Figure size 640x480 with 1 Axes>"
            ],
            "image/png": "[encoded data removed]"
          },
          "metadata": {}
        },
        {
          "output_type": "stream",
          "name": "stdout",
          "text": [
            "Loaded array for face_4434.jpg from data/output/csv/Cropped Arrays/face_4434.jpg_4434.npy\n",
            "\n",
            "  -->> Emotion Label -->>  0 \n"
          ]
        },
        {
          "output_type": "display_data",
          "data": {
            "text/plain": [
              "<Figure size 640x480 with 1 Axes>"
            ],
            "image/png": "[encoded data removed]"
          },
          "metadata": {}
        },
        {
          "output_type": "stream",
          "name": "stdout",
          "text": [
            "Loaded array for face_17406.jpg from data/output/csv/Cropped Arrays/face_17406.jpg_17406.npy\n",
            "\n",
            "  -->> Emotion Label -->>  3 \n"
          ]
        },
        {
          "output_type": "display_data",
          "data": {
            "text/plain": [
              "<Figure size 640x480 with 1 Axes>"
            ],
            "image/png": "[encoded data removed]"
          },
          "metadata": {}
        },
        {
          "output_type": "stream",
          "name": "stdout",
          "text": [
            "Loaded array for face_20688.jpg from data/output/csv/Cropped Arrays/face_20688.jpg_20688.npy\n",
            "\n",
            "  -->> Emotion Label -->>  3 \n"
          ]
        },
        {
          "output_type": "display_data",
          "data": {
            "text/plain": [
              "<Figure size 640x480 with 1 Axes>"
            ],
            "image/png": "[encoded data removed]"
          },
          "metadata": {}
        },
        {
          "output_type": "stream",
          "name": "stdout",
          "text": [
            "Loaded array for face_14399.jpg from data/output/csv/Cropped Arrays/face_14399.jpg_14399.npy\n",
            "\n",
            "  -->> Emotion Label -->>  3 \n"
          ]
        },
        {
          "output_type": "display_data",
          "data": {
            "text/plain": [
              "<Figure size 640x480 with 1 Axes>"
            ],
            "image/png": "[encoded data removed]"
          },
          "metadata": {}
        }
      ],
      "source": [
        "def load_array_from_path(path):\n",
        "    return np.load(path)\n",
        "df = shuffled\n",
        "i = 0\n",
        "lim = 10\n",
        "# Loop through the DataFrame and load arrays\n",
        "for idx, row in df.iterrows():\n",
        "    i += 1\n",
        "    array_path = row['pixel']\n",
        "    array = load_array_from_path(f\"data/output/csv/Cropped Arrays/face_{idx}.jpg_{idx}.npy\")\n",
        "    print(f\"Loaded array for {row['name']} from {array_path}\" )\n",
        "    print('\\n', f\" -->> Emotion Label -->>  {row['emotion']} \")\n",
        "    plt.imshow(array)\n",
        "    plt.show()\n",
        "    if i == lim:\n",
        "      break\n"
      ]
    },
    {
      "cell_type": "code",
      "execution_count": 45,
      "metadata": {
        "colab": {
          "base_uri": "https://localhost:8080/"
        },
        "id": "lORORcudX1fA",
        "outputId": "9201ac09-70e6-4cbb-d94c-586f2ea826fa"
      },
      "outputs": [
        {
          "output_type": "stream",
          "name": "stdout",
          "text": [
            " The Final DataSet is 'Cropped-Faces-DataFrame-from-4.7.0.csv' \n",
            "                           And\n",
            "           'Cropped-Faces-DataFrame-from-4.7.0.zip' \n",
            "\n",
            "                    ^        ^          ^\n",
            "                    ^        ^          ^ \n",
            "                    |        |          | \n",
            "              \n",
            "Now We Have Path to Our Images Which All of them Now Are Can be followd and will have been locating!!\n",
            "\n"
          ]
        }
      ],
      "source": [
        "print(\" The Final DataSet is 'Cropped-Faces-DataFrame-from-4.7.0.csv' \")\n",
        "print(\"                           And\")\n",
        "print(\"           'Cropped-Faces-DataFrame-from-4.7.0.zip' \")\n",
        "print('')\n",
        "print('                    ^        ^          ^')\n",
        "print('                    ^        ^          ^ ')\n",
        "print('                    |        |          | ')\n",
        "print('              ')\n",
        "print(\"   Now We Have Path to Our Images Which All of them Now Are Can be followd and will have been locating!!\")\n",
        "print('')"
      ]
    }
  ],
  "metadata": {
    "accelerator": "GPU",
    "colab": {
      "gpuType": "T4",
      "provenance": []
    },
    "kernelspec": {
      "display_name": "Python 3",
      "name": "python3"
    },
    "language_info": {
      "name": "python"
    }
  },
  "nbformat": 4,
  "nbformat_minor": 0
}