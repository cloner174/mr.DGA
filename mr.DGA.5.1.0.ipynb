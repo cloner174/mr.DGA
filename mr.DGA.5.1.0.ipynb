{
 "cells": [
  {
   "cell_type": "code",
   "execution_count": 1,
   "metadata": {},
   "outputs": [],
   "source": [
    "import pandas as pd\n",
    "\n",
    "import matplotlib.pyplot as plt\n",
    "\n",
    "import numpy as np"
   ]
  },
  {
   "cell_type": "code",
   "execution_count": null,
   "metadata": {},
   "outputs": [],
   "source": [
    "df = pd.read_csv('data/Cropped-Faces-DataFrame-from-4.7.0.csv')\n",
    "path_to_cropped_faces = 'data/Cropped-Faces-DataFrame-from-4.7.0.zip'"
   ]
  },
  {
   "cell_type": "code",
   "execution_count": null,
   "metadata": {},
   "outputs": [],
   "source": [
    "!unzip 'data/Cropped-Faces-DataFrame-from-4.7.0.zip' -d 'data/'"
   ]
  },
  {
   "cell_type": "code",
   "execution_count": null,
   "metadata": {},
   "outputs": [],
   "source": [
    "def load_array_from_path(path):\n",
    "    return np.load(path)\n",
    "\n",
    "i = 0\n",
    "lim = 10\n",
    "\n",
    "# Loop through the DataFrame and load arrays\n",
    "for idx, row in df.iterrows():\n",
    "    i += 1\n",
    "    array_path = row['pixel']\n",
    "    array = load_array_from_path(f\"data/output/csv/Cropped Arrays/face_{idx}.jpg_{idx}.npy\")\n",
    "    print(f\"Loaded array for {row['name']} from {array_path}\" )\n",
    "    print('\\n', f\" -->> Emotion Label -->>  {row['emotion']} \")\n",
    "    plt.imshow(array)\n",
    "    plt.show()\n",
    "    if i == lim:\n",
    "      break\n"
   ]
  },
  {
   "cell_type": "code",
   "execution_count": null,
   "metadata": {},
   "outputs": [],
   "source": []
  }
 ],
 "metadata": {
  "kernelspec": {
   "display_name": "Python 3",
   "language": "python",
   "name": "python3"
  },
  "language_info": {
   "codemirror_mode": {
    "name": "ipython",
    "version": 3
   },
   "file_extension": ".py",
   "mimetype": "text/x-python",
   "name": "python",
   "nbconvert_exporter": "python",
   "pygments_lexer": "ipython3",
   "version": "3.11.9"
  }
 },
 "nbformat": 4,
 "nbformat_minor": 2
}
